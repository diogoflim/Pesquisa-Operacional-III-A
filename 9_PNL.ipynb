{
 "cells": [
  {
   "attachments": {},
   "cell_type": "markdown",
   "metadata": {},
   "source": [
    "[![Open In Colab](https://colab.research.google.com/assets/colab-badge.svg)](https://colab.research.google.com/github/diogoflim/Pesquisa-Operacional-III-A/blob/main/9_PNL.ipynb)"
   ]
  },
  {
   "cell_type": "markdown",
   "metadata": {},
   "source": [
    "## **Pesquisa Operacional III-A**\n",
    "\n",
    "**Professores:**\n",
    "- Diogo Ferreira de Lima Silva (TEP-UFF)\n",
    "- Marcos Costa Roboredo (TEP-UFF)\n"
   ]
  },
  {
   "attachments": {},
   "cell_type": "markdown",
   "metadata": {},
   "source": [
    "# Programação Não Linear\n",
    "\n",
    "Para resolver os problemas de PNL em uma ferramenta computacional, precisamos de uma linguagem de modelagem matemática e um solver. \n",
    "\n",
    "Vimos anteriormente alguns exemplos de modelagem e Pyomo com posterior uso do solver Gurobi. \n",
    "\n",
    "A boa notícia é que podemos continuar usando o mesmo framework de modelagem. A única diferença é que precisaremos de um resolvedor diferente."
   ]
  },
  {
   "cell_type": "markdown",
   "metadata": {},
   "source": [
    "## Instalação das bibliotecas"
   ]
  },
  {
   "cell_type": "markdown",
   "metadata": {},
   "source": [
    "Inicialmente, se estiver trabalhando no *Google Colab*, você precisará instalar a biblioteca Pyomo. \n",
    "\n",
    "Neste caso, execute o bloco de código abaixo."
   ]
  },
  {
   "cell_type": "code",
   "execution_count": null,
   "metadata": {},
   "outputs": [],
   "source": [
    "!pip install pyomo # Instala o Pyomo no ambiente de execução"
   ]
  },
  {
   "cell_type": "markdown",
   "metadata": {},
   "source": [
    "Em seguida, para a instalação do *solver*. Nesta aula, utilizaremo o **ipopt** (Interior Point OPTimizer).\n",
    "\n",
    "Para mais informações, acesse: https://github.com/coin-or/Ipopt\n",
    "\n",
    "Para a instalção, execute as duas células abaixo:"
   ]
  },
  {
   "cell_type": "code",
   "execution_count": null,
   "metadata": {},
   "outputs": [],
   "source": [
    "!wget -N -q \"https://matematica.unipv.it/gualandi/solvers/ipopt-linux64.zip\""
   ]
  },
  {
   "cell_type": "code",
   "execution_count": null,
   "metadata": {},
   "outputs": [],
   "source": [
    "!unzip -o -q ipopt-linux64"
   ]
  },
  {
   "cell_type": "markdown",
   "metadata": {},
   "source": [
    "## Introdução -  Modelando um problema de PNL"
   ]
  },
  {
   "cell_type": "markdown",
   "metadata": {},
   "source": [
    "Precisamos importar a biblioteca:"
   ]
  },
  {
   "cell_type": "code",
   "execution_count": null,
   "metadata": {},
   "outputs": [],
   "source": [
    "import pyomo.environ as pe "
   ]
  },
  {
   "cell_type": "markdown",
   "metadata": {},
   "source": [
    "### Criação do Modelo\n",
    "\n",
    "Para a criação do modelo, devemos inicialmente instanciá-lo e atribuí-lo a uma variável. \n",
    "\n",
    "Chamaremos nosso modelo de M."
   ]
  },
  {
   "cell_type": "code",
   "execution_count": null,
   "metadata": {},
   "outputs": [],
   "source": [
    "# MODELO\n",
    "M = pe.ConcreteModel() "
   ]
  },
  {
   "cell_type": "markdown",
   "metadata": {},
   "source": [
    "### Variáveis\n",
    "\n",
    "Vamos criar as variáveis do nosso modelo. Para isso, usamos o método $pe.Var$. \n",
    "\n",
    "Podemos inclusive indicar já neste moomento um domínio para as variáveis.\n",
    "\n",
    "Neste caso, criaremos indicando que são números reais não negativos.\n",
    "\n",
    "Seria possível ainda indicar um limitante superior, caso necessário. Por exemplo, poderiamos definir uma variável entre 0 e 3 com o parâmetro: $bounds=(0, 6)$,"
   ]
  },
  {
   "cell_type": "code",
   "execution_count": null,
   "metadata": {},
   "outputs": [],
   "source": [
    "x = M.x = pe.Var(domain= pe.NonNegativeReals) # Definindo a variável x\n",
    "y = M.y = pe.Var(domain= pe.NonNegativeReals) # Definindo a variável y"
   ]
  },
  {
   "cell_type": "markdown",
   "metadata": {},
   "source": [
    "### Função Objetivo\n",
    "\n",
    "A função objetivo é definida com o método pe.Objective. Devemos indicar se o problema é de maximização ou minimização, além da expressão da FO."
   ]
  },
  {
   "cell_type": "code",
   "execution_count": null,
   "metadata": {},
   "outputs": [],
   "source": [
    "z = M.z = pe.Objective(expr= -3 * x**2 + y, sense= pe.maximize) # Definindo a função objetivo"
   ]
  },
  {
   "cell_type": "markdown",
   "metadata": {},
   "source": [
    "### Restrições\n",
    "\n",
    "As restrições do modelo são incluídas com o método pe.Constraint. Vejamos o exemplo abaixo para uma função chamada de $R1$:"
   ]
  },
  {
   "cell_type": "code",
   "execution_count": null,
   "metadata": {},
   "outputs": [],
   "source": [
    "# RESTRIÇÃO\n",
    "M.R1 = pe.Constraint(expr= x**2 + y**2 <= 1) \n"
   ]
  },
  {
   "cell_type": "markdown",
   "metadata": {},
   "source": [
    "### Resolução\n",
    "\n",
    "O modelo de PNL deve ser resolvido com um *solver* apropriado. O Pyomo é apenas um framework que apresenta uma linguagem para modelagem. No entanto, ele não resolve os problemas.\n",
    "\n",
    "Por outro lado, o Pyomo possui integração com uma vasta quantidade de solvers. Dentre eles, está o **ipopt**, um solver apropriado para problemas de Programação Não Linear em que a função objetivo e as restrições são compostas por equações duas vezes diferenciáveis.\n"
   ]
  },
  {
   "cell_type": "code",
   "execution_count": null,
   "metadata": {},
   "outputs": [],
   "source": [
    "pe.SolverFactory('ipopt').solve(M)\n",
    "\n",
    "# Imprimindo o resultado na tela\n",
    "print(f\"z= {pe.value(M.z)}\\nx= {pe.value(M.x)}\\ny= {pe.value(M.y)}\")"
   ]
  },
  {
   "cell_type": "markdown",
   "metadata": {},
   "source": [
    "## Um Problema Irrestrito com uma variável\n",
    "\n",
    "$$\\max{f(x_1, x_2)} = 12x - 3x^4 - 2x^6 $$\n"
   ]
  },
  {
   "cell_type": "code",
   "execution_count": null,
   "metadata": {},
   "outputs": [],
   "source": [
    "M = pe.ConcreteModel() \n",
    "x = M.x = pe.Var()\n",
    "M.f = pe.Objective(expr=  12*x + 3 * x**4 + 2*x**6, sense= pe.maximize) \n",
    "pe.SolverFactory('ipopt').solve(M)\n",
    "\n",
    "# Imprimindo o resultado na tela\n",
    "print(f\"f(x[1], x[2])= {pe.value(M.z)}\\nx= {pe.value(M.x)}\")"
   ]
  },
  {
   "cell_type": "markdown",
   "metadata": {},
   "source": [
    "## Um Problema Irrestrito com 2 variáveis\n",
    "\n",
    "$$\\max{f(x_1, x_2)} = 2x_1x_2 + 2x_2 - x_1^2 - 2x_2^2$$\n"
   ]
  },
  {
   "cell_type": "code",
   "execution_count": null,
   "metadata": {},
   "outputs": [],
   "source": [
    "M = pe.ConcreteModel() \n",
    "M.J = pe.Set([1,2])\n",
    "x = M.x = pe.Var(M.J)\n",
    "M.f = pe.Objective(expr=  2*x[1]*x[2] + 2*x[2] - x[1]**2 - 2*x[2]**2, sense= pe.maximize) \n",
    "pe.SolverFactory('ipopt').solve(M)\n",
    "\n",
    "# Imprimindo o resultado na tela\n",
    "print(f\"f(x[1], x[2])= {pe.value(M.z)}\\nx[1]= {pe.value(M.x[1])}\\nx[2]= {pe.value(M.x[2])}\")"
   ]
  },
  {
   "cell_type": "markdown",
   "metadata": {},
   "source": [
    "## Um Problema de Programação Convexa\n",
    "\n",
    "$$\\max{f(x)} = \\ln{(x_1 + 1)} + x_2 $$\n",
    "sujeito a:\n",
    "$$2x_1 + x_2 \\leq 3$$\n",
    "$$x_1 \\geq 0$$\n",
    "$$x_2 \\geq 0$$"
   ]
  },
  {
   "cell_type": "code",
   "execution_count": null,
   "metadata": {},
   "outputs": [],
   "source": [
    "M = pe.ConcreteModel() \n",
    "M.J = pe.Set([1,2])\n",
    "x = M.x = pe.Var(M.J, domain= pe.NonNegativeReals)\n",
    "M.R = pe.Constraint(expr= 2*x[1] + 3*x[2] <= 3)\n",
    "M.f = pe.Objective(expr=  pe.log(x[1] + 1) + x[2], sense= pe.maximize) \n",
    "pe.SolverFactory('ipopt').solve(M)\n",
    "\n",
    "# Imprimindo o resultado na tela\n",
    "print(f\"f(x[1], x[2])= {pe.value(M.z)}\\nx[1]= {pe.value(M.x[1])}\\nx[2]= {pe.value(M.x[2])}\")"
   ]
  },
  {
   "cell_type": "markdown",
   "metadata": {},
   "source": [
    "## Um Problema de Programação Quadrática\n",
    "\n",
    "$$\\max{f(x)} = 15x_1 + 30x_2 + 4x_1x_2 - 2x_1^2 - 4x_2^2$$\n",
    "sujeito a:\n",
    "$$x_1 + 2x_2 \\leq 30$$\n",
    "$$x_1 \\geq 0$$\n",
    "$$x_2 \\geq 0$$"
   ]
  },
  {
   "cell_type": "code",
   "execution_count": null,
   "metadata": {},
   "outputs": [],
   "source": [
    "M = pe.ConcreteModel() \n",
    "M.J = pe.Set([1,2])\n",
    "x = M.x = pe.Var(M.J, domain= pe.NonNegativeReals)\n",
    "M.R = pe.Constraint(expr= x[1] + 2*x[2] <= 30)\n",
    "M.f = pe.Objective(expr=  15*x[1] + 30*x[2] + 4*x[1]*x[2] - 2*x[1]**2 - 4*x[2]**2 , sense= pe.maximize) \n",
    "pe.SolverFactory('ipopt').solve(M)\n",
    "\n",
    "# Imprimindo o resultado na tela\n",
    "print(f\"f(x[1], x[2])= {pe.value(M.z)}\\nx[1]= {pe.value(M.x[1])}\\nx[2]= {pe.value(M.x[2])}\")"
   ]
  },
  {
   "cell_type": "markdown",
   "metadata": {},
   "source": [
    "## Exercício 1 \n",
    "\n",
    "$$\\max{f(x_1, x_2)} = 5x_1 - x_1^2 + 8x_2 - 2x_2^2$$\n",
    "sujeito a:\n",
    "$$3x_1 + 2x_2 \\leq 6$$\n",
    "$$x_1 \\geq 0$$\n",
    "$$x_2 \\geq 0$$"
   ]
  },
  {
   "cell_type": "code",
   "execution_count": 4,
   "metadata": {},
   "outputs": [],
   "source": [
    "# Resolva aqui"
   ]
  },
  {
   "cell_type": "markdown",
   "metadata": {},
   "source": [
    "## Exercício 2\n",
    "\n",
    "$$\\max{f(x_1, x_2)} = 24x_1 - x_1^2 + 10x_2 - x_2^2$$\n",
    "sujeito a:\n",
    "$$x_1 \\leq 10$$\n",
    "$$x_2 \\leq 15$$\n",
    "$$x_1 \\geq 0$$\n",
    "$$x_2 \\geq 0$$"
   ]
  },
  {
   "cell_type": "code",
   "execution_count": null,
   "metadata": {},
   "outputs": [],
   "source": [
    "# Resolva aqui"
   ]
  }
 ],
 "metadata": {
  "kernelspec": {
   "display_name": "base",
   "language": "python",
   "name": "python3"
  },
  "language_info": {
   "codemirror_mode": {
    "name": "ipython",
    "version": 3
   },
   "file_extension": ".py",
   "mimetype": "text/x-python",
   "name": "python",
   "nbconvert_exporter": "python",
   "pygments_lexer": "ipython3",
   "version": "3.9.7"
  },
  "orig_nbformat": 4
 },
 "nbformat": 4,
 "nbformat_minor": 2
}
