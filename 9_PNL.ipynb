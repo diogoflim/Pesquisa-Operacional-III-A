{
 "cells": [
  {
   "attachments": {},
   "cell_type": "markdown",
   "metadata": {},
   "source": [
    "[![Open In Colab](https://colab.research.google.com/assets/colab-badge.svg)](https://colab.research.google.com/github/diogoflim/Pesquisa-Operacional-III-A/blob/main/9_PNL.ipynb)"
   ]
  },
  {
   "cell_type": "markdown",
   "metadata": {},
   "source": [
    "## **Pesquisa Operacional III-A**\n",
    "\n",
    "**Professores:**\n",
    "- Diogo Ferreira de Lima Silva (TEP-UFF)\n",
    "- Marcos Costa Roboredo (TEP-UFF)\n"
   ]
  },
  {
   "attachments": {},
   "cell_type": "markdown",
   "metadata": {},
   "source": [
    "# Programação Não Linear\n",
    "\n",
    "Para resolver os problemas de PNL em uma ferramenta computacional, precisamos de uma linguagem de modelagem matemática e um solver. \n",
    "\n",
    "Vimos anteriormente alguns exemplos de modelagem e Pyomo com posterior uso do solver Gurobi. \n",
    "\n",
    "A boa notícia é que podemos continuar usando o mesmo framework de modelagem. A única diferença é que precisaremos de um resolvedor diferente."
   ]
  },
  {
   "cell_type": "markdown",
   "metadata": {},
   "source": [
    "## Instalação das bibliotecas"
   ]
  },
  {
   "cell_type": "markdown",
   "metadata": {},
   "source": [
    "Inicialmente, se estiver trabalhando no *Google Colab*, você precisará instalar a biblioteca Pyomo. \n",
    "\n",
    "Neste caso, execute o bloco de código abaixo."
   ]
  },
  {
   "cell_type": "code",
   "execution_count": null,
   "metadata": {},
   "outputs": [],
   "source": [
    "!pip install pyomo # Instala o Pyomo no ambiente de execução"
   ]
  },
  {
   "cell_type": "markdown",
   "metadata": {},
   "source": [
    "Em seguida, para a instalação do *solver*, execute as duas células abaixo:"
   ]
  },
  {
   "cell_type": "code",
   "execution_count": null,
   "metadata": {},
   "outputs": [],
   "source": [
    "!wget -N -q \"https://matematica.unipv.it/gualandi/solvers/ipopt-linux64.zip\""
   ]
  },
  {
   "cell_type": "code",
   "execution_count": null,
   "metadata": {},
   "outputs": [],
   "source": [
    "!unzip -o -q ipopt-linux64"
   ]
  },
  {
   "cell_type": "markdown",
   "metadata": {},
   "source": [
    "## Modelando um problema de PNL"
   ]
  },
  {
   "cell_type": "markdown",
   "metadata": {},
   "source": [
    "Precisamos importar a biblioteca:"
   ]
  },
  {
   "cell_type": "code",
   "execution_count": null,
   "metadata": {},
   "outputs": [],
   "source": [
    "import pyomo.environ as pe "
   ]
  },
  {
   "cell_type": "markdown",
   "metadata": {},
   "source": [
    "Modelo"
   ]
  },
  {
   "cell_type": "code",
   "execution_count": null,
   "metadata": {},
   "outputs": [],
   "source": [
    "# MODELO\n",
    "M = pe.ConcreteModel() # Criando o modelo concreto para o nosso problema\n",
    "\n",
    "# VARIÁVEIS\n",
    "x = M.x = pe.Var(domain= pe.PositiveReals) # Definindo a variável x\n",
    "y = M.y = pe.Var(domain= pe.PositiveReals) # Definindo a variável y\n",
    "\n",
    "# FUNÇÃO OBJETIVO\n",
    "z = M.z = pe.Objective(expr= -3 * x**2 + y, sense= pe.maximize) # Definindo a função objetivo\n",
    "\n",
    "# RESTRIÇÃO\n",
    "M.R1 = pe.Constraint(expr= x**2 + y**2 <= 1) # Definindo uma restrição de igualdade\n",
    "\n",
    "\n",
    "# SOLUCIONANDO O MODELO\n",
    "pe.SolverFactory('ipopt').solve(M)\n",
    "\n",
    "# Imprime o resultado\n",
    "print(f\"z= {pe.value(M.z)}\\nx= {pe.value(M.x)}\\ny= {pe.value(M.y)}\")"
   ]
  }
 ],
 "metadata": {
  "kernelspec": {
   "display_name": "base",
   "language": "python",
   "name": "python3"
  },
  "language_info": {
   "codemirror_mode": {
    "name": "ipython",
    "version": 3
   },
   "file_extension": ".py",
   "mimetype": "text/x-python",
   "name": "python",
   "nbconvert_exporter": "python",
   "pygments_lexer": "ipython3",
   "version": "3.9.7"
  },
  "orig_nbformat": 4
 },
 "nbformat": 4,
 "nbformat_minor": 2
}
