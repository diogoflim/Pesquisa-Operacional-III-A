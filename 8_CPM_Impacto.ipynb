{
 "cells": [
  {
   "attachments": {},
   "cell_type": "markdown",
   "metadata": {},
   "source": [
    "[![Open In Colab](https://colab.research.google.com/assets/colab-badge.svg)](https://colab.research.google.com/github/diogoflim/Pesquisa-Opercional-III-A/blob/main/8_CPM_Impacto.ipynb)"
   ]
  },
  {
   "attachments": {},
   "cell_type": "markdown",
   "metadata": {},
   "source": [
    "# Gestão de Impacto em Projetos"
   ]
  },
  {
   "cell_type": "code",
   "execution_count": null,
   "metadata": {},
   "outputs": [
    {
     "name": "stdout",
     "output_type": "stream",
     "text": [
      "z= 28.0\n",
      "x_A = 1.0\n",
      "x_G = 1.0\n",
      "x_H = 2.0\n"
     ]
    }
   ],
   "source": [
    "# MODELO\n",
    "M = pe.ConcreteModel() # Criando o modelo concreto para o nosso problema\n",
    "\n",
    "#Atividades\n",
    "A = M.atividades = pe.Set(initialize= [\"A\", \"B\", \"C\", \"D\", \"E\", \"F\", \"G\", \"H\"])\n",
    "A_ = M.atividades_sem_predecessores = pe.Set(initialize= [\"C\", \"D\", \"E\", \"F\", \"G\", \"H\", \"T\"])\n",
    "\n",
    "# Parâmetros\n",
    "M.c_impacto = pe.Param(M.atividades, initialize={\"A\": 6, \"B\": 12, \"C\": 4, \"D\": 7, \"E\": 10, \"F\": 9, \"G\": 6, \"H\": 8})\n",
    "M.t_normal = pe.Param(M.atividades, initialize={\"A\": 5, \"B\": 3, \"C\": 4, \"D\": 6, \"E\": 5, \"F\": 7, \"G\": 9, \"H\": 8})\n",
    "M.t_impacto = pe.Param(M.atividades, initialize={\"A\": 2, \"B\": 1, \"C\": 2, \"D\": 3, \"E\": 1, \"F\": 3, \"G\": 4, \"H\": 2}) \n",
    "\n",
    "# VARIÁVEIS\n",
    "M.x = pe.Var(A, domain= pe.PositiveReals) # Definindo a variável x\n",
    "M.y = pe.Var(A_, domain= pe.PositiveReals) # Definindo a variável y\n",
    "\n",
    "# FUNÇÃO OBJETIVO\n",
    "z = M.z = pe.Objective(rule = lambda M: sum(M.x[i] * M.c_impacto[i] for i in M.atividades), sense = pe.minimize) # Definindo a função objetivo\n",
    "\n",
    "# RESTRIÇÃO\n",
    "M.R1 = pe.Constraint(A, expr= lambda M, i: M.x[i] <= M.t_impacto[i]) # Definindo uma restrição de igualdade\n",
    "\n",
    "M.R_CA = pe.Constraint(expr= M.y[\"C\"] >= 0 + M.t_normal[\"A\"] - M.x[\"A\"])\n",
    "M.R_DA = pe.Constraint(expr= M.y[\"D\"] >= 0 + M.t_normal[\"A\"] - M.x[\"A\"])\n",
    "M.R_EB = pe.Constraint(expr= M.y[\"E\"] >= 0 + M.t_normal[\"B\"] - M.x[\"B\"])\n",
    "M.R_FB = pe.Constraint(expr= M.y[\"F\"] >= 0 + M.t_normal[\"B\"] - M.x[\"B\"])\n",
    "\n",
    "M.R_GC = pe.Constraint(expr= M.y[\"G\"] >= M.y[\"C\"] + M.t_normal[\"C\"] - M.x[\"C\"])\n",
    "M.R_GE = pe.Constraint(expr= M.y[\"G\"] >= M.y[\"E\"] + M.t_normal[\"E\"] - M.x[\"E\"])\n",
    "\n",
    "\n",
    "M.R_HD = pe.Constraint(expr= M.y[\"H\"] >= M.y[\"D\"] + M.t_normal[\"D\"] - M.x[\"D\"])\n",
    "M.R_HF = pe.Constraint(expr= M.y[\"H\"] >= M.y[\"F\"] + M.t_normal[\"F\"] - M.x[\"F\"])\n",
    "\n",
    "M.R_TG = pe.Constraint(expr= M.y[\"T\"] >= M.y[\"G\"] + M.t_normal[\"G\"] - M.x[\"G\"])\n",
    "M.R_TH = pe.Constraint(expr= M.y[\"T\"] >= M.y[\"H\"] + M.t_normal[\"H\"] - M.x[\"H\"])\n",
    "\n",
    "M.Termino = pe.Constraint(expr = M.y[\"T\"]<=16)\n",
    "\n",
    "# SOLUCIONANDO O MODELO\n",
    "pe.SolverFactory('glpk').solve(M)\n",
    "\n",
    "# Imprime o resultado\n",
    "print(f\"z= {pe.value(M.z)}\")\n",
    "for k in M.x.keys(): \n",
    "    if pe.value(M.x[k]) > 0: \n",
    "        print (f\"x_{k} = {pe.value(M.x[k])}\")"
   ]
  }
 ],
 "metadata": {
  "language_info": {
   "name": "python"
  },
  "orig_nbformat": 4
 },
 "nbformat": 4,
 "nbformat_minor": 2
}
