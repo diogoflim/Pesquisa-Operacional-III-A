{
 "cells": [
  {
   "attachments": {},
   "cell_type": "markdown",
   "metadata": {},
   "source": [
    "[![Open In Colab](https://colab.research.google.com/assets/colab-badge.svg)](https://colab.research.google.com/github/diogoflim/Pesquisa-Operacional-III-A/blob/main/8_CPM_Impacto.ipynb)"
   ]
  },
  {
   "attachments": {},
   "cell_type": "markdown",
   "metadata": {},
   "source": [
    "# Gestão de Impacto em Projetos"
   ]
  },
  {
   "cell_type": "code",
   "execution_count": null,
   "metadata": {},
   "outputs": [],
   "source": [
    "#Execute esse bloco caso esteja executando no Google Colab\n",
    "!pip install -q pyomo\n",
    "!apt-get install -y -qq coinor-cbc #instalação do solver gratuito"
   ]
  },
  {
   "cell_type": "code",
   "execution_count": null,
   "metadata": {},
   "outputs": [],
   "source": [
    "import pyomo.environ as pe"
   ]
  },
  {
   "cell_type": "markdown",
   "metadata": {},
   "source": [
    "### Exercício\n",
    "\n",
    "Considere o problema de gerenciamento de projetos onde diversas atividades precisam ser executadas respeitando certos predecessores e limitações de tempo. \n",
    "\n",
    "Para cada uma das atividades \"A\" até \"H\", foram coletados: \n",
    "\n",
    "- o custo por período impactado;\n",
    "- o número máximo de períodos que esta pode ser impactada para acelerar o seu término; \n",
    "- um tempo normal associado. \n",
    "\n",
    "O objetivo é minimizar o custo total de impacto, respeitando as restrições de tempo de predecessores, o tempo máximo que pode ser impactado e o tempo de entrega do projeto. \n",
    "\n",
    "Resolva com o Pyomo.\n",
    "\n",
    "\n",
    "| Atividade | Precedências Diretas |\n",
    "|-----------|----------------------|\n",
    "| C         | A                    |\n",
    "| D         | A                    |\n",
    "| E         | B                    |\n",
    "| F         | B                    |\n",
    "| G         | C, E                 |\n",
    "| H         | D, F                 |\n",
    "| T         | G, H                 |\n",
    "\n",
    "\n",
    "T indica o nó fictício de término do projeto. Para C iniciar, A deve ser concluída, e assim sucessivamente.\n",
    "\n",
    "\n",
    "Parâmetros:\n",
    "\n",
    "\n",
    "\n",
    "| Atividade | Custo do Impacto por Período | Tempo Normal | Redução Máxima de Tempo |\n",
    "|-----------|------------------------------|--------------|-------------------------|\n",
    "| A         | 6                            | 5            | 2                       |\n",
    "| B         | 12                           | 3            | 1                       |\n",
    "| C         | 4                            | 4            | 2                       |\n",
    "| D         | 7                            | 6            | 3                       |\n",
    "| E         | 10                           | 5            | 1                       |\n",
    "| F         | 9                            | 7            | 3                       |\n",
    "| G         | 6                            | 9            | 4                       |\n",
    "| H         | 8                            | 8            | 2                       |"
   ]
  },
  {
   "cell_type": "code",
   "execution_count": null,
   "metadata": {},
   "outputs": [],
   "source": [
    "# MODELO\n",
    "M = pe.ConcreteModel() # Criando o modelo concreto para o nosso problema\n",
    "\n",
    "#Atividades\n",
    "A = M.atividades = pe.Set(initialize= [\"A\", \"B\", \"C\", \"D\", \"E\", \"F\", \"G\", \"H\"])\n",
    "A_ = M.atividades_com_predecessores = pe.Set(initialize= [\"C\", \"D\", \"E\", \"F\", \"G\", \"H\", \"T\"])\n",
    "\n",
    "# Parâmetros\n",
    "M.c_impacto = pe.Param(M.atividades, initialize={\"A\": 6, \"B\": 12, \"C\": 4, \"D\": 7, \"E\": 10, \"F\": 9, \"G\": 6, \"H\": 8})\n",
    "M.t_normal = pe.Param(M.atividades, initialize={\"A\": 5, \"B\": 3, \"C\": 4, \"D\": 6, \"E\": 5, \"F\": 7, \"G\": 9, \"H\": 8})\n",
    "M.t_que_posso_impactar = pe.Param(M.atividades, initialize={\"A\": 2, \"B\": 1, \"C\": 2, \"D\": 3, \"E\": 1, \"F\": 3, \"G\": 4, \"H\": 2}) \n",
    "\n",
    "# VARIÁVEIS\n",
    "M.x = pe.Var(A, domain= pe.PositiveReals) # Definindo a variável x\n",
    "M.y = pe.Var(A_, domain= pe.PositiveReals) # Definindo a variável y\n",
    "\n",
    "# FUNÇÃO OBJETIVO\n",
    "z = M.z = pe.Objective(rule = lambda M: sum(M.x[i] * M.c_impacto[i] for i in M.atividades), sense = pe.minimize) # Definindo a função objetivo\n",
    "\n",
    "# RESTRIÇÃO\n",
    "M.R1 = pe.Constraint(A, expr= lambda M, i: M.x[i] <= M.t_que_posso_impactar[i]) # Definindo uma restrição de igualdade\n",
    "\n",
    "M.R_CA = pe.Constraint(expr= M.y[\"C\"] >= 0 + M.t_normal[\"A\"] - M.x[\"A\"])\n",
    "M.R_DA = pe.Constraint(expr= M.y[\"D\"] >= 0 + M.t_normal[\"A\"] - M.x[\"A\"])\n",
    "M.R_EB = pe.Constraint(expr= M.y[\"E\"] >= 0 + M.t_normal[\"B\"] - M.x[\"B\"])\n",
    "M.R_FB = pe.Constraint(expr= M.y[\"F\"] >= 0 + M.t_normal[\"B\"] - M.x[\"B\"])\n",
    "\n",
    "M.R_GC = pe.Constraint(expr= M.y[\"G\"] >= M.y[\"C\"] + M.t_normal[\"C\"] - M.x[\"C\"])\n",
    "M.R_GE = pe.Constraint(expr= M.y[\"G\"] >= M.y[\"E\"] + M.t_normal[\"E\"] - M.x[\"E\"])\n",
    "\n",
    "\n",
    "M.R_HD = pe.Constraint(expr= M.y[\"H\"] >= M.y[\"D\"] + M.t_normal[\"D\"] - M.x[\"D\"])\n",
    "M.R_HF = pe.Constraint(expr= M.y[\"H\"] >= M.y[\"F\"] + M.t_normal[\"F\"] - M.x[\"F\"])\n",
    "\n",
    "M.R_TG = pe.Constraint(expr= M.y[\"T\"] >= M.y[\"G\"] + M.t_normal[\"G\"] - M.x[\"G\"])\n",
    "M.R_TH = pe.Constraint(expr= M.y[\"T\"] >= M.y[\"H\"] + M.t_normal[\"H\"] - M.x[\"H\"])\n",
    "\n",
    "M.Termino = pe.Constraint(expr = M.y[\"T\"]<=16)\n",
    "\n",
    "# SOLUCIONANDO O MODELO\n",
    "pe.SolverFactory('cbc').solve(M)\n",
    "\n",
    "# Imprime o resultado\n",
    "print(f\"z= {pe.value(M.z)}\")\n",
    "for k in M.x.keys(): \n",
    "    if pe.value(M.x[k]) > 0: \n",
    "        print (f\"x_{k} = {pe.value(M.x[k])}\")"
   ]
  }
 ],
 "metadata": {
  "kernelspec": {
   "display_name": "Python 3",
   "language": "python",
   "name": "python3"
  },
  "language_info": {
   "codemirror_mode": {
    "name": "ipython",
    "version": 3
   },
   "file_extension": ".py",
   "mimetype": "text/x-python",
   "name": "python",
   "nbconvert_exporter": "python",
   "pygments_lexer": "ipython3",
   "version": "3.9.7"
  },
  "orig_nbformat": 4
 },
 "nbformat": 4,
 "nbformat_minor": 2
}
