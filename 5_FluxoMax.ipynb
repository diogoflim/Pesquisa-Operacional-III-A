{
 "cells": [
  {
   "attachments": {},
   "cell_type": "markdown",
   "metadata": {},
   "source": [
    "[![Open In Colab](https://colab.research.google.com/assets/colab-badge.svg)](https://colab.research.google.com/github/diogoflim/PO_II/blob/main/5_FluxoMax.ipynb)"
   ]
  },
  {
   "cell_type": "code",
   "execution_count": null,
   "metadata": {},
   "outputs": [],
   "source": [
    "import networkx as nx\n",
    "import matplotlib.pyplot as plt"
   ]
  },
  {
   "cell_type": "code",
   "execution_count": null,
   "metadata": {},
   "outputs": [],
   "source": [
    "# Cria um objeto de grafo direcionado\n",
    "G = nx.DiGraph()\n",
    "\n",
    "# Adiciona nós ao grafo\n",
    "G.add_node('s')  # Nó fonte\n",
    "G.add_node('a')\n",
    "G.add_node('b')\n",
    "G.add_node('c')\n",
    "G.add_node('d')\n",
    "G.add_node('t')  # Nó destino\n",
    "\n",
    "# Adiciona arestas ao grafo com suas capacidades\n",
    "G.add_edge('s', 'a', capacidade=3)\n",
    "G.add_edge('s', 'b', capacidade=2)\n",
    "G.add_edge('a', 'b', capacidade=1)\n",
    "G.add_edge('a', 'c', capacidade=3)\n",
    "G.add_edge('b', 'd', capacidade=2)\n",
    "G.add_edge('c', 'd', capacidade=2)\n",
    "G.add_edge('c', 't', capacidade=3)\n",
    "G.add_edge('d', 't', capacidade=3)\n"
   ]
  },
  {
   "cell_type": "code",
   "execution_count": null,
   "metadata": {},
   "outputs": [],
   "source": [
    "# Desenha o grafo com os rótulos de capacidade nas arestas\n",
    "\n",
    "pos =  nx.spring_layout(G)\n",
    "nx.draw_networkx(G, pos, with_labels=True, node_size = 800)\n",
    "aresta_rotulos = {(u, v): d['capacidade'] for u, v, d in G.edges(data=True)}\n",
    "nx.draw_networkx_edge_labels(G, pos, edge_labels=aresta_rotulos, font_color='red')\n",
    "plt.show()\n"
   ]
  },
  {
   "attachments": {},
   "cell_type": "markdown",
   "metadata": {},
   "source": [
    "### Fluxo Máximo"
   ]
  },
  {
   "cell_type": "code",
   "execution_count": null,
   "metadata": {},
   "outputs": [],
   "source": [
    "# Calcula o fluxo máximo\n",
    "fluxo_max, fluxo_dict = nx.maximum_flow(G, 's', 't', capacity = 'capacidade')\n"
   ]
  },
  {
   "cell_type": "code",
   "execution_count": null,
   "metadata": {},
   "outputs": [],
   "source": [
    "# Imprime os resultados\n",
    "print(\"Fluxo máximo:\", fluxo_max)\n",
    "print(\"Dicionário de fluxo:\", fluxo_dict)\n"
   ]
  },
  {
   "attachments": {},
   "cell_type": "markdown",
   "metadata": {},
   "source": [
    "### Corte Mínimo"
   ]
  },
  {
   "cell_type": "code",
   "execution_count": null,
   "metadata": {},
   "outputs": [],
   "source": [
    "# Corte mínimo\n",
    "corte_min, part = nx.minimum_cut(G, 's', 't', capacity = 'capacidade')"
   ]
  },
  {
   "cell_type": "code",
   "execution_count": null,
   "metadata": {},
   "outputs": [],
   "source": [
    "# Imprime os resultados\n",
    "print(\"Valor do Corte Mínimo:\", corte_min)\n",
    "print(\"Partição dos vértices a partir do corte mínimo:\", part)\n"
   ]
  },
  {
   "cell_type": "markdown",
   "metadata": {},
   "source": [
    "# Exercício 1"
   ]
  },
  {
   "cell_type": "markdown",
   "metadata": {},
   "source": [
    "Encontre o padrão de Fluxo Máximo entre os vértices O e T. Considere como capacidade. Encontre um corte mínimo. Como o corte mínimo particiona os vértices?\n",
    "\n",
    "\n",
    "<center> <img src=\"Figuras/fluxomax_aula.png\"> </center>"
   ]
  },
  {
   "cell_type": "code",
   "execution_count": null,
   "metadata": {},
   "outputs": [],
   "source": [
    "# Escreva seu código aqui"
   ]
  },
  {
   "cell_type": "markdown",
   "metadata": {},
   "source": [
    "# Exercício 2"
   ]
  },
  {
   "cell_type": "markdown",
   "metadata": {},
   "source": [
    "Encontre o padrão de Fluxo Máximo entre os vértices A e F. Considere como capacidade. Encontre um corte mínimo. Como o corte mínimo particiona os vértices?\n",
    "\n",
    "\n",
    "<center> <img src=\"Figuras/fluxomax_1.png\"> </center>"
   ]
  },
  {
   "cell_type": "code",
   "execution_count": null,
   "metadata": {},
   "outputs": [],
   "source": [
    "# Escreva seu código aqui"
   ]
  },
  {
   "cell_type": "markdown",
   "metadata": {},
   "source": [
    "# Exercício 3"
   ]
  },
  {
   "cell_type": "markdown",
   "metadata": {},
   "source": [
    "\n",
    "Encontre o padrão de Fluxo Máximo entre os vértices 1 e 7. Considere como capacidade. Encontre o corte mínimo. Como o corte mínimo particiona os vértices? \n",
    "\n",
    "\n",
    "\n",
    "<center> <img src=\"Figuras/fluxomax_2.png\"> </center>"
   ]
  },
  {
   "cell_type": "code",
   "execution_count": null,
   "metadata": {},
   "outputs": [],
   "source": [
    "# Escreva seu código aqui"
   ]
  }
 ],
 "metadata": {
  "kernelspec": {
   "display_name": "base",
   "language": "python",
   "name": "python3"
  },
  "language_info": {
   "codemirror_mode": {
    "name": "ipython",
    "version": 3
   },
   "file_extension": ".py",
   "mimetype": "text/x-python",
   "name": "python",
   "nbconvert_exporter": "python",
   "pygments_lexer": "ipython3",
   "version": "3.9.7"
  },
  "orig_nbformat": 4
 },
 "nbformat": 4,
 "nbformat_minor": 2
}
