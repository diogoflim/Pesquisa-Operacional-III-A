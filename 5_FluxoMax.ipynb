{
 "cells": [
  {
   "attachments": {},
   "cell_type": "markdown",
   "metadata": {},
   "source": [
    "[![Open In Colab](https://colab.research.google.com/assets/colab-badge.svg)](https://colab.research.google.com/github/diogoflim/PO_II/blob/main/FluxoMax.ipynb)"
   ]
  },
  {
   "cell_type": "code",
   "execution_count": 155,
   "metadata": {},
   "outputs": [],
   "source": [
    "import networkx as nx\n",
    "import matplotlib.pyplot as plt\n"
   ]
  },
  {
   "cell_type": "code",
   "execution_count": 156,
   "metadata": {},
   "outputs": [],
   "source": [
    "# Cria um objeto de grafo direcionado\n",
    "G = nx.DiGraph()\n",
    "\n",
    "# Adiciona nós ao grafo\n",
    "G.add_node('s')  # Nó fonte\n",
    "G.add_node('a')\n",
    "G.add_node('b')\n",
    "G.add_node('c')\n",
    "G.add_node('d')\n",
    "G.add_node('t')  # Nó destino\n",
    "\n",
    "# Adiciona arestas ao grafo com suas capacidades\n",
    "G.add_edge('s', 'a', capacidade=3)\n",
    "G.add_edge('s', 'b', capacidade=2)\n",
    "G.add_edge('a', 'b', capacidade=1)\n",
    "G.add_edge('a', 'c', capacidade=3)\n",
    "G.add_edge('b', 'd', capacidade=2)\n",
    "G.add_edge('c', 'd', capacidade=2)\n",
    "G.add_edge('c', 't', capacidade=3)\n",
    "G.add_edge('d', 't', capacidade=3)\n"
   ]
  },
  {
   "cell_type": "code",
   "execution_count": 157,
   "metadata": {},
   "outputs": [
    {
     "data": {
      "image/png": "[encoded data removed]",
      "text/plain": [
       "<Figure size 432x288 with 1 Axes>"
      ]
     },
     "metadata": {},
     "output_type": "display_data"
    }
   ],
   "source": [
    "# Desenha o grafo com os rótulos de capacidade nas arestas\n",
    "\n",
    "pos =  nx.spring_layout(G)\n",
    "nx.draw_networkx(G, pos, with_labels=True, node_size = 800)\n",
    "aresta_rotulos = {(u, v): d['capacidade'] for u, v, d in G.edges(data=True)}\n",
    "nx.draw_networkx_edge_labels(G, pos, edge_labels=aresta_rotulos, font_color='red')\n",
    "plt.show()\n"
   ]
  },
  {
   "attachments": {},
   "cell_type": "markdown",
   "metadata": {},
   "source": [
    "### Fluxo Máximo"
   ]
  },
  {
   "cell_type": "code",
   "execution_count": 158,
   "metadata": {},
   "outputs": [],
   "source": [
    "# Calcula o fluxo máximo\n",
    "fluxo_max, fluxo_dict = nx.maximum_flow(G, 's', 't', capacity = 'capacidade')\n"
   ]
  },
  {
   "cell_type": "code",
   "execution_count": 159,
   "metadata": {},
   "outputs": [
    {
     "name": "stdout",
     "output_type": "stream",
     "text": [
      "Fluxo máximo: 5\n",
      "Dicionário de fluxo: {'s': {'a': 3, 'b': 2}, 'a': {'b': 0, 'c': 3}, 'b': {'d': 2}, 'c': {'d': 0, 't': 3}, 'd': {'t': 2}, 't': {}}\n"
     ]
    }
   ],
   "source": [
    "# Imprime os resultados\n",
    "print(\"Fluxo máximo:\", fluxo_max)\n",
    "print(\"Dicionário de fluxo:\", fluxo_dict)\n"
   ]
  },
  {
   "attachments": {},
   "cell_type": "markdown",
   "metadata": {},
   "source": [
    "### Corte Mínimo"
   ]
  },
  {
   "cell_type": "code",
   "execution_count": 160,
   "metadata": {},
   "outputs": [],
   "source": [
    "# Corte mínimo\n",
    "corte_min, part = nx.minimum_cut(G, 's', 't', capacity = 'capacidade')"
   ]
  },
  {
   "cell_type": "code",
   "execution_count": 161,
   "metadata": {},
   "outputs": [
    {
     "name": "stdout",
     "output_type": "stream",
     "text": [
      "Valor do Corte Mínimo: 5\n",
      "Partição dos vértices a partir do corte mínimo: ({'b', 'a', 's'}, {'c', 'd', 't'})\n"
     ]
    }
   ],
   "source": [
    "# Imprime os resultados\n",
    "print(\"Valor do Corte Mínimo:\", corte_min)\n",
    "print(\"Partição dos vértices a partir do corte mínimo:\", part)\n"
   ]
  },
  {
   "attachments": {},
   "cell_type": "markdown",
   "metadata": {},
   "source": [
    "## Modelando um Problema do Fluxo Máximo como Problema do Fluxo de Custo Mínimo"
   ]
  },
  {
   "cell_type": "code",
   "execution_count": 162,
   "metadata": {},
   "outputs": [
    {
     "name": "stdout",
     "output_type": "stream",
     "text": [
      "['s', 'a', 'b', 'c', 'd', 't']\n",
      "[('s', 'a'), ('s', 'b'), ('a', 'b'), ('a', 'c'), ('b', 'd'), ('c', 'd'), ('c', 't'), ('d', 't'), ('s', 't')]\n"
     ]
    }
   ],
   "source": [
    "V = list(G.nodes())\n",
    "E = list(G.edges())\n",
    "\n",
    "E.append(('s','t'))\n",
    "\n",
    "\n",
    "print(V)\n",
    "print(E)"
   ]
  },
  {
   "cell_type": "code",
   "execution_count": 163,
   "metadata": {},
   "outputs": [
    {
     "data": {
      "text/plain": [
       "{('s', 'a'): 3,\n",
       " ('s', 'b'): 2,\n",
       " ('a', 'b'): 1,\n",
       " ('a', 'c'): 3,\n",
       " ('b', 'd'): 2,\n",
       " ('c', 'd'): 2,\n",
       " ('c', 't'): 3,\n",
       " ('d', 't'): 3,\n",
       " ('s', 't'): 10000}"
      ]
     },
     "execution_count": 163,
     "metadata": {},
     "output_type": "execute_result"
    }
   ],
   "source": [
    "u = nx.get_edge_attributes(G, 'capacidade')\n",
    "u[('s','t')] = 10000\n",
    "u\n"
   ]
  },
  {
   "cell_type": "code",
   "execution_count": 164,
   "metadata": {},
   "outputs": [
    {
     "data": {
      "text/plain": [
       "{('s', 'a'): 0,\n",
       " ('s', 'b'): 0,\n",
       " ('a', 'b'): 0,\n",
       " ('a', 'c'): 0,\n",
       " ('b', 'd'): 0,\n",
       " ('c', 'd'): 0,\n",
       " ('c', 't'): 0,\n",
       " ('d', 't'): 0,\n",
       " ('s', 't'): 100}"
      ]
     },
     "execution_count": 164,
     "metadata": {},
     "output_type": "execute_result"
    }
   ],
   "source": [
    "c = {}\n",
    "for e in E: c[e] = 0\n",
    "c[('s','t')] = 100\n",
    "c"
   ]
  },
  {
   "cell_type": "code",
   "execution_count": 165,
   "metadata": {},
   "outputs": [
    {
     "data": {
      "text/plain": [
       "{'s': 8, 'a': 0, 'b': 0, 'c': 0, 'd': 0, 't': -8}"
      ]
     },
     "execution_count": 165,
     "metadata": {},
     "output_type": "execute_result"
    }
   ],
   "source": [
    "F = 8\n",
    "\n",
    "fluxos = {'s': F,\n",
    "          'a':0,\n",
    "          'b':0,\n",
    "          'c':0,\n",
    "          'd':0,\n",
    "           't': -F}\n",
    "\n",
    "fluxos"
   ]
  },
  {
   "cell_type": "code",
   "execution_count": 166,
   "metadata": {},
   "outputs": [],
   "source": [
    "import pyomo.environ as pe"
   ]
  },
  {
   "cell_type": "code",
   "execution_count": 167,
   "metadata": {},
   "outputs": [],
   "source": [
    "# Criando uma instância do modelo\n",
    "M = pe.ConcreteModel() \n",
    "\n",
    "# Grafo\n",
    "M.V = pe.Set(initialize = V) \n",
    "M.E = pe.Set(initialize = E)\n",
    "\n",
    "#Parâmetros\n",
    "M.c = pe.Param(M.E, initialize = c) #custos\n",
    "M.u = pe.Param(M.E, initialize = u) #limites superiores\n",
    "M.b = pe.Param(M.V, initialize = fluxos) #fluxos\n"
   ]
  },
  {
   "cell_type": "code",
   "execution_count": 168,
   "metadata": {},
   "outputs": [],
   "source": [
    "# VARIÁVEIS DE DECISÃO\n",
    "M.x = pe.Var(M.E, within= pe.NonNegativeReals)\n"
   ]
  },
  {
   "cell_type": "code",
   "execution_count": 169,
   "metadata": {},
   "outputs": [],
   "source": [
    "def custo_total (M):\n",
    "    return sum(M.x[e] * M.c[e] for e in M.E)\n",
    "\n",
    "# FUNÇÃO OBJETIVO\n",
    "M.z = pe.Objective(rule = custo_total, sense= pe.minimize)\n",
    "  "
   ]
  },
  {
   "cell_type": "code",
   "execution_count": 170,
   "metadata": {},
   "outputs": [],
   "source": [
    "M.R_fluxos = pe.Constraint(M.V, rule= lambda M, i: sum(M.x[(i, j)] for j in M.V if (i,j) in M.E) - sum(M.x[(j, i)] for j in M.V if (j,i) in M.E) == M.b[i])\n",
    "\n",
    "\n",
    "M.R_limites =pe.ConstraintList()\n",
    "for e in M.E:\n",
    "    M.R_limites.add(expr =  M.x[e] <= M.u[e])\n"
   ]
  },
  {
   "cell_type": "code",
   "execution_count": 171,
   "metadata": {},
   "outputs": [
    {
     "data": {
      "text/plain": [
       "{'Problem': [{'Name': 'unknown', 'Lower bound': 300.0, 'Upper bound': 300.0, 'Number of objectives': 1, 'Number of constraints': 16, 'Number of variables': 10, 'Number of nonzeros': 28, 'Sense': 'minimize'}], 'Solver': [{'Status': 'ok', 'Termination condition': 'optimal', 'Statistics': {'Branch and bound': {'Number of bounded subproblems': 0, 'Number of created subproblems': 0}}, 'Error rc': 0, 'Time': 0.048947811126708984}], 'Solution': [OrderedDict([('number of solutions', 0), ('number of solutions displayed', 0)])]}"
      ]
     },
     "execution_count": 171,
     "metadata": {},
     "output_type": "execute_result"
    }
   ],
   "source": [
    "# RESOLUÇÃO DO MODELO\n",
    "pe.SolverFactory('glpk').solve(M)"
   ]
  },
  {
   "cell_type": "code",
   "execution_count": 172,
   "metadata": {},
   "outputs": [
    {
     "name": "stdout",
     "output_type": "stream",
     "text": [
      "z= 300.0\n",
      "----------------\n",
      "\n",
      "x_('s', 'a') = 3.0\n",
      "x_('s', 'b') = 2.0\n",
      "x_('a', 'c') = 3.0\n",
      "x_('b', 'd') = 2.0\n",
      "x_('c', 't') = 3.0\n",
      "x_('d', 't') = 2.0\n",
      "x_('s', 't') = 3.0\n"
     ]
    }
   ],
   "source": [
    "print(f\"z= {pe.value(M.z)}\\n----------------\\n\")\n",
    "for k in M.x.keys(): \n",
    "    if pe.value(M.x[k]) > 0: \n",
    "        print (f\"x_{k} = {pe.value(M.x[k])}\")"
   ]
  },
  {
   "attachments": {},
   "cell_type": "markdown",
   "metadata": {},
   "source": [
    "Perceba que foram enviadas 3 unidades via arco fantasma ('s', 't'). Por isso o custo foi de 300! \n",
    "\n",
    "Para encontrar a resposta do fluxo máximo, basta somar o que saiu do vértice 's' ou somar o que entrou em 't',  **sem contar o arco ('s', 't')**."
   ]
  },
  {
   "cell_type": "code",
   "execution_count": 180,
   "metadata": {},
   "outputs": [
    {
     "name": "stdout",
     "output_type": "stream",
     "text": [
      "5.0\n",
      "5.0\n",
      "5.0\n",
      "5.0\n"
     ]
    }
   ],
   "source": [
    "resposta_1 = sum(pe.value(M.x[k]) for k in M.x.keys() if k[0] == 's' and k[1]!='t')\n",
    "# ou\n",
    "resposta_2 = sum(pe.value(M.x[k]) for k in M.x.keys() if k[0] != 's' and k[1]=='t')\n",
    "# ou\n",
    "resposta_3 = sum(pe.value(M.x[k]) for k in M.x.keys() if k!= ('s','t') and k[0] == 's')\n",
    "# ou\n",
    "resposta_4 = sum(pe.value(M.x[k]) for k in M.x.keys() if k!= ('s','t') and k[1] == 't')\n",
    "\n",
    "print(resposta_1)\n",
    "print(resposta_2)\n",
    "print(resposta_3)\n",
    "print(resposta_4)"
   ]
  }
 ],
 "metadata": {
  "kernelspec": {
   "display_name": "base",
   "language": "python",
   "name": "python3"
  },
  "language_info": {
   "codemirror_mode": {
    "name": "ipython",
    "version": 3
   },
   "file_extension": ".py",
   "mimetype": "text/x-python",
   "name": "python",
   "nbconvert_exporter": "python",
   "pygments_lexer": "ipython3",
   "version": "3.9.7"
  },
  "orig_nbformat": 4
 },
 "nbformat": 4,
 "nbformat_minor": 2
}
