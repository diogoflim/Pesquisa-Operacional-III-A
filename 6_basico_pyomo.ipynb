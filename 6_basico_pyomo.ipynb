{
 "cells": [
  {
   "attachments": {},
   "cell_type": "markdown",
   "metadata": {},
   "source": [
    "[![Open In Colab](https://colab.research.google.com/assets/colab-badge.svg)](https://colab.research.google.com/github/diogoflim/PO_II/blob/main/1_PL/basico_pyomo.ipynb)"
   ]
  },
  {
   "attachments": {},
   "cell_type": "markdown",
   "metadata": {},
   "source": [
    "## **Pesquisa Operacional II**\n",
    "\n",
    "**Prof. Diogo Ferreira de Lima Silva (TEP-UFF)**\n",
    "- Monitor (2023): Henrique Monteiro Soares da Silva\n",
    "- Monitor (2022): Rodrigo Celso de Lima Porto\n"
   ]
  },
  {
   "cell_type": "markdown",
   "metadata": {
    "id": "dZo1u4QPZJv0"
   },
   "source": [
    "---\n",
    "---\n",
    "# MODELANDO COM PYOMO\n",
    "---\n",
    "---\n",
    "\n",
    "Recomendações:\n",
    "* Site [Pyomo.org](https://www.pyomo.org)\n",
    "* Site [ND Pyomo Cookbook](https://jckantor.github.io/ND-Pyomo-Cookbook/)\n",
    "* Vídeo [Noções básicas de Pyomo - Parte 1](https://www.youtube.com/watch?v=YDqalQH2b9w)\n",
    "* Vídeo [Noções básicas de Pyomo - Parte 2](https://www.youtube.com/watch?v=nao-zTTUQPQ)\n",
    "\n",
    "---\n",
    "\n",
    "<p align=justify>\n",
    "&emsp; Caso não tenha instalado o Pyomo e o solver Gurobi na sua máquina, realize os seguintes passos:\n",
    "\n",
    "<ol align=justify>\n",
    "<li>Baixe e instale o <a href='https://www.anaconda.com/'>Anaconda</a></li>\n",
    "<li>Clique no ícone do Windows e pesquise por \"Anaconda Prompt\"</li>\n",
    "<li>Escreva no prompt <code>conda install -c conda-forge pyomo</code></li>\n",
    "<li>Aguarde o término da instalação, e quando o prompt te perguntar <code>Proceed ([y]/n)?</code>, tecle \"y\"</li>\n",
    "<li>Agora escreva no prompt <code>conda install -c gurobi gurobi</code></li>\n",
    "<li>Aguarde o término da instalação, e quando o prompt te perguntar <code>Proceed ([y]/n)?</code>, tecle \"y\"</li>\n",
    "<li>Pronto!</li>\n",
    "</ol>\n",
    "\n",
    "&emsp; Para maiores detalhes, assista esse <a href='https://www.youtube.com/watch?v=lzMpvlKNQ-Y&t=294s'>vídeo</a>.\n",
    "</p>\n",
    "\n",
    "---\n",
    "\n",
    "<p align=justify>\n",
    "&emsp; Caso esteja no Google Colab, execute o bloco de códigos a seguir:\n",
    "</p>"
   ]
  },
  {
   "cell_type": "code",
   "execution_count": null,
   "metadata": {
    "colab": {
     "base_uri": "https://localhost:8080/"
    },
    "executionInfo": {
     "elapsed": 5261,
     "status": "ok",
     "timestamp": 1662930143476,
     "user": {
      "displayName": "Rodrigo Celso de Lima Porto",
      "userId": "00317348114914252656"
     },
     "user_tz": 180
    },
    "id": "MWGu1HG6y9Ci",
    "outputId": "5a2fc682-960e-498d-b863-16a34ee7aaa5"
   },
   "outputs": [],
   "source": [
    "#Execute esse bloco caso esteja executando no Google Colab\n",
    "!pip install -q pyomo\n",
    "!pip install -i https://pypi.gurobi.com gurobipy"
   ]
  },
  {
   "cell_type": "markdown",
   "metadata": {},
   "source": [
    "## Otimização com o Pyomo\n",
    "\n",
    "Vamos resolver um problema muito simples de Otimização Linear com o Pyomo\n",
    "\n",
    "\n",
    "Um fazendeiro deseja otimizar as plantações de arroz e milho em sua fazenda\n",
    "\n",
    "- Os lucros obtidos por unidade de área plantada de arroz e milho são respectivamente de R$ 5,00 e R$2,00\n",
    "- Em temos de unidade de área plantada, arroz e milho consomem respectivamente um total de 1 homem-hora e 2 homens-hora\n",
    "- A área plantada de arroz não pode ser maior que 3\n",
    "- A área plantada de milho não pode ser maior que 4\n",
    "- Existe a disponibilidade de 9 homens-hora\n",
    "\n",
    "\n",
    "$$\n",
    "\\text{Max } z = 5x_{1} + 2x_{2}\n",
    "$$\n",
    "$$\n",
    "\\begin{equation}\n",
    "  \\begin{array}{rll}\n",
    "    \\text{Sujeito a: } & \\\\\n",
    "    & x_{1}  \\leq 3 \\\\\n",
    "    & x_{2}  \\leq 4 \\\\\n",
    "    & x_{1} + 2x_{2} \\le 9 \\\\\n",
    "    & x_{1} \\ge 0, x_{2} \\ge 0 \\\\\n",
    "  \\end{array}\n",
    "\\end{equation}\n",
    "$$\n"
   ]
  },
  {
   "attachments": {},
   "cell_type": "markdown",
   "metadata": {},
   "source": [
    "Primeiramente, importamos a biblioteca com o framework de modelagem pyomo"
   ]
  },
  {
   "cell_type": "code",
   "execution_count": null,
   "metadata": {},
   "outputs": [],
   "source": [
    "import pyomo.environ as pyo # Importando o Pyomo"
   ]
  },
  {
   "attachments": {},
   "cell_type": "markdown",
   "metadata": {},
   "source": [
    "Vamos chamar nosso primeiro modelo de $M$. \n",
    "\n",
    "A criação do modelo é simples, com mosra a célula a seguir:"
   ]
  },
  {
   "cell_type": "code",
   "execution_count": null,
   "metadata": {},
   "outputs": [],
   "source": [
    "M = pyo.ConcreteModel()"
   ]
  },
  {
   "cell_type": "markdown",
   "metadata": {},
   "source": [
    "Criando variáveis:"
   ]
  },
  {
   "cell_type": "code",
   "execution_count": null,
   "metadata": {},
   "outputs": [],
   "source": [
    "# Criando variáveis \n",
    "\n",
    "M.x1 = pyo.Var(domain=pyo.NonNegativeReals)\n",
    "M.x2 = pyo.Var(domain=pyo.NonNegativeReals)\n",
    "\n",
    "# Para facilitar a forma de chamar as variáveis:\n",
    "\n",
    "x1, x2 = M.x1, M.x2"
   ]
  },
  {
   "cell_type": "markdown",
   "metadata": {},
   "source": [
    "Criando as restrições"
   ]
  },
  {
   "cell_type": "code",
   "execution_count": null,
   "metadata": {},
   "outputs": [],
   "source": [
    "#Restrições\n",
    "M.R1 = pyo.Constraint(rule= x1 <= 3)\n",
    "M.R2 = pyo.Constraint (rule= x2 <= 4)\n",
    "M.R3 = pyo.Constraint (rule = x1 + 2 * x2 <= 9)"
   ]
  },
  {
   "cell_type": "markdown",
   "metadata": {},
   "source": [
    "Função objetivo"
   ]
  },
  {
   "cell_type": "code",
   "execution_count": null,
   "metadata": {},
   "outputs": [],
   "source": [
    "# Função objetivo\n",
    "\n",
    "M.z = pyo.Objective (rule = 5 * x1 + 2 * x2, sense = pyo.maximize)\n"
   ]
  },
  {
   "cell_type": "markdown",
   "metadata": {},
   "source": [
    "Resolvendo com o solver gurobi"
   ]
  },
  {
   "cell_type": "code",
   "execution_count": null,
   "metadata": {},
   "outputs": [],
   "source": [
    "# Agora é só rodar o solver\n",
    "\n",
    "opt = pyo.SolverFactory('gurobi') \n",
    "opt.solve(M)"
   ]
  },
  {
   "cell_type": "markdown",
   "metadata": {},
   "source": [
    "Imprimindo os resultados"
   ]
  },
  {
   "cell_type": "code",
   "execution_count": null,
   "metadata": {},
   "outputs": [],
   "source": [
    "M.pprint()\n",
    "\n",
    "print('\\n---------------------------------------------------------------------')\n",
    "print('x1 = ', pyo.value(x1))\n",
    "print('x_2 = ', pyo.value(x2))\n",
    "print('Função objetivo = ', pyo.value(M.z))"
   ]
  }
 ],
 "metadata": {
  "kernelspec": {
   "display_name": "Python 3.10.4 64-bit",
   "language": "python",
   "name": "python3"
  },
  "language_info": {
   "codemirror_mode": {
    "name": "ipython",
    "version": 3
   },
   "file_extension": ".py",
   "mimetype": "text/x-python",
   "name": "python",
   "nbconvert_exporter": "python",
   "pygments_lexer": "ipython3",
   "version": "3.9.7"
  },
  "orig_nbformat": 4,
  "vscode": {
   "interpreter": {
    "hash": "369f2c481f4da34e4445cda3fffd2e751bd1c4d706f27375911949ba6bb62e1c"
   }
  }
 },
 "nbformat": 4,
 "nbformat_minor": 2
}
