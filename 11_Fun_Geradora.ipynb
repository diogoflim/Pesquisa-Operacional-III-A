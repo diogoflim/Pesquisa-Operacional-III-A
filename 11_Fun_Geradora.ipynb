{
 "cells": [
  {
   "cell_type": "markdown",
   "metadata": {},
   "source": [
    "[![Open In Colab](https://colab.research.google.com/assets/colab-badge.svg)](https://colab.research.google.com/github/diogoflim/Pesquisa-Operacional-III-A/blob/main/11_Fun_Geradora.ipynb)"
   ]
  },
  {
   "cell_type": "markdown",
   "metadata": {},
   "source": [
    "## **Pesquisa Operacional III-A**\n",
    "\n",
    "**Professor:**\n",
    "- Diogo Ferreira de Lima Silva (TEP-UFF)\n"
   ]
  },
  {
   "cell_type": "markdown",
   "metadata": {},
   "source": [
    "# Funções Geradoras"
   ]
  },
  {
   "cell_type": "markdown",
   "metadata": {},
   "source": [
    "Uma função geradora é uma função especial que tem como característica retornar, cada vez que é chamada, valores em sequência. \n",
    "\n",
    "- Uma função em Python passa a ser geradora quando o comando **yield** é utilizado.\n",
    "\n",
    "Na primeira vez em que a função é chamada, o **yield** funciona da mesma forma que o **return**.\n",
    "\n",
    "**Porém, a partir da segunda vez, uma característica especial é ativada: a execução iniciará na linha após o **yield** !!!**"
   ]
  },
  {
   "cell_type": "markdown",
   "metadata": {},
   "source": [
    "Vejamos inicialmente o funcionamento de uma função convencional:"
   ]
  },
  {
   "cell_type": "code",
   "execution_count": null,
   "metadata": {},
   "outputs": [],
   "source": [
    "def conta_convencional ():\n",
    "    conta = 0\n",
    "    while True:\n",
    "        return conta\n",
    "        conta +=1"
   ]
  },
  {
   "cell_type": "code",
   "execution_count": null,
   "metadata": {},
   "outputs": [],
   "source": [
    "minha_conta = conta_convencional()\n",
    "\n",
    "print(minha_conta)\n",
    "print(minha_conta)\n",
    "print(minha_conta)\n",
    "print(minha_conta)"
   ]
  },
  {
   "cell_type": "markdown",
   "metadata": {},
   "source": [
    "Agora, trabalhando com uma função geradora, perceba que o valor de conta continuará sendo atualizado!"
   ]
  },
  {
   "cell_type": "code",
   "execution_count": null,
   "metadata": {},
   "outputs": [],
   "source": [
    "def conta_geradora ():\n",
    "    conta = 0\n",
    "    while True:\n",
    "        yield conta\n",
    "        conta +=1\n"
   ]
  },
  {
   "cell_type": "markdown",
   "metadata": {},
   "source": [
    "O método **next** executa a função até o próximo **yield** retornar algo."
   ]
  },
  {
   "cell_type": "code",
   "execution_count": null,
   "metadata": {},
   "outputs": [],
   "source": [
    "minha_conta = conta_geradora()\n",
    "\n",
    "print(minha_conta)\n",
    "print(next(minha_conta))\n",
    "print(next(minha_conta))\n",
    "print(next(minha_conta))\n",
    "print(next(minha_conta))"
   ]
  },
  {
   "cell_type": "markdown",
   "metadata": {},
   "source": [
    "# Exemplo de uso\n",
    "\n",
    "Vamos criar um processo simples apenas para exemplificar o uso da função geradora.\n",
    "\n",
    "A aula do Jupyter Notebook **2_Intro_Simpy.ipynb** trará mais detalhes sobre o uso da biblioteca."
   ]
  },
  {
   "attachments": {},
   "cell_type": "markdown",
   "metadata": {},
   "source": [
    "## Criando um Processo Simples\n",
    "\n",
    "Vamos criar um processo com quatro atividades: A -> B -> C -> D.\n",
    "\n",
    "- Apenas 40% dos trabalhos passam por B. Os outro 60% saem de A direto para C.\n",
    "- Os tempos de processamento são, respectivamente, 10 25, 8, 5.\n",
    "- As atividades A, B e C usam o recurso R1.\n",
    "- A atividade D usa o recurso R2.\n",
    "\n",
    "\n"
   ]
  },
  {
   "cell_type": "code",
   "execution_count": null,
   "metadata": {},
   "outputs": [],
   "source": [
    "# Caso esteja no Google Colab\n",
    "!pip install simpy"
   ]
  },
  {
   "cell_type": "markdown",
   "metadata": {},
   "source": [
    "Inicialmente, vamos importar algumas bibliotecas que serão utilizadas."
   ]
  },
  {
   "cell_type": "code",
   "execution_count": null,
   "metadata": {},
   "outputs": [],
   "source": [
    "import simpy # Biblioteca para modelagem e simulação de processos\n",
    "import random # Biblioteca para gerar números aleatórios\n",
    "import numpy as np # Biblioteca para trabalhar com operações em vetores e matrizes"
   ]
  },
  {
   "cell_type": "code",
   "execution_count": null,
   "metadata": {},
   "outputs": [],
   "source": [
    "random.seed(10) # Gerando uma semente para a geração de números aleatórios"
   ]
  },
  {
   "cell_type": "markdown",
   "metadata": {},
   "source": [
    "### Etapa 1\n",
    "\n",
    "Inicialmente, vamos modelar cada uma das atividades do nosso processo:"
   ]
  },
  {
   "cell_type": "code",
   "execution_count": null,
   "metadata": {},
   "outputs": [],
   "source": [
    "def atividade_A (environment, trabalho_id):\n",
    "    # Para a atividade A ser executada, precisamos \"esperar\" por um recurso R1\n",
    "    with R1.request() as req:\n",
    "        yield req # Tempo passa até R1 estar disponível\n",
    "        yield environment.timeout(10) # Tempo de processamento da atividade A\n",
    "        \n",
    "def atividade_B (environment, trabalho_id):\n",
    "    # Atividade B requer R1\n",
    "    with R1.request() as req:\n",
    "        yield req # Tempo passa até R1 estar disponível\n",
    "        yield environment.timeout(25)  # Tempo de processamento da atividade B\n",
    "        \n",
    "def atividade_C (environment, trabalho_id):\n",
    "    # Requerimento de R1\n",
    "    with R1.request() as req:\n",
    "        yield req # Tempo passa até R1 estar disponível\n",
    "        yield environment.timeout(8)  # Tempo de processamento da atividade C\n",
    "        \n",
    "def atividade_D (environment, trabalho_id):\n",
    "    # Requerimento de R2\n",
    "    with R2.request() as req:\n",
    "        yield req # Tempo passa até R2 estar disponível\n",
    "        yield environment.timeout(5) # Tempo de processamento da atividade D\n",
    "         "
   ]
  },
  {
   "cell_type": "markdown",
   "metadata": {},
   "source": [
    "### Etapa 2\n",
    "\n",
    "\n",
    "Agora, vamos criar uma função para o nosso processo. \n",
    "\n",
    "Em outras palavras, o que acontece com um trabalho inicializado no processo.\n",
    "\n",
    "Perceba que dessa vez passamos a palavra \"ambiente\" como parâmetro ao invés de \"environment\". \n",
    "\n",
    "Isso é apenas para ilustrar que na criação das funções, essa é uma escolha do usuário. O importante é que a palavra usada como input após o nome da função seja utilizada ao longo da mesma. Ou seja, dentro da função devemos continuar com o padrão \"ambiente\"."
   ]
  },
  {
   "cell_type": "code",
   "execution_count": null,
   "metadata": {},
   "outputs": [],
   "source": [
    "# Modelando o processo\n",
    "\n",
    "def primeiro_processo (ambiente, trabalho_id, R1, R2):\n",
    "        #print(f'tempo: {ambiente.now} -- {trabalho_id} entrou no processo')\n",
    "        entrou_no_processo = ambiente.now #entrou_no_processo recebe o tempo de entrada do processo\n",
    "        \n",
    "        # Atividade A\n",
    "        yield (ambiente.process(atividade_A(ambiente, trabalho_id)))\n",
    "   \n",
    "        # Atividade B só acontece em 40% dos trabalhos\n",
    "        regra_B = random.uniform(0,1) \n",
    "        if regra_B < 0.4:\n",
    "                yield (ambiente.process(atividade_B(ambiente, trabalho_id)))\n",
    "    \n",
    "        # Atividade C\n",
    "        yield(ambiente.process(atividade_C(ambiente, trabalho_id)))\n",
    "\n",
    "        # Atividade D\n",
    "        yield(ambiente.process(atividade_D(ambiente, trabalho_id)))\n",
    "\n",
    "        saiu_do_processo = ambiente.now #entrou_no_processo recebe o tempo de saída do processo\n",
    "        \n",
    "        TC = saiu_do_processo - entrou_no_processo # TC é o tempo de ciclo\n",
    "\n",
    "        tempo_de_ciclo.append(TC) # Inclui o TC observado na lista de tempos de ciclo \n",
    "        "
   ]
  },
  {
   "cell_type": "markdown",
   "metadata": {},
   "source": [
    "### Etapa 3\n",
    "\n",
    "Agora vamos modelar a chegada dos trabalhos no processo. "
   ]
  },
  {
   "cell_type": "code",
   "execution_count": null,
   "metadata": {},
   "outputs": [],
   "source": [
    "def chegadas (ambiente):\n",
    "    id = 1 #guarda o id do cliente \n",
    "    # Enquanto houver simulação:\n",
    "    while True:\n",
    "        # Passa um tempo até a próxima chegada\n",
    "        yield ambiente.timeout(50)\n",
    "        \n",
    "        # Um cliente chega no processo\n",
    "        ambiente.process(primeiro_processo (ambiente, 'Trabalho %d' % id, R1, R2))\n",
    "        \n",
    "        # O próximo cliente terá id = id + 1\n",
    "        id += 1"
   ]
  },
  {
   "cell_type": "code",
   "execution_count": null,
   "metadata": {},
   "outputs": [],
   "source": [
    "tempo_de_ciclo = [] # Vamos criar uma lista vazia que receberá os tempos de ciclo observados\n",
    "env = simpy.Environment()\n",
    "R1 = simpy.Resource(env, capacity=1)\n",
    "R2 = simpy.Resource(env, capacity=1)\n",
    "env.process(chegadas(env))\n",
    "env.run(until = 100000)\n"
   ]
  },
  {
   "cell_type": "code",
   "execution_count": null,
   "metadata": {},
   "outputs": [],
   "source": [
    "np.mean(tempo_de_ciclo)"
   ]
  },
  {
   "cell_type": "code",
   "execution_count": null,
   "metadata": {},
   "outputs": [],
   "source": [
    "tempo_de_ciclo"
   ]
  },
  {
   "cell_type": "code",
   "execution_count": null,
   "metadata": {},
   "outputs": [],
   "source": [
    "TC = []\n",
    "for i in range(100):\n",
    "    tempo_de_ciclo = []\n",
    "    env = simpy.Environment()\n",
    "    R1 = simpy.Resource(env, capacity=1)\n",
    "    R2 = simpy.Resource(env, capacity=1)\n",
    "    env.process(chegadas(env))\n",
    "    env.run(until = 100000)\n",
    "    TC.append(np.mean(tempo_de_ciclo))"
   ]
  },
  {
   "cell_type": "code",
   "execution_count": null,
   "metadata": {},
   "outputs": [],
   "source": [
    "np.mean(TC)"
   ]
  }
 ],
 "metadata": {
  "kernelspec": {
   "display_name": "Python 3.9.7 ('base')",
   "language": "python",
   "name": "python3"
  },
  "language_info": {
   "codemirror_mode": {
    "name": "ipython",
    "version": 3
   },
   "file_extension": ".py",
   "mimetype": "text/x-python",
   "name": "python",
   "nbconvert_exporter": "python",
   "pygments_lexer": "ipython3",
   "version": "3.9.7"
  },
  "orig_nbformat": 4,
  "vscode": {
   "interpreter": {
    "hash": "e4cce46d6be9934fbd27f9ca0432556941ea5bdf741d4f4d64c6cd7f8dfa8fba"
   }
  }
 },
 "nbformat": 4,
 "nbformat_minor": 2
}
