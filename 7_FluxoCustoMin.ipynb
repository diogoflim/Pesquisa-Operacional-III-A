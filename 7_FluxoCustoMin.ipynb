{
 "cells": [
  {
   "attachments": {},
   "cell_type": "markdown",
   "metadata": {},
   "source": [
    "[![Open In Colab](https://colab.research.google.com/assets/colab-badge.svg)](https://colab.research.google.com/github/diogoflim/Pesquisa-Operacional-III-A/blob/main/7_FluxoCustoMin.ipynb)"
   ]
  },
  {
   "attachments": {},
   "cell_type": "markdown",
   "metadata": {},
   "source": [
    "## **Pesquisa Operacional III-A**\n",
    "\n",
    "**Prof. Diogo Ferreira de Lima Silva (TEP-UFF)**\n",
    "\n",
    "Monitores:\n",
    "- Henrique Monteiro Soares da Silva (2023)\n",
    "- Rodrigo Celso Porto (2022)"
   ]
  },
  {
   "attachments": {},
   "cell_type": "markdown",
   "metadata": {},
   "source": [
    "# Fluxo de Custo Mínimo"
   ]
  },
  {
   "cell_type": "code",
   "execution_count": null,
   "metadata": {},
   "outputs": [],
   "source": [
    "#Execute esse bloco caso esteja executando no Google Colab\n",
    "!pip install -q pyomo\n",
    "!pip install -i https://pypi.gurobi.com gurobipy\n",
    "\n",
    "#!apt-get install -y -qq glpk-utils"
   ]
  },
  {
   "cell_type": "code",
   "execution_count": null,
   "metadata": {},
   "outputs": [],
   "source": [
    "import pyomo.environ as pe\n",
    "import pandas as pd\n",
    "import networkx as nx\n",
    "import matplotlib.pyplot as plt"
   ]
  },
  {
   "cell_type": "code",
   "execution_count": null,
   "metadata": {},
   "outputs": [],
   "source": [
    "from IPython import display\n",
    "\n",
    "display.Image(\"fluxo.png\", width = 500)"
   ]
  },
  {
   "attachments": {},
   "cell_type": "markdown",
   "metadata": {},
   "source": [
    "## Primeiramente, vamos criar o grafo\n",
    "\n",
    "Para isso, definiremos um conjunto de vértices e um conjunto de arestas"
   ]
  },
  {
   "cell_type": "code",
   "execution_count": null,
   "metadata": {},
   "outputs": [],
   "source": [
    "V = ['F1', 'F2', 'DC', 'W1', 'W2']\n",
    "E = [('F1', 'F2'), ('F1', 'DC'), ('F1', 'W1'), ('F2', 'DC'), ('DC', 'W2'), ('W1', 'W2'), ('W2', 'W1')]"
   ]
  },
  {
   "attachments": {},
   "cell_type": "markdown",
   "metadata": {},
   "source": [
    "Agora, vamos passar os parâmetros do problema através de dicionários. Temos:\n",
    "- Custos nas arestas\n",
    "- Alguns limites superiores\n",
    "- Fluxos dos vértices!"
   ]
  },
  {
   "cell_type": "code",
   "execution_count": null,
   "metadata": {},
   "outputs": [],
   "source": [
    "c = {('F1', 'F2'): 200,\n",
    "     ('F1', 'DC'): 400,\n",
    "     ('F1', 'W1'): 900,\n",
    "     ('F2', 'DC'): 300,\n",
    "     ('DC', 'W2'): 100,\n",
    "     ('W1', 'W2'): 300,\n",
    "     ('W2', 'W1'): 200}\n",
    "\n",
    "u = {('F1', 'F2'): 10, ('DC', 'W2'): 80}\n",
    "\n",
    "b = {'F1': 50, 'F2': 40, 'DC': 0, 'W1': -30, 'W2': -60}"
   ]
  },
  {
   "attachments": {},
   "cell_type": "markdown",
   "metadata": {},
   "source": [
    "Agora, vamos modelar no Pyomo! Iniciamos instanciando o nosso modelo."
   ]
  },
  {
   "cell_type": "code",
   "execution_count": null,
   "metadata": {},
   "outputs": [],
   "source": [
    "M = pe.ConcreteModel()"
   ]
  },
  {
   "attachments": {},
   "cell_type": "markdown",
   "metadata": {},
   "source": [
    "Em seguida, vamos criar nossos conjuntos a partir de V e E!"
   ]
  },
  {
   "cell_type": "code",
   "execution_count": null,
   "metadata": {},
   "outputs": [],
   "source": [
    "M.V = pe.Set(initialize= V)\n",
    "M.E = pe.Set(initialize= E)"
   ]
  },
  {
   "attachments": {},
   "cell_type": "markdown",
   "metadata": {},
   "source": [
    "Temos uma variável de decisão para cada aresta! Veja abaixo!"
   ]
  },
  {
   "cell_type": "code",
   "execution_count": null,
   "metadata": {},
   "outputs": [],
   "source": [
    "M.x = pe.Var(M.E, within = pe.NonNegativeReals)"
   ]
  },
  {
   "attachments": {},
   "cell_type": "markdown",
   "metadata": {},
   "source": [
    "Vamos passar também nossos parâmetros para o modelo!"
   ]
  },
  {
   "cell_type": "code",
   "execution_count": null,
   "metadata": {},
   "outputs": [],
   "source": [
    "M.c = pe.Param(M.E, initialize= c)\n",
    "M.u = pe.Param(M.E, initialize= u)\n",
    "M.b = pe.Param(M.V, initialize = b)"
   ]
  },
  {
   "cell_type": "code",
   "execution_count": null,
   "metadata": {},
   "outputs": [],
   "source": [
    "# Função Objetivo:\n",
    "\n",
    "M.z = pe.Objective(rule = sum(M.x[e] * M.c[e] for e in M.E))"
   ]
  },
  {
   "cell_type": "code",
   "execution_count": null,
   "metadata": {},
   "outputs": [],
   "source": [
    "# Restrições:\n",
    "\n",
    "M.fluxos = pe.ConstraintList()\n",
    "\n",
    "for v in M.V:\n",
    "    M.fluxos.add(expr = sum(M.x[e] for e in M.E if e[0] == v) - sum(M.x[e] for e in M.E if e[1] == v) == M.b[v])\n",
    "\n",
    "\n",
    "M.limitesuperior =pe.ConstraintList()\n",
    "\n",
    "for e in list(u.keys()):\n",
    "    M.limitesuperior.add(expr =  M.x[e] <= M.u[e])"
   ]
  },
  {
   "cell_type": "code",
   "execution_count": null,
   "metadata": {},
   "outputs": [],
   "source": [
    "# RESOLUÇÃO DO MODELO\n",
    "pe.SolverFactory('gurobi').solve(M)"
   ]
  },
  {
   "cell_type": "code",
   "execution_count": null,
   "metadata": {},
   "outputs": [],
   "source": [
    "print(f\"z= {pe.value(M.z)}\\n----------------\\n\")\n",
    "\n",
    "for k in M.x.keys(): \n",
    "    if pe.value(M.x[k]) > 0: \n",
    "        print (f\"x_{k} = {pe.value(M.x[k])}\")"
   ]
  },
  {
   "attachments": {},
   "cell_type": "markdown",
   "metadata": {},
   "source": [
    "## Modelando um Problema de Transportes como Fluxo de Custo Mínimo"
   ]
  },
  {
   "attachments": {},
   "cell_type": "markdown",
   "metadata": {},
   "source": [
    "Uma empresa possui três fábricas que produzem carrinhos de bebê que devem ser remetidos para quatro centros de distribuição. As Fábricas F1, F2 e F3 produzem, respectivamente, 12, 17 e 11 remessas por mês. Cada centro de distribuição CD precisa receber dez remessas por mês. Com base na tabela de custos abaixo, que mostra o custo unitário de transporte das Fábricas à cada CD, quanto deve ser remetido de cada fábrica para cada um dos centros de distribuição para minimizar o custo total de transporte?\n",
    "\n",
    "<center>\n",
    "\n",
    "|Fábrica|$CD1$|$CD2$|$CD3$|$CD4$|\n",
    "|:-----:|:---:|:---:|:---:|:---:|\n",
    "|$F1$   |40100|65100|20100|35100|\n",
    "|$F2$   |55100|70100|30100|50100|\n",
    "|$F3$   |30100|60100|40100|45100|\n",
    "\n",
    "</center>\n"
   ]
  },
  {
   "cell_type": "code",
   "execution_count": null,
   "metadata": {},
   "outputs": [],
   "source": [
    "custos = pd.DataFrame ({\"CD1\": [40100, 55100, 30100],\n",
    "                        \"CD2\": [65100, 70100, 60100],\n",
    "                        \"CD3\": [20100, 30100, 40100],\n",
    "                        \"CD4\": [35100, 50100, 45100]\n",
    "                        }, index = [\"F1\", \"F2\", \"F3\"]) \n",
    "\n",
    "custos"
   ]
  },
  {
   "cell_type": "code",
   "execution_count": null,
   "metadata": {},
   "outputs": [],
   "source": [
    "c_dict = custos.stack().to_dict()\n",
    "c_dict"
   ]
  },
  {
   "cell_type": "code",
   "execution_count": null,
   "metadata": {},
   "outputs": [],
   "source": [
    "fluxos = {'F1':12,'F2':17, 'F3': 11, 'CD1':-10,'CD2':-10,'CD3':-10,'CD4':-10}\n",
    "fluxos"
   ]
  },
  {
   "cell_type": "code",
   "execution_count": null,
   "metadata": {},
   "outputs": [],
   "source": [
    "# Criando uma instância do modelo\n",
    "M = pe.ConcreteModel() "
   ]
  },
  {
   "cell_type": "code",
   "execution_count": null,
   "metadata": {},
   "outputs": [],
   "source": [
    "M.V = pe.Set(initialize = list(custos.index) + list(custos.columns)) # Conjunto de vértices\n",
    "M.E = pe.Set(initialize = c_dict.keys())"
   ]
  },
  {
   "cell_type": "code",
   "execution_count": null,
   "metadata": {},
   "outputs": [],
   "source": [
    "M.pprint()"
   ]
  },
  {
   "cell_type": "code",
   "execution_count": null,
   "metadata": {},
   "outputs": [],
   "source": [
    "# PASSANDO OS PARÂMETROS DO PROBLEMA\n",
    "\n",
    "# Custos de transporte da fábrica i para o centro de dsitribuição j\n",
    "M.c = pe.Param(M.E, initialize = c_dict)\n",
    "M.b = pe.Param(M.V, initialize = fluxos)\n",
    " "
   ]
  },
  {
   "cell_type": "code",
   "execution_count": null,
   "metadata": {},
   "outputs": [],
   "source": [
    "# VARIÁVEIS DE DECISÃO\n",
    "# xij representa a quantidade de remessas enviada da fábrica i para o CD j\n",
    "M.x = pe.Var(M.E, within= pe.NonNegativeReals)\n"
   ]
  },
  {
   "cell_type": "code",
   "execution_count": null,
   "metadata": {},
   "outputs": [],
   "source": [
    "def custo_total (M):\n",
    "    return sum(M.x[e] * M.c[e] for e in M.E)\n",
    "\n",
    "# FUNÇÃO OBJETIVO\n",
    "M.z = pe.Objective(rule = custo_total, sense= pe.minimize)\n",
    "  "
   ]
  },
  {
   "cell_type": "code",
   "execution_count": null,
   "metadata": {},
   "outputs": [],
   "source": [
    "M.R_fluxos = pe.Constraint(M.V, \n",
    "                           rule= lambda M, i: sum(M.x[(i, j)] for j in M.V if (i,j) in M.E) - sum(M.x[(j, i)] for j in M.V if (j,i) in M.E) == M.b[i])\n"
   ]
  },
  {
   "cell_type": "code",
   "execution_count": null,
   "metadata": {},
   "outputs": [],
   "source": [
    "# RESOLUÇÃO DO MODELO\n",
    "pe.SolverFactory('gurobi').solve(M)"
   ]
  },
  {
   "cell_type": "code",
   "execution_count": null,
   "metadata": {},
   "outputs": [],
   "source": [
    "print(f\"z= {pe.value(M.z)}\\n----------------\\n\")\n",
    "\n",
    "for k in M.x.keys(): \n",
    "    if pe.value(M.x[k]) > 0: \n",
    "        print (f\"x_{k} = {pe.value(M.x[k])}\")"
   ]
  },
  {
   "attachments": {},
   "cell_type": "markdown",
   "metadata": {},
   "source": [
    "## Modelando um Problema do Fluxo Máximo como Problema do Fluxo de Custo Mínimo"
   ]
  },
  {
   "cell_type": "code",
   "execution_count": null,
   "metadata": {},
   "outputs": [],
   "source": [
    "# Cria um objeto de grafo direcionado\n",
    "G = nx.DiGraph()\n",
    "\n",
    "# Adiciona nós ao grafo\n",
    "G.add_node('s')  # Nó fonte\n",
    "G.add_node('a')\n",
    "G.add_node('b')\n",
    "G.add_node('c')\n",
    "G.add_node('d')\n",
    "G.add_node('t')  # Nó destino\n",
    "\n",
    "# Adiciona arestas ao grafo com suas capacidades\n",
    "G.add_edge('s', 'a', capacidade=3)\n",
    "G.add_edge('s', 'b', capacidade=2)\n",
    "G.add_edge('a', 'b', capacidade=1)\n",
    "G.add_edge('a', 'c', capacidade=3)\n",
    "G.add_edge('b', 'd', capacidade=2)\n",
    "G.add_edge('c', 'd', capacidade=2)\n",
    "G.add_edge('c', 't', capacidade=3)\n",
    "G.add_edge('d', 't', capacidade=3)\n"
   ]
  },
  {
   "cell_type": "code",
   "execution_count": null,
   "metadata": {},
   "outputs": [],
   "source": [
    "# Desenha o grafo com os rótulos de capacidade nas arestas\n",
    "\n",
    "pos =  nx.spring_layout(G)\n",
    "nx.draw_networkx(G, pos, with_labels=True, node_size = 800)\n",
    "aresta_rotulos = {(u, v): d['capacidade'] for u, v, d in G.edges(data=True)}\n",
    "nx.draw_networkx_edge_labels(G, pos, edge_labels=aresta_rotulos, font_color='red')\n",
    "plt.show()\n"
   ]
  },
  {
   "cell_type": "code",
   "execution_count": null,
   "metadata": {},
   "outputs": [],
   "source": [
    "V = list(G.nodes())\n",
    "E = list(G.edges())\n",
    "\n",
    "E.append(('s','t'))\n",
    "\n",
    "\n",
    "print(V)\n",
    "print(E)"
   ]
  },
  {
   "cell_type": "code",
   "execution_count": null,
   "metadata": {},
   "outputs": [],
   "source": [
    "u = nx.get_edge_attributes(G, 'capacidade')\n",
    "u[('s','t')] = 10000\n",
    "u\n"
   ]
  },
  {
   "cell_type": "code",
   "execution_count": null,
   "metadata": {},
   "outputs": [],
   "source": [
    "c = {}\n",
    "for e in E: c[e] = 0\n",
    "c[('s','t')] = 100\n",
    "c"
   ]
  },
  {
   "cell_type": "code",
   "execution_count": null,
   "metadata": {},
   "outputs": [],
   "source": [
    "F = 8\n",
    "\n",
    "fluxos = {'s': F,\n",
    "          'a':0,\n",
    "          'b':0,\n",
    "          'c':0,\n",
    "          'd':0,\n",
    "           't': -F}\n",
    "\n",
    "fluxos"
   ]
  },
  {
   "cell_type": "code",
   "execution_count": null,
   "metadata": {},
   "outputs": [],
   "source": [
    "# Criando uma instância do modelo\n",
    "M2 = pe.ConcreteModel() \n",
    "\n",
    "# Grafo\n",
    "M2.V = pe.Set(initialize = V) \n",
    "M2.E = pe.Set(initialize = E)\n",
    "\n",
    "#Parâmetros\n",
    "M2.c = pe.Param(M2.E, initialize = c) #custos\n",
    "M2.u = pe.Param(M2.E, initialize = u) #limites superiores\n",
    "M2.b = pe.Param(M2.V, initialize = fluxos) #fluxos\n"
   ]
  },
  {
   "cell_type": "code",
   "execution_count": null,
   "metadata": {},
   "outputs": [],
   "source": [
    "# VARIÁVEIS DE DECISÃO\n",
    "M2.x = pe.Var(M2.E, within= pe.NonNegativeReals)\n"
   ]
  },
  {
   "cell_type": "code",
   "execution_count": null,
   "metadata": {},
   "outputs": [],
   "source": [
    "def custo_total (M2):\n",
    "    return sum(M2.x[e] * M2.c[e] for e in M2.E)\n",
    "\n",
    "# FUNÇÃO OBJETIVO\n",
    "M2.z = pe.Objective(rule = custo_total, sense= pe.minimize)\n",
    "  "
   ]
  },
  {
   "cell_type": "code",
   "execution_count": null,
   "metadata": {},
   "outputs": [],
   "source": [
    "M2.R_fluxos = pe.Constraint(M2.V, rule= lambda M2, i: sum(M2.x[(i, j)] for j in M2.V if (i,j) in M2.E) - sum(M2.x[(j, i)] for j in M2.V if (j,i) in M2.E) == M2.b[i])\n",
    "\n",
    "\n",
    "M2.R_limites =pe.ConstraintList()\n",
    "for e in M2.E:\n",
    "    M2.R_limites.add(expr =  M2.x[e] <= M2.u[e])\n"
   ]
  },
  {
   "cell_type": "code",
   "execution_count": null,
   "metadata": {},
   "outputs": [],
   "source": [
    "# RESOLUÇÃO DO MODELO\n",
    "pe.SolverFactory('gurobi').solve(M2)"
   ]
  },
  {
   "cell_type": "code",
   "execution_count": null,
   "metadata": {},
   "outputs": [],
   "source": [
    "print(f\"z= {pe.value(M2.z)}\\n----------------\\n\")\n",
    "for k in M2.x.keys(): \n",
    "    if pe.value(M2.x[k]) > 0: \n",
    "        print (f\"x_{k} = {pe.value(M2.x[k])}\")"
   ]
  },
  {
   "attachments": {},
   "cell_type": "markdown",
   "metadata": {},
   "source": [
    "Perceba que foram enviadas 3 unidades via arco fantasma ('s', 't'). Por isso o custo foi de 300! \n",
    "\n",
    "Para encontrar a resposta do fluxo máximo, basta somar o que saiu do vértice 's' ou somar o que entrou em 't',  **sem contar o arco ('s', 't')**."
   ]
  },
  {
   "cell_type": "code",
   "execution_count": null,
   "metadata": {},
   "outputs": [],
   "source": [
    "resposta_1 = sum(pe.value(M2.x[k]) for k in M2.x.keys() if k[0] == 's' and k[1]!='t')\n",
    "# ou\n",
    "resposta_2 = sum(pe.value(M2.x[k]) for k in M2.x.keys() if k[0] != 's' and k[1]=='t')\n",
    "# ou\n",
    "resposta_3 = sum(pe.value(M2.x[k]) for k in M2.x.keys() if k!= ('s','t') and k[0] == 's')\n",
    "# ou\n",
    "resposta_4 = sum(pe.value(M2.x[k]) for k in M2.x.keys() if k!= ('s','t') and k[1] == 't')\n",
    "\n",
    "print(resposta_1)\n",
    "print(resposta_2)\n",
    "print(resposta_3)\n",
    "print(resposta_4)"
   ]
  }
 ],
 "metadata": {
  "kernelspec": {
   "display_name": "base",
   "language": "python",
   "name": "python3"
  },
  "language_info": {
   "codemirror_mode": {
    "name": "ipython",
    "version": 3
   },
   "file_extension": ".py",
   "mimetype": "text/x-python",
   "name": "python",
   "nbconvert_exporter": "python",
   "pygments_lexer": "ipython3",
   "version": "3.9.7"
  },
  "orig_nbformat": 4
 },
 "nbformat": 4,
 "nbformat_minor": 2
}
