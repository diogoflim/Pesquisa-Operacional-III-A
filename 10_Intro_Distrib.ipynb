{
 "cells": [
  {
   "cell_type": "markdown",
   "id": "0bf5c851",
   "metadata": {},
   "source": [
    "[![Open In Colab](https://colab.research.google.com/assets/colab-badge.svg)](https://colab.research.google.com/github/diogoflim/Pesquisa-Operacional-III-A/blob/main/10_Intro_Distrib.ipynb)"
   ]
  },
  {
   "cell_type": "markdown",
   "id": "450ff745",
   "metadata": {},
   "source": [
    "## **Pesquisa Operacional III-A**\n",
    "\n",
    "**Professor:**\n",
    "- Diogo Ferreira de Lima Silva (TEP-UFF)\n"
   ]
  },
  {
   "cell_type": "markdown",
   "id": "8411301f",
   "metadata": {
    "vscode": {
     "languageId": "plaintext"
    }
   },
   "source": [
    "# Introdução\n"
   ]
  },
  {
   "cell_type": "markdown",
   "id": "d2912c24",
   "metadata": {},
   "source": [
    "Em **simulação de eventos discretos**, estudaremos o comportamento de sistemas complexos, onde o estado do sistema muda em pontos discretos no tempo. \n",
    "\n",
    "Em vez de resolver equações analíticas, a simulação gera uma **história artificial do sistema** por meio da geração de eventos aleatórios, permitindo inferir o comportamento do sistema real.\n",
    "\n",
    "Como discutido em sala, as técnicas empregadas possuem enorme relação com **Estatística**.\n",
    "\n",
    "Nesta aula, aprenderemos:\n",
    "\n",
    "- O papel das variáveis aleatórias na simulação;\n",
    "- Como gerar números aleatórios com Python;\n",
    "- Como usar distribuições de probabilidade em simulações;\n",
    "- Um exemplo básico de simulação de chegada de clientes em uma fila."
   ]
  },
  {
   "cell_type": "markdown",
   "id": "6348bafa",
   "metadata": {},
   "source": [
    "# Variáveis Aleatórias"
   ]
  },
  {
   "cell_type": "markdown",
   "id": "5a4d811d",
   "metadata": {},
   "source": [
    "\n",
    "Uma **variável aleatória** é uma função que associa um número real a cada resultado possível de um experimento aleatório. \n",
    "\n",
    "\n",
    "**Elas são essenciais para simular incertezas e variabilidades dos sistemas do mundo real.**\n",
    "\n",
    "Exemplos de variáveis aleatórias em sistemas reais:\n",
    "- Tempo entre chegadas de clientes a um sistema;\n",
    "- Tempo de atendimento em um caixa;\n",
    "- Quantidade de itens produzidos com defeito.\n",
    "\n",
    "As variáveis aleatórias são descritas por **distribuições de probabilidade**."
   ]
  },
  {
   "cell_type": "code",
   "execution_count": null,
   "id": "a1b2288f",
   "metadata": {},
   "outputs": [],
   "source": [
    "import random\n",
    "import numpy as np\n",
    "import matplotlib.pyplot as plt\n",
    "import pandas as pd\n"
   ]
  },
  {
   "cell_type": "markdown",
   "id": "14eab56e",
   "metadata": {},
   "source": [
    "Vamos gerar alguns números aleatórios iniciais. \n",
    "\n",
    "Perceba que se você rodar várias vezes a célula abaixo, números diferentes serão gerados!"
   ]
  },
  {
   "cell_type": "code",
   "execution_count": null,
   "id": "fb4b55fe",
   "metadata": {},
   "outputs": [],
   "source": [
    "print(\"Número aleatório entre 0 e 1:\", random.random())\n",
    "print(\"Número inteiro entre 1 e 10:\", random.randint(1, 10))\n",
    "print(\"Número aleatório normal (media=0, desvio=1):\", np.random.normal(0, 1))"
   ]
  },
  {
   "cell_type": "markdown",
   "id": "842a4c41",
   "metadata": {},
   "source": [
    "Como vimos, as bibliotecas **random** e **numpy** podem ser utilizadas para geração de números aleatórios.\n",
    "\n",
    "A biblioteca **numpy** possui algumas vantagens, tais como:\n",
    "\n",
    "- velocidade\n",
    "- gera arrays de uma só vez, compatíveis com arrays NumPy\n",
    "- mais opções de distribuições\n"
   ]
  },
  {
   "cell_type": "code",
   "execution_count": null,
   "id": "dc60ced3",
   "metadata": {},
   "outputs": [],
   "source": [
    "# Teste de velocidade para criar números aleatórios\n",
    "\n",
    "\n",
    "import time\n",
    "\n",
    "# random\n",
    "start = time.time()\n",
    "[random.random() for _ in range(10**6)]\n",
    "print(\"random:\", time.time() - start)\n",
    "\n",
    "# numpy\n",
    "start = time.time()\n",
    "np.random.rand(10**6)\n",
    "print(\"numpy:\", time.time() - start)"
   ]
  },
  {
   "cell_type": "markdown",
   "id": "b557e732",
   "metadata": {},
   "source": [
    "## O que é uma Seed?\n",
    "\n",
    "Ao gerar números aleatórios em Python, os valores **não são verdadeiramente aleatórios**, mas **pseudoaleatórios** — ou seja, calculados por algoritmos determinísticos.\n",
    "\n",
    "A **semente (seed)** é um número inicial que define o estado interno do gerador. Ao usar a mesma seed, conseguimos **reproduzir exatamente os mesmos números aleatórios**.\n",
    "\n",
    "Assim:\n",
    "- É possível **reproduzir experimentos científicos** ou simulações.\n",
    "- Facilita o *debug* de códigos que usam aleatoriedade.\n",
    "- Garante que **resultados de testes** possam ser replicados por outras pessoas.\n",
    "\n",
    "Para usar:\n",
    "\n",
    "```python\n",
    "np.random.seed(42)  # Qualquer número inteiro pode ser usado\n",
    "```\n",
    "\n",
    "**Vamos para um exemplo:**"
   ]
  },
  {
   "cell_type": "code",
   "execution_count": null,
   "id": "218bf61a",
   "metadata": {},
   "outputs": [],
   "source": [
    "# Definindo uma semente\n",
    "np.random.seed(42)\n",
    "\n",
    "# Gerando um vetor de 10 números aleatórios\n",
    "amostra_1 = np.random.rand(10)\n",
    "\n",
    "# Repetindo com a mesma semente \n",
    "np.random.seed(42)\n",
    "amostra_2 = np.random.rand(10)\n",
    "\n",
    "print(\"Primeira geração:\")\n",
    "print(amostra_1)\n",
    "\n",
    "print(\"\\nSegunda geração com mesma seed:\")\n",
    "print(amostra_2)"
   ]
  },
  {
   "cell_type": "code",
   "execution_count": null,
   "id": "9f59f912",
   "metadata": {},
   "outputs": [],
   "source": [
    "# Comparando visualmente\n",
    "plt.plot(amostra_1, label=\"Geração 1\")\n",
    "plt.plot(amostra_2, linestyle=\"--\", label=\"Geração 2 (mesma seed)\")\n",
    "plt.title(\"Reprodutibilidade\")\n",
    "plt.legend()\n",
    "plt.grid(True)\n",
    "plt.show()"
   ]
  },
  {
   "cell_type": "markdown",
   "id": "d994a160",
   "metadata": {},
   "source": [
    "# Distribuições de Probabilidade"
   ]
  },
  {
   "cell_type": "code",
   "execution_count": null,
   "id": "2bfd43cd",
   "metadata": {},
   "outputs": [],
   "source": [
    "np.random.seed(42)"
   ]
  },
  {
   "cell_type": "markdown",
   "id": "3f2aac43",
   "metadata": {},
   "source": [
    "### Distribuição Binomial\n",
    "\n",
    "A distribuição binomial modela o número de **sucessos em n tentativas independentes**, com a mesma probabilidade \\(p\\) de sucesso.\n",
    "\n",
    "Exemplo: número de peças com defeito em um lote de 20, se a probabilidade de defeito for 5%.\n",
    "\n",
    "**Parâmetros:**\n",
    "- `n`: número de tentativas\n",
    "- `p`: probabilidade de sucesso"
   ]
  },
  {
   "cell_type": "code",
   "execution_count": null,
   "id": "389fec27",
   "metadata": {},
   "outputs": [],
   "source": [
    "amostra_binomial = np.random.binomial(n=20, p=0.05, size=1000)\n",
    "\n",
    "plt.hist(amostra_binomial, bins=range(0, 8), align='left', edgecolor='black')\n",
    "plt.title(\"Distribuição Binomial (n = 20, p = 0.05)\")\n",
    "plt.xlabel(\"Número de sucessos\")\n",
    "plt.ylabel(\"Frequência\")\n",
    "plt.grid(True)\n",
    "plt.show()"
   ]
  },
  {
   "cell_type": "markdown",
   "id": "f5547281",
   "metadata": {},
   "source": [
    "### Distribuição Multinomial\n",
    "\n",
    "A distribuição multinomial é uma generalização da binomial para mais de dois resultados possíveis.\n",
    "\n",
    "Exemplo: número de clientes que escolhem entre 3 tipos de produto.\n",
    "\n",
    "**Parâmetros:**\n",
    "- `n`: número de experimentos (clientes)\n",
    "- `pvals`: lista com as probabilidades de cada categoria"
   ]
  },
  {
   "cell_type": "code",
   "execution_count": null,
   "id": "9241ad18",
   "metadata": {},
   "outputs": [],
   "source": [
    "resultados = np.random.multinomial(n=100, pvals=[0.2, 0.5, 0.3], size=1000)\n",
    "\n",
    "# Somar número de ocorrências por categoria\n",
    "ocorrencias = resultados.sum(axis=0)\n",
    "\n",
    "plt.bar(['Produto A', 'Produto B', 'Produto C'], ocorrencias, color='skyblue', edgecolor='black')\n",
    "plt.title(\"Distribuição Multinomial (100 clientes por simulação)\")\n",
    "plt.ylabel(\"Total de escolhas\")\n",
    "plt.grid(True, axis='y')\n",
    "plt.show()"
   ]
  },
  {
   "cell_type": "markdown",
   "id": "22132751",
   "metadata": {},
   "source": [
    "### Distribuição de Poisson\n",
    "\n",
    "A distribuição de Poisson modela o número de eventos que ocorrem em um intervalo fixo de tempo ou espaço, com uma taxa média \\(\\lambda\\).\n",
    "\n",
    "Exemplo: número de chamadas recebidas por minuto em um call center.\n",
    "\n",
    "**Parâmetro:**\n",
    "- `lam`: média (λ)"
   ]
  },
  {
   "cell_type": "code",
   "execution_count": null,
   "id": "7bcbaf15",
   "metadata": {},
   "outputs": [],
   "source": [
    "amostra_poisson = np.random.poisson(lam=4, size=1000)\n",
    "\n",
    "plt.hist(amostra_poisson, bins=range(0, 12), align='left', edgecolor='black')\n",
    "plt.title(\"Distribuição de Poisson (λ = 4)\")\n",
    "plt.xlabel(\"Número de eventos\")\n",
    "plt.ylabel(\"Frequência\")\n",
    "plt.grid(True)\n",
    "plt.show()"
   ]
  },
  {
   "cell_type": "markdown",
   "id": "1f277359",
   "metadata": {},
   "source": [
    "### Distribuição Uniforme Discreta\n",
    "\n",
    "A **distribuição uniforme discreta** é usada quando há **um número finito de valores inteiros possíveis**, todos com **a mesma probabilidade** de ocorrência.\n",
    "\n",
    "Exemplos:\n",
    "- Sorteio de um número entre 1 e 6 (como um dado);\n",
    "- Seleção aleatória de um item de uma lista numerada.\n",
    "\n",
    "No Python, usamos a função conforme abaixo:\n",
    "\n",
    "```python\n",
    "np.random.randint(início, fim+1, size)"
   ]
  },
  {
   "cell_type": "code",
   "execution_count": null,
   "id": "8780afea",
   "metadata": {},
   "outputs": [],
   "source": [
    "amostra_discreta = np.random.randint(low=1, high=7, size=1000)  # Simulando lançamento de dado\n",
    "\n",
    "plt.hist(amostra_discreta, bins=range(1, 8), align='left', edgecolor='black')\n",
    "plt.title(\"Distribuição Uniforme Discreta (1 a 6)\")\n",
    "plt.xlabel(\"Valor do dado\")\n",
    "plt.ylabel(\"Frequência\")\n",
    "plt.grid(True)\n",
    "plt.show()"
   ]
  },
  {
   "cell_type": "markdown",
   "id": "ffb79c65",
   "metadata": {},
   "source": [
    "### Distribuição Uniforme Contínua\n",
    "\n",
    "Na distribuição uniforme contínua, todos os valores no intervalo \\([a, b]\\) têm a **mesma probabilidade** de ocorrer.\n",
    "\n",
    "É usada para modelar variáveis sem preferência por nenhum valor, como o tempo de atendimento de clientes em alguns sistemas simples.\n",
    "\n",
    "**Parâmetros:**\n",
    "- `low`: limite inferior \\(a\\)\n",
    "- `high`: limite superior \\(b\\)"
   ]
  },
  {
   "cell_type": "code",
   "execution_count": null,
   "id": "1bb58aa2",
   "metadata": {},
   "outputs": [],
   "source": [
    "amostras = np.random.uniform(low=2, high=5, size=1000)\n",
    "\n",
    "import matplotlib.pyplot as plt\n",
    "\n",
    "plt.hist(amostras, bins=20, edgecolor='black')\n",
    "plt.title(\"Distribuição Uniforme (2 a 5)\")\n",
    "plt.xlabel(\"Valor\")\n",
    "plt.ylabel(\"Frequência\")\n",
    "plt.show()"
   ]
  },
  {
   "cell_type": "markdown",
   "id": "912fe8cd",
   "metadata": {},
   "source": [
    "### Distribuição Exponencial\n",
    "\n",
    "A distribuição exponencial é usada para modelar o **tempo entre eventos** em um processo de Poisson, como:\n",
    "- Tempo entre chegadas de clientes;\n",
    "- Tempo até falha de um equipamento.\n",
    "\n",
    "**Parâmetro:**\n",
    "- `scale` = $\\frac{1}{\\lambda}$, onde $\\lambda$ é a taxa média de ocorrência."
   ]
  },
  {
   "cell_type": "code",
   "execution_count": null,
   "id": "8b7acda1",
   "metadata": {},
   "outputs": [],
   "source": [
    "amostras_exp = np.random.exponential(scale=3.0, size=1000)\n",
    "\n",
    "plt.hist(amostras_exp, bins=30, edgecolor='black')\n",
    "plt.title(\"Distribuição Exponencial (lambda = 1/3)\")\n",
    "plt.xlabel(\"Tempo entre eventos\")\n",
    "plt.ylabel(\"Frequência\")\n",
    "plt.show()"
   ]
  },
  {
   "cell_type": "markdown",
   "id": "bbcce718",
   "metadata": {},
   "source": [
    "### Distribuição Gama\n",
    "\n",
    "A distribuição Gama é usada para modelar **tempos até a ocorrência de múltiplos eventos**. É uma generalização da distribuição exponencial.\n",
    "\n",
    "Exemplo: tempo até que 3 clientes sejam atendidos.\n",
    "\n",
    "**Parâmetros:**\n",
    "- `shape` k: número de eventos\n",
    "- `scale` θ: escala (média individual entre eventos)"
   ]
  },
  {
   "cell_type": "code",
   "execution_count": null,
   "id": "4379f2ec",
   "metadata": {},
   "outputs": [],
   "source": [
    "np.random.seed(42)\n",
    "amostra_gama = np.random.gamma(shape=2.0, scale=2.0, size=1000)\n",
    "\n",
    "plt.hist(amostra_gama, bins=30, edgecolor='black')\n",
    "plt.title(\"Distribuição Gama (k = 2, θ = 2)\")\n",
    "plt.xlabel(\"Valor\")\n",
    "plt.ylabel(\"Frequência\")\n",
    "plt.grid(True)\n",
    "plt.show()"
   ]
  },
  {
   "cell_type": "markdown",
   "id": "9b063c1e",
   "metadata": {},
   "source": [
    "### Distribuição Beta\n",
    "\n",
    "A distribuição Beta é útil quando queremos modelar **probabilidades** ou **proporções** que variam entre 0 e 1.\n",
    "\n",
    "Exemplo: incerteza sobre a taxa de conversão de um site.\n",
    "\n",
    "**Parâmetros:**\n",
    "- `a`: parâmetro de forma α\n",
    "- `b`: parâmetro de forma β"
   ]
  },
  {
   "cell_type": "code",
   "execution_count": null,
   "id": "ae067d5b",
   "metadata": {},
   "outputs": [],
   "source": [
    "np.random.seed(42)\n",
    "amostra_beta = np.random.beta(a=2.0, b=5.0, size=1000)\n",
    "\n",
    "plt.hist(amostra_beta, bins=30, edgecolor='black')\n",
    "plt.title(\"Distribuição Beta (α = 2, β = 5)\")\n",
    "plt.xlabel(\"Valor entre 0 e 1\")\n",
    "plt.ylabel(\"Frequência\")\n",
    "plt.grid(True)\n",
    "plt.show()"
   ]
  },
  {
   "cell_type": "markdown",
   "id": "c3ccc566",
   "metadata": {},
   "source": [
    "### Distribuição Triangular\n",
    "\n",
    "A distribuição triangular é útil quando temos uma estimativa **mínima**, **máxima** e **mais provável** para um valor.\n",
    "\n",
    "Exemplo: tempo estimado para terminar uma tarefa.\n",
    "\n",
    "**Parâmetros:**\n",
    "- `left`: valor mínimo\n",
    "- `mode`: valor mais provável\n",
    "- `right`: valor máximo"
   ]
  },
  {
   "cell_type": "code",
   "execution_count": null,
   "id": "b2a80b73",
   "metadata": {},
   "outputs": [],
   "source": [
    "np.random.seed(42)\n",
    "amostra_triangular = np.random.triangular(left=2.0, mode=4.0, right=8.0, size=1000)\n",
    "\n",
    "plt.hist(amostra_triangular, bins=30, edgecolor='black')\n",
    "plt.title(\"Distribuição Triangular (2, 4, 8)\")\n",
    "plt.xlabel(\"Valor\")\n",
    "plt.ylabel(\"Frequência\")\n",
    "plt.grid(True)\n",
    "plt.show()"
   ]
  },
  {
   "cell_type": "markdown",
   "id": "6a6388ce",
   "metadata": {},
   "source": [
    "### Distribuição Normal\n",
    "\n",
    "\n",
    "A distribuição normal é uma das mais importantes em estatística. Muitos fenômenos naturais seguem esse padrão (altura, erros de medição...).\n",
    "\n",
    "**Parâmetros:**\n",
    "- `loc`: média \\( \\mu \\)\n",
    "- `scale`: desvio padrão \\( \\sigma \\)"
   ]
  },
  {
   "cell_type": "code",
   "execution_count": null,
   "id": "6a06a90a",
   "metadata": {},
   "outputs": [],
   "source": [
    "amostras_normal = np.random.normal(loc=10, scale=2, size=1000)\n",
    "\n",
    "plt.hist(amostras_normal, bins=30, edgecolor='black')\n",
    "plt.title(\"Distribuição Normal (μ=10, σ=2)\")\n",
    "plt.xlabel(\"Valor\")\n",
    "plt.ylabel(\"Frequência\")\n",
    "plt.show()"
   ]
  },
  {
   "cell_type": "markdown",
   "id": "5db75f77",
   "metadata": {},
   "source": [
    "# Exercício\n",
    "\n",
    "Suponha que temos uma fila onde os **tempos entre chegadas de clientes** seguem uma distribuição exponencial com média de 5 minutos. Simule a chegada de 20 clientes."
   ]
  },
  {
   "cell_type": "code",
   "execution_count": null,
   "id": "5918adae",
   "metadata": {},
   "outputs": [],
   "source": [
    "np.random.seed(42)\n",
    "n_clientes = 20\n",
    "tempos_entre_chegadas = np.random.exponential(scale=5.0, size=n_clientes)\n",
    "instantes_de_chegada = np.cumsum(tempos_entre_chegadas)"
   ]
  },
  {
   "cell_type": "code",
   "execution_count": null,
   "id": "6d505b37",
   "metadata": {},
   "outputs": [],
   "source": [
    "tempos_entre_chegadas"
   ]
  },
  {
   "cell_type": "code",
   "execution_count": null,
   "id": "208b12b2",
   "metadata": {},
   "outputs": [],
   "source": [
    "instantes_de_chegada"
   ]
  },
  {
   "cell_type": "code",
   "execution_count": null,
   "id": "8fe703f7",
   "metadata": {},
   "outputs": [],
   "source": [
    "plt.step(range(1, n_clientes + 1), instantes_de_chegada, where='mid')\n",
    "plt.xlabel(\"Cliente\")\n",
    "plt.ylabel(\"Tempo de Chegada (min)\")\n",
    "plt.title(\"Simulação das Chegadas de Clientes\")\n",
    "plt.grid(True)\n",
    "plt.show()"
   ]
  },
  {
   "cell_type": "markdown",
   "id": "5eef6647",
   "metadata": {},
   "source": [
    "### Exercício 2 \n",
    "\n",
    "Você é responsável por simular uma fila de atendimento.\n",
    "\n",
    "**Parâmetros:**\n",
    "- Os tempos entre chegadas seguem uma distribuição exponencial com média 3 minutos;\n",
    "- Os tempos de atendimento seguem uma distribuição uniforme entre 2 e 6 minutos.\n",
    "\n",
    "**Tarefa:**\n",
    "1. Simule a chegada de 30 clientes;\n",
    "2. Calcule os tempos de início e término do atendimento de cada cliente (considere um único atendente);\n",
    "3. Plote os gráficos:\n",
    "    - Tempo de espera de cada cliente;\n",
    "    - Tempo de sistema (espera + atendimento);"
   ]
  },
  {
   "cell_type": "code",
   "execution_count": null,
   "id": "d5edf8ae",
   "metadata": {},
   "outputs": [],
   "source": [
    "np.random.seed(42)"
   ]
  },
  {
   "cell_type": "code",
   "execution_count": null,
   "id": "e402f32b",
   "metadata": {},
   "outputs": [],
   "source": [
    "# Parâmetros\n",
    "n_clientes = 30\n",
    "media_chegada = 3.0\n",
    "tempo_min_atendimento = 2.0\n",
    "tempo_max_atendimento = 6.0"
   ]
  },
  {
   "cell_type": "code",
   "execution_count": null,
   "id": "018c8b25",
   "metadata": {},
   "outputs": [],
   "source": [
    "# Geração dos dados\n",
    "tempos_entre_chegadas = np.random.exponential(scale= media_chegada, size=n_clientes)\n",
    "instantes_chegada = np.cumsum(tempos_entre_chegadas)\n",
    "tempos_atendimento = np.random.uniform(low=tempo_min_atendimento, high=tempo_max_atendimento, size=n_clientes)"
   ]
  },
  {
   "cell_type": "code",
   "execution_count": null,
   "id": "f0718ba3",
   "metadata": {},
   "outputs": [],
   "source": [
    "# Análise da fila com um único atendente\n",
    "\n",
    "inicio_atendimento = np.zeros(n_clientes)\n",
    "fim_atendimento = np.zeros(n_clientes)\n",
    "tempo_espera = np.zeros(n_clientes)\n",
    "tempo_sistema = np.zeros(n_clientes)\n",
    "\n",
    "for i in range(n_clientes):\n",
    "    if i == 0:\n",
    "        inicio_atendimento[i] = instantes_chegada[i]\n",
    "    else:\n",
    "        inicio_atendimento[i] = max(instantes_chegada[i], fim_atendimento[i - 1])\n",
    "    fim_atendimento[i] = inicio_atendimento[i] + tempos_atendimento[i]\n",
    "    tempo_espera[i] = inicio_atendimento[i] - instantes_chegada[i]\n",
    "    tempo_sistema[i] = fim_atendimento[i] - instantes_chegada[i]"
   ]
  },
  {
   "cell_type": "code",
   "execution_count": null,
   "id": "b190d87f",
   "metadata": {},
   "outputs": [],
   "source": [
    "# Criar a tabela com pandas\n",
    "tabela = pd.DataFrame({\n",
    "    \"Cliente\": np.arange(1, n_clientes + 1),\n",
    "    \"Chegada (min)\": instantes_chegada,\n",
    "    \"Início Atendimento (min)\": inicio_atendimento,\n",
    "    \"Fim Atendimento (min)\": fim_atendimento,\n",
    "    \"Tempo de Espera (min)\": tempo_espera,\n",
    "    \"Tempo de Atendimento (min)\": tempos_atendimento,\n",
    "    \"Tempo no Sistema (min)\": tempo_sistema\n",
    "})\n",
    "\n",
    "# Exibir as primeiras linhas da tabela\n",
    "tabela"
   ]
  },
  {
   "cell_type": "code",
   "execution_count": null,
   "id": "957e3c7a",
   "metadata": {},
   "outputs": [],
   "source": [
    "# Tempo de Espera por cliente\n",
    "\n",
    "plt.figure(figsize=(10, 4))\n",
    "plt.bar(range(1, n_clientes + 1), tempo_espera, color='orange', edgecolor='black')\n",
    "plt.title(\"Tempo de Espera por Cliente\")\n",
    "plt.xlabel(\"Cliente\")\n",
    "plt.ylabel(\"Tempo de Espera (min)\")\n",
    "plt.grid(True, axis='y')\n",
    "plt.show()"
   ]
  },
  {
   "cell_type": "code",
   "execution_count": null,
   "id": "6ec57ce5",
   "metadata": {},
   "outputs": [],
   "source": [
    "# Tempo Total no Sistema por Cliente\n",
    "\n",
    "plt.figure(figsize=(10, 4))\n",
    "plt.bar(range(1, n_clientes + 1), tempo_sistema, color='green', edgecolor='black')\n",
    "plt.title(\"Tempo Total no Sistema por Cliente\")\n",
    "plt.xlabel(\"Cliente\")\n",
    "plt.ylabel(\"Tempo de Sistema (min)\")\n",
    "plt.grid(True, axis='y')\n",
    "plt.show()"
   ]
  },
  {
   "cell_type": "code",
   "execution_count": null,
   "id": "6844a147",
   "metadata": {},
   "outputs": [],
   "source": []
  }
 ],
 "metadata": {
  "kernelspec": {
   "display_name": "po3a",
   "language": "python",
   "name": "python3"
  },
  "language_info": {
   "codemirror_mode": {
    "name": "ipython",
    "version": 3
   },
   "file_extension": ".py",
   "mimetype": "text/x-python",
   "name": "python",
   "nbconvert_exporter": "python",
   "pygments_lexer": "ipython3",
   "version": "3.13.0"
  }
 },
 "nbformat": 4,
 "nbformat_minor": 5
}
