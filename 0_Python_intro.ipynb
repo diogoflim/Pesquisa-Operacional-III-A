{
 "cells": [
  {
   "cell_type": "markdown",
   "metadata": {},
   "source": [
    "[![Open In Colab](https://colab.research.google.com/assets/colab-badge.svg)](https://colab.research.google.com/github/diogoflim/Pesquisa-Operacional-III-A/blob/main/0_Python_intro.ipynb)"
   ]
  },
  {
   "attachments": {},
   "cell_type": "markdown",
   "metadata": {
    "id": "bIPFQNROQ_iA"
   },
   "source": [
    "# UNIVERSIDADE FEDERAL FLUMINENSE\n",
    "\n",
    "**Prof.: Diogo Ferreira de Lima Silva**"
   ]
  },
  {
   "cell_type": "markdown",
   "metadata": {},
   "source": [
    "**Colaboradores do notebook:** \n",
    "- Rodrigo Celso Lima Porto\n",
    "- Diogo Ferreira de Lima Silva"
   ]
  },
  {
   "attachments": {},
   "cell_type": "markdown",
   "metadata": {
    "id": "Tqj6L8qzAbvt"
   },
   "source": [
    "# INTRODUÇÃO AO PYTHON"
   ]
  },
  {
   "attachments": {},
   "cell_type": "markdown",
   "metadata": {
    "id": "CARXSpWEH2EA"
   },
   "source": [
    "## VARIÁVEIS E ESTRUTURAS DE DADOS\n",
    "\n",
    "Uma variável é um espaço que você reserva na memória temporária de sua máquina de modo que se guarde algum dado. \n",
    "\n",
    "**Variáveis são vastamente utilizadas em programação!**\n",
    "\n",
    "Por exemplo, digamos que você esteja escrevendo um texto e deseja imprimi-lo na tela."
   ]
  },
  {
   "cell_type": "code",
   "execution_count": 2,
   "metadata": {
    "colab": {
     "base_uri": "https://localhost:8080/"
    },
    "executionInfo": {
     "elapsed": 230,
     "status": "ok",
     "timestamp": 1671755906803,
     "user": {
      "displayName": "Rodrigo Celso de Lima Porto",
      "userId": "00317348114914252656"
     },
     "user_tz": 180
    },
    "id": "28inrQvHAWn1",
    "outputId": "6dc17a7f-b33e-4498-cb25-74be78c923f1"
   },
   "outputs": [
    {
     "name": "stdout",
     "output_type": "stream",
     "text": [
      "<class 'int'>\n",
      "<class 'str'>\n",
      "<class 'float'>\n",
      "<class 'bool'>\n"
     ]
    }
   ],
   "source": [
    "x = 10          # inteiro\n",
    "print(type(x))  # Imprime o tipo da variável x\n",
    "\n",
    "x = 'meu texto' # string. \n",
    "print(type(x))\n",
    "\n",
    "x = 3.141592653 # float\n",
    "print(type(x))\n",
    "\n",
    "x = True       # valor lógico (boolean) \n",
    "print(type(x))"
   ]
  },
  {
   "attachments": {},
   "cell_type": "markdown",
   "metadata": {
    "id": "eDb9yshRRp8k"
   },
   "source": [
    "Note que o operador = significa um atribuição. Para verificar se x é igual a 10, deve-se usar ==, sendo este o operador de igualdade em Python."
   ]
  },
  {
   "cell_type": "code",
   "execution_count": 3,
   "metadata": {
    "colab": {
     "base_uri": "https://localhost:8080/"
    },
    "executionInfo": {
     "elapsed": 223,
     "status": "ok",
     "timestamp": 1671755181027,
     "user": {
      "displayName": "Rodrigo Celso de Lima Porto",
      "userId": "00317348114914252656"
     },
     "user_tz": 180
    },
    "id": "MLXaMTcMRpGk",
    "outputId": "4432d4ec-8a5c-473e-9e12-730080e0518a"
   },
   "outputs": [],
   "source": [
    "x = 20"
   ]
  },
  {
   "cell_type": "markdown",
   "metadata": {
    "id": "Taw_R7TdVV4z"
   },
   "source": [
    "<p align=justify>\n",
    "&emsp; Vale mencionar que existem regras de nomeação para declaração de variáveis. É importante estar ciente que:\n",
    "\n",
    "<ul align=justify>\n",
    "<li>O nome de uma variável só pode começar com uma letra ou pelo símbolo de de sublinhado <code>_</code></li>\n",
    "<li>O nome de uma variável não pode começar por um número</li>\n",
    "<li>O nome de uma variável só pode conter símbolos alfa-númericos (a-z, A-z e 0-9) e o <code>_</code> (não vale letras acentuadas)</li>\n",
    "<li>Python é <i>case sensitive</i>, portanto maiúsculas e minúsculas diferem</li>\n",
    "</ul>\n",
    "</p>"
   ]
  },
  {
   "cell_type": "code",
   "execution_count": 4,
   "metadata": {
    "colab": {
     "base_uri": "https://localhost:8080/"
    },
    "executionInfo": {
     "elapsed": 12,
     "status": "ok",
     "timestamp": 1671798556036,
     "user": {
      "displayName": "Rodrigo Celso de Lima Porto",
      "userId": "00317348114914252656"
     },
     "user_tz": 180
    },
    "id": "Iq2wJUVnVVND",
    "outputId": "ab837ee2-788d-4535-87b4-765163ad4070"
   },
   "outputs": [
    {
     "name": "stdout",
     "output_type": "stream",
     "text": [
      "num: 4\n",
      "Num: 5\n",
      "nUm: 9\n"
     ]
    }
   ],
   "source": [
    "num = 4\n",
    "Num = 5\n",
    "nUm = num + Num\n",
    "print('num:', num)\n",
    "print('Num:', Num)\n",
    "print('nUm:', nUm)"
   ]
  },
  {
   "cell_type": "markdown",
   "metadata": {
    "id": "UrUE4vvXE1vY"
   },
   "source": [
    "Também é possível realizar atribuições múltiplas, em que $n$ valores são atribuídos à variáveis em uma única linha de código.\n"
   ]
  },
  {
   "cell_type": "code",
   "execution_count": 5,
   "metadata": {
    "colab": {
     "base_uri": "https://localhost:8080/"
    },
    "executionInfo": {
     "elapsed": 5,
     "status": "ok",
     "timestamp": 1671800870497,
     "user": {
      "displayName": "Rodrigo Celso de Lima Porto",
      "userId": "00317348114914252656"
     },
     "user_tz": 180
    },
    "id": "1F75cyDdFijA",
    "outputId": "de756dc6-12e0-4ef4-f4a2-a489ad515b23"
   },
   "outputs": [
    {
     "name": "stdout",
     "output_type": "stream",
     "text": [
      "Nome: João\n",
      "Idade: 11\n",
      "Altura 1.51 m\n",
      "Gênero: M\n",
      "Casado: False\n"
     ]
    }
   ],
   "source": [
    "nome, idade, altura, genero, casado = 'João', 11, 1.51, 'M', False\n",
    "print('Nome:', nome)\n",
    "print('Idade:', idade)\n",
    "print('Altura', altura, 'm')\n",
    "print('Gênero:', genero)\n",
    "print('Casado:', casado)"
   ]
  },
  {
   "cell_type": "markdown",
   "metadata": {
    "id": "wUNEahQKfwdu"
   },
   "source": [
    "Ao invés de passar várias <i>strings</i> para a função <code><font color='#DCDCAA'>print</font>()</code>, é possível concatenar várias <i>strings</i> em uma única <i>string</i> utilizando o sinal de <code>+</code>.\n",
    "\n",
    "Caso se esteja querendo concatenar uma <i>string</i> com um dado que não seja <i>string</i>, é necessário antes convertê-lo para <code><font color='#4EC9B0'>str</font></code> usando a função <code><font color='#4EC9B0'>str</font>()</code>.\n"
   ]
  },
  {
   "cell_type": "code",
   "execution_count": null,
   "metadata": {
    "colab": {
     "base_uri": "https://localhost:8080/"
    },
    "executionInfo": {
     "elapsed": 297,
     "status": "ok",
     "timestamp": 1671807828361,
     "user": {
      "displayName": "Rodrigo Celso de Lima Porto",
      "userId": "00317348114914252656"
     },
     "user_tz": 180
    },
    "id": "mJOzX9Z4gcli",
    "outputId": "36cb7fe9-3460-4267-e7c3-57a53b8aeec0"
   },
   "outputs": [
    {
     "name": "stdout",
     "output_type": "stream",
     "text": [
      "Nome: João\n",
      "Idade: 11\n",
      "Altura: 1.51 m\n",
      "Gênero: M\n",
      "Casado: False\n"
     ]
    }
   ],
   "source": [
    "nome, idade, altura, genero, casado = 'João', 11, 1.51, 'M', False\n",
    "print('Nome: ' + nome)\n",
    "print('Idade: ' + str(idade))\n",
    "print('Altura: ' + str(altura) + ' m')\n",
    "print('Gênero: ' + genero)\n",
    "print('Casado: ' + str(casado))"
   ]
  },
  {
   "cell_type": "markdown",
   "metadata": {
    "id": "15Xzw0OacVIs"
   },
   "source": [
    "<p align=justify>\n",
    "&emsp; Dentre os principais tipos de variáveis e estruturas de dados que existem no Python, tem-se:\n",
    "\n",
    "<ul align=justify>\n",
    "<li><code><font color='#4EC9B0'>str</font></code> (<i>String</i>) Cadeias de caracteres ou textos, já anteriormente apresentadas.</li>\n",
    "<li><code><font color='#4EC9B0'>int</font></code> (<i>Integer</i>) Números inteiros. A base padrão é a decimal, mas é possível usar outras bases como binária (iniciada com <code><font color='#B2CBA5'>0b</font></code>), octal (iniciada com <code><font color='#B2CBA5'>0o</font></code>) ou hexadecimal (iniciada com <code><font color='#B2CBA5'>0x</font></code>).</li>\n",
    "<li><code><font color='#4EC9B0'>float</font></code> (<i>floating-point value</i>) Números de ponto flutuante, isto é, números com casas decimais. A precisão máxima aceita pelo Python é <code>1e-14</code>, isto é, 14 casas decimais.</li>\n",
    "<li><code><font color='#4EC9B0'>complex</font></code> (<i>Complex</i>) Número complexo, ou imaginário, cuja parte imaginpario é representado pela letra <code><font color='#B2CBA5'>j</font></code> no Python.</li>\n",
    "<li><code><font color='#4EC9B0'>bool</font></code> (<i>Boolean</i>) Valor lógico, que pode ser <code><font color='#569CD6'>True</font></code> ou <code><font color='#569CD6'>False</font></code>. Possuem esse nome em homenagem ao matemático <a href='https://pt.wikipedia.org/wiki/George_Boole'>George Boole</a>.</li>\n",
    "<li><code><font color='#4EC9B0'>tuple</font></code> (<i>Tuple</i>) Tupla de valores, um estrutura de dados compreendido por <code>()</code>, cujos valores são <b>ordenados</b>, <b>imutáveis</b>, <b>permitem duplicatas</b> e <b>indexados a partir do 0</b>.</li>\n",
    "<li><code><font color='#4EC9B0'>list</font></code> (<i>List</i>) Lista de valores, uma estrutura de dados compreendido por <code>[]</code>, cujos valores são <b>ordenados</b>, <b>mutáveis</b>, <b>permitem duplicatas</b> e <b>indexados a partir do 0</b>.</li>\n",
    "<li><code><font color='#4EC9B0'>set</font></code> (<i>Set</i>) Conjunto de valores, uma estrutura de dados compreendido por <code>{}</code>, cujos valores são <b>não ordenados</b>, <b>imutáveis</b>, <b>não permitem duplicatas</b> e <b>não são indexados</b>.</li>\n",
    "<li><code><font color='#4EC9B0'>dict</font></code> (<i>Dictionary</i>) Dicionário de valores, uma estrutura de dados compreendido por <code>{}</code>, cujos valores são <b>não ordenados</b>, <b>mutáveis</b>, <b>não permitem duplicatas</b> e <b>são indexados por valores chaves</b>.</li>\n",
    "</ul>\n",
    "</p>"
   ]
  },
  {
   "cell_type": "markdown",
   "metadata": {
    "id": "5QyugOfHlqFt"
   },
   "source": [
    "---\n",
    "## *Strings*\n",
    "---\n",
    "\n",
    "<p align=justify>\n",
    "&emsp; Como apresentado anteriormente, <i>strings</i> são como são chamados os dados de caracteres em Python, por justamente representarem cadeias de caracteres.\n",
    "<br>\n",
    "&emsp; Lembra-se que praticamente tudo no Python é um objeto? Pois cada coisinha possuía atributos, estados e métodos? Esse é justamente o caso dos tipos de dados no Python. Uma vez que o interpretador reconhecer que um dado é de um determinado tipo, ele constrói uma instância do objeto daquele tipo, atribuindo-lhe todos os atributos e métodos pertinentes ao seu tipo.\n",
    "<br>\n",
    "&emsp; As principais funções embutidas e métodos aplicados para os dados do tipo <code><font color='#4EC9B0'>str</font></code> são:\n",
    "\n",
    "<ul>\n",
    "<li><code><font color='#DCDCAA'>len</font>()</code> (<i>Length</i>) Função que retorna o comprimento da <i>string</i>, isto é, a quantidade de caracteres que o compõe.</li>\n",
    "<li><code>.<font color='#DCDCAA'>upper</font>()</code> (<i>Uppercase</i>) Método que retorna o a <i>string</i> com todas as letras em maiúscula.</li>\n",
    "<li><code>.<font color='#DCDCAA'>lower</font>()</code> (<i>Lowercase</i>) Método que retorna o a <i>string</i> com todas as letras em minúscula.</li>\n",
    "<li><code>.<font color='#DCDCAA'>strip</font>()</code> Método que divide uma <i>string</i> em duas ou mais <i>strings</i> a partir de uma <i>string</i> separadora passada como parâmetro para o método.</li>\n",
    "<li><code>.<font color='#DCDCAA'>replace</font>()</code> Método que remove os espaços vazios que estejam no início ou no fim de uma <i>string</i>.</li>\n",
    "<li><code>.<font color='#DCDCAA'>format</font>()</code> Método que insere dados formatados para dentro de uma <i>string</i> por meio de caracteres de escape <code>{}</code>.</li>\n",
    "</ul>\n",
    "\n",
    "&emsp; Vamos ver a utilização de cada uma delas.\n",
    "</p>"
   ]
  },
  {
   "cell_type": "code",
   "execution_count": 6,
   "metadata": {
    "colab": {
     "base_uri": "https://localhost:8080/"
    },
    "executionInfo": {
     "elapsed": 222,
     "status": "ok",
     "timestamp": 1671803251096,
     "user": {
      "displayName": "Rodrigo Celso de Lima Porto",
      "userId": "00317348114914252656"
     },
     "user_tz": 180
    },
    "id": "p11rB45NcsOA",
    "outputId": "6daf42b6-53a0-44e2-c68d-0bd43ab7eaee"
   },
   "outputs": [
    {
     "name": "stdout",
     "output_type": "stream",
     "text": [
      "29\n",
      "47\n",
      "18\n"
     ]
    }
   ],
   "source": [
    "print(len('Anticonstitucionalissimamente'))\n",
    "print(len('Pneulmoultramicroscopicossilicovulcanoconiótico'))\n",
    "print(len('homo hominis lupus')) # Espaços vazios também contam"
   ]
  },
  {
   "cell_type": "code",
   "execution_count": null,
   "metadata": {
    "colab": {
     "base_uri": "https://localhost:8080/"
    },
    "executionInfo": {
     "elapsed": 238,
     "status": "ok",
     "timestamp": 1671803336804,
     "user": {
      "displayName": "Rodrigo Celso de Lima Porto",
      "userId": "00317348114914252656"
     },
     "user_tz": 180
    },
    "id": "Lz-AJmxGPT3B",
    "outputId": "116b6d90-404c-4a51-a660-4192acc9ec8b"
   },
   "outputs": [
    {
     "name": "stdout",
     "output_type": "stream",
     "text": [
      "CARPE DIEM\n",
      "memento mori\n"
     ]
    }
   ],
   "source": [
    "print('carpe diem'.upper())\n",
    "print('MEMENTO MORI'.lower())"
   ]
  },
  {
   "cell_type": "markdown",
   "metadata": {
    "id": "48B2tbLWPwMY"
   },
   "source": [
    "Neste momento já é possível perceber a principal diferença prática entre uma <b>função</b> e um <b>método</b>. Uma função não precisa de um objeto para ser acessada, bastando chamá-la no código quando quiser, já um método necessita de um objeto para chamá-la, já que um método representa um comportamento ou uma ação a ser aplicada sobre o objeto.\n",
    "\n",
    "\n",
    "Por isso que <code><font color='#DCDCAA'>len</font>()</code> pôde ser chamada sem necessitar de um objeto antes dela para contabiliar o número de caracteres de um <i>string</i>, pois <code><font color='#DCDCAA'>len</font>()</code> não é um método nativo do objeto, mas sim uma função já existente na linguagem Python. Além disso, veremos mais adiante que <code><font color='#DCDCAA'>len</font>()</code> pode ser utilizada para outros tipos de dados, não só para <i>strings</i>.\n",
    "\n",
    "\n",
    "Já os métodos <code>.<font color='#DCDCAA'>upper</font>()</code> e <code>.<font color='#DCDCAA'>lower</font>()</code>, por existirem apenas dentro do objeto <code><font color='#4EC9B0'>str</font></code>, somente podem ser acessados por meio deles. Na maioria das linguagens, o operador de acesso aos atributos e métodos de um objeto é o ponto final <code>.</code>, como foi visto no bloco anterior.\n",
    "\n",
    "\n",
    "Vale ressaltar que só é possível acessar esses dois métodos das <i>strings</i> <code><font color='#CE9178'>'carpe diem'</font></code> e <code><font color='#CE9178'>'MEMENTO MORI'</font></code> pois o Pyhton considera todo tipo de dado como um objeto. Outras linguagens não fazem isso. Se fosse o caso do Python não considerá-los como sendo objetos, ou haveria funções nativas que já permitissem converter minúsculas em maiúsculas e vice-versa, ou teríamos que nós mesmos definir essas funções. Mais para frente, vamos ver como definir nossas próprias funções.\n",
    "\n",
    "Dando seguimento aos exemplos...\n"
   ]
  },
  {
   "cell_type": "code",
   "execution_count": 7,
   "metadata": {
    "colab": {
     "base_uri": "https://localhost:8080/"
    },
    "executionInfo": {
     "elapsed": 236,
     "status": "ok",
     "timestamp": 1671804395820,
     "user": {
      "displayName": "Rodrigo Celso de Lima Porto",
      "userId": "00317348114914252656"
     },
     "user_tz": 180
    },
    "id": "ifgJ0wKzTPoo",
    "outputId": "c857f5bd-7762-45f7-e2ef-4b7670b774ec"
   },
   "outputs": [
    {
     "name": "stdout",
     "output_type": "stream",
     "text": [
      "nome.sobrenomne\n",
      "email.com\n"
     ]
    }
   ],
   "source": [
    "email = 'nome.sobrenomne@email.com'\n",
    "usuario, servidor = email.split('@') # Atribuição múltipla\n",
    "\n",
    "\"\"\"\n",
    "O método .split() separa o email em duas strings a partir do símbolo de @\n",
    "e vai armazenar o usuario e o servidor em duas variáveis diferentes.\n",
    "\"\"\"\n",
    "\n",
    "print(usuario)\n",
    "print(servidor)"
   ]
  },
  {
   "cell_type": "code",
   "execution_count": 8,
   "metadata": {
    "colab": {
     "base_uri": "https://localhost:8080/"
    },
    "executionInfo": {
     "elapsed": 209,
     "status": "ok",
     "timestamp": 1671804785896,
     "user": {
      "displayName": "Rodrigo Celso de Lima Porto",
      "userId": "00317348114914252656"
     },
     "user_tz": 180
    },
    "id": "KZ03x9S9U3p1",
    "outputId": "8a4bb452-d0fe-4021-f3fd-7a8f4871e91b"
   },
   "outputs": [
    {
     "name": "stdout",
     "output_type": "stream",
     "text": [
      "hunger\n"
     ]
    }
   ],
   "source": [
    "print('hunter'.replace('t', 'g'))"
   ]
  },
  {
   "cell_type": "code",
   "execution_count": 12,
   "metadata": {
    "colab": {
     "base_uri": "https://localhost:8080/"
    },
    "executionInfo": {
     "elapsed": 302,
     "status": "ok",
     "timestamp": 1671806871323,
     "user": {
      "displayName": "Rodrigo Celso de Lima Porto",
      "userId": "00317348114914252656"
     },
     "user_tz": 180
    },
    "id": "dqmuSO_mVKnQ",
    "outputId": "b2c60340-e692-46e1-9716-27894dcc0fe2"
   },
   "outputs": [
    {
     "name": "stdout",
     "output_type": "stream",
     "text": [
      "A área de um círculo de raio 2000 m é de 12566370.6103588 m²\n"
     ]
    }
   ],
   "source": [
    "pi = 3.1415926525897\n",
    "raio = 2000\n",
    "area = pi * raio ** 2\n",
    "\n",
    "print('A área de um círculo de raio {} m é de {} m²'.format(raio, area))"
   ]
  },
  {
   "cell_type": "markdown",
   "metadata": {
    "id": "N9XRcYuBXCs8"
   },
   "source": [
    "<p align=justify>\n",
    "&emsp; O método <code>.<font color='#DCDCAA'>format</font>()</code>, como o próprio nome sugere, formata uma <i>string</i> inserindo os valores passados como parâmetros para dentro de espaços reservados (<i>placeholders</i>) representados por <code>{}</code> dentro da <i>string</i>.\n",
    "<br>\n",
    "&emsp; Nesses <code>{}</code>, é possível explicitar a formatação dos valores por meio de uma <b>sintaxe de formatação</b>, que podem ser:\n",
    "\n",
    "<ul align=justify>\n",
    "<li><code>:></code> O valor será alinhado à direita (dentro do espaço disponibilizado). Por padrão, os valores serão alinhados à direita.</li>\n",
    "<li><code>:<</code> O valor será alinhado à esquerda (dentro do espaço disponibilizado).</li>\n",
    "<li><code>:^</code> O valor será centralizado (dentro do espaço disponibilizado).</li>\n",
    "<li><code>: </code> Reserva um espaço para o sinal algébrico. Caso seja um número negativo, exibirá um <code>-</code>; do contrário, exibirá um espaço vazio.</li>\n",
    "<li><code>:+</code> Reserva um espaço para o sinal algébrico. Caso seja um número negativo, exibirá um <code>-</code>; se for positivo, exibirá o sinal de <code>+</code>; se for nulo, exibirá um espaço vazio.</li>\n",
    "<li><code>:.</code> Utiliza o ponto final como separador de milhar.</li> \n",
    "<li><code>:,</code> Utiliza a vírgula como separador de milhar.</li>\n",
    "<li><code>:_</code> Utiliza o sublinhado como separador de milhar.</li>\n",
    "<li><code>:'número'</code> O número informado representa a quantidade de espaços reservados para o valor. Por exemplo, <code>{:9}</code> significa que o valor terá 9 espaços reservados para ocupar. Caso a quantidade de caracteres do valor seja menor que o espaço reservado, os espaços não ocupados ficarão vazias.</li>\n",
    "<li><code>:.'número'</code> O número informado após o ponto representa a quantidade de casas decimais. Por exemplo, <code>{:.2}</code> significa que o valor terá dois número após o ponto decimal.</li>\n",
    "<li><code>:g</code> Formato genérico.</li>\n",
    "<li><code>:G</code> Formato genérico (Utiliza um <code>E</code> maiúsculo em notações científicas).</li>\n",
    "<li><code>:f</code> Representa o valor como sendo um ponto flutuante.</li>\n",
    "<li><code>:F</code> Representa o valor como sendo um ponto flutuante, em letras maiúsculas (isto é, <code>inf</code> e <code>nan</code> passam a ser <code>INF</code> e <code>NAN</code>).</li>\n",
    "<li><code>:e</code> Formato científico com um <code>e</code> minúsculo.</li>\n",
    "<li><code>:E</code> Formato científico com um <code>E</code> maiúsculo.</li>\n",
    "<li><code>:c</code> Converte o valor ao correspondente caracter Unicode.</li>\n",
    "<li><code>:b</code> Formato binário.</li>\n",
    "<li><code>:o</code> Formato octal.</li>\n",
    "<li><code>:x</code> Formato hexadecimal</li>\n",
    "<li><code>:X</code> Formato hexadecimal, em letras maiúsculas.</li>\n",
    "<li><code>:n</code> Formato de número.</li>\n",
    "<li><code>:%</code> Formato percentual.</li>\n",
    "</ul>\n",
    "\n",
    "&emsp; Também é possível combinar as sintaxes para obter uma formatação mais customizada. Por exemplo, podemos escrever <code>{:,.2f}</code> para que os números tenham a vírgula como separador de milhar, 2 casas decimais após o ponto e sejam representadas como números flutuantes.\n",
    "</p>"
   ]
  },
  {
   "cell_type": "code",
   "execution_count": 13,
   "metadata": {
    "colab": {
     "base_uri": "https://localhost:8080/"
    },
    "executionInfo": {
     "elapsed": 217,
     "status": "ok",
     "timestamp": 1671806979937,
     "user": {
      "displayName": "Rodrigo Celso de Lima Porto",
      "userId": "00317348114914252656"
     },
     "user_tz": 180
    },
    "id": "cOyGI-3uWiNd",
    "outputId": "e7c912cb-866f-447f-a535-f0e6be66cbcd"
   },
   "outputs": [
    {
     "name": "stdout",
     "output_type": "stream",
     "text": [
      "A área de um círculo de raio 2,000.00 m é de 12,566,370.61 m²\n"
     ]
    }
   ],
   "source": [
    "pi = 3.1415926525897\n",
    "raio = 2000\n",
    "area = pi * raio ** 2\n",
    "\n",
    "print('A área de um círculo de raio {:,.2f} m é de {:,.2f} m²'.format(raio, area))"
   ]
  },
  {
   "cell_type": "markdown",
   "metadata": {
    "id": "4tWS6F4KeVzv"
   },
   "source": [
    "Uma melhor forma de formatar <i>strings</i> no Python é colocando um <code><font color='#569CD6'>f</font></code> no início da <i>string</i> para informar ao Python que se trata de um texto formatável. \n",
    "\n",
    "Tais <i>strings</i> são conhecidas por <i>f-strings</i> entre os programadores."
   ]
  },
  {
   "cell_type": "code",
   "execution_count": 15,
   "metadata": {
    "colab": {
     "base_uri": "https://localhost:8080/"
    },
    "executionInfo": {
     "elapsed": 237,
     "status": "ok",
     "timestamp": 1671807405661,
     "user": {
      "displayName": "Rodrigo Celso de Lima Porto",
      "userId": "00317348114914252656"
     },
     "user_tz": 180
    },
    "id": "NR-xBrVee3mG",
    "outputId": "d45ba21d-ef99-4e4e-cc8d-22ed1085d430"
   },
   "outputs": [
    {
     "name": "stdout",
     "output_type": "stream",
     "text": [
      "A área de um círculo de raio 2000 m é de 12,566,370.61 m²\n"
     ]
    }
   ],
   "source": [
    "pi = 3.1415926525897\n",
    "raio = 2000\n",
    "area = pi * raio ** 2\n",
    "\n",
    "print(f'A área de um círculo de raio {raio} m é de {area:,.2f} m²')"
   ]
  },
  {
   "cell_type": "markdown",
   "metadata": {
    "id": "_ELiPWMT5WIA"
   },
   "source": [
    "<p align=justify>\n",
    "&emsp; É possível também acessar cada um dos caracteres de uma <i>string</i> informando o seu índice entre <code>[]</code>, sabendo que o primeiro caracter de uma <i>string</i> possui índice 0 e os índices informados sempre devem ser do tipo  <code><font color='#4EC9B0'>int</font></code>. \n",
    "</p>"
   ]
  },
  {
   "cell_type": "code",
   "execution_count": null,
   "metadata": {
    "colab": {
     "base_uri": "https://localhost:8080/"
    },
    "executionInfo": {
     "elapsed": 204,
     "status": "ok",
     "timestamp": 1671815889035,
     "user": {
      "displayName": "Rodrigo Celso de Lima Porto",
      "userId": "00317348114914252656"
     },
     "user_tz": 180
    },
    "id": "7zY7VHme5ve2",
    "outputId": "8b6182f9-78a1-466a-e2bc-70c14a47b45f"
   },
   "outputs": [
    {
     "name": "stdout",
     "output_type": "stream",
     "text": [
      "1ª letra: J\n",
      "2ª letra: e\n",
      "3ª letra: r\n"
     ]
    }
   ],
   "source": [
    "nome = 'Jerônimo'\n",
    "\n",
    "print(f'1ª letra: {nome[0]}')\n",
    "print(f'2ª letra: {nome[1]}')\n",
    "print(f'3ª letra: {nome[2]}')"
   ]
  },
  {
   "cell_type": "markdown",
   "metadata": {
    "id": "d3fYaOK_81Jo"
   },
   "source": [
    "<p align=justify>\n",
    "&emsp; É possível utilizar índices negativos. Nestes caso, o índice <code><font color='#B2CBA5'>-1</font></code> representa o último caracter da <i>string</i>, <code><font color='#B2CBA5'>-2</font></code> o penúltimo, <code><font color='#B2CBA5'>-3</font></code> o antepenúltimo, e assim em diante.\n",
    "</p>"
   ]
  },
  {
   "cell_type": "code",
   "execution_count": 16,
   "metadata": {
    "colab": {
     "base_uri": "https://localhost:8080/"
    },
    "executionInfo": {
     "elapsed": 219,
     "status": "ok",
     "timestamp": 1671815470213,
     "user": {
      "displayName": "Rodrigo Celso de Lima Porto",
      "userId": "00317348114914252656"
     },
     "user_tz": 180
    },
    "id": "ibz23Gsj9a24",
    "outputId": "e0fa7465-adc6-4334-992a-7fac47d44f8c"
   },
   "outputs": [
    {
     "name": "stdout",
     "output_type": "stream",
     "text": [
      "Última letra: o\n",
      "Penúltima letra: n\n",
      "Antepenúltima letra: o\n",
      "Anteantepenúltima letra: g\n"
     ]
    }
   ],
   "source": [
    "forma = 'Hexágono'\n",
    "\n",
    "print(f'Última letra: {forma[-1]}')\n",
    "print(f'Penúltima letra: {forma[-2]}')\n",
    "print(f'Antepenúltima letra: {forma[-3]}')\n",
    "print(f'Anteantepenúltima letra: {forma[-4]}')"
   ]
  },
  {
   "cell_type": "markdown",
   "metadata": {
    "id": "PPTY3aic6lcg"
   },
   "source": [
    "<p align=justify>\n",
    "&emsp; Também é possível fatiar uma <i>string</i> em <i>strings</i> menores usando <code>[<font color='#B2CBA5'>início</font>:]</code>, <code>[:<font color='#B2CBA5'>fim + 1</font>]</code>, ou <code>[<font color='#B2CBA5'>início</font>:<font color='#B2CBA5'>fim + 1</font>]</code>, ou ainda <code>[<font color='#B2CBA5'>início</font>:<font color='#B2CBA5'>fim + 1</font>:<font color='#B2CBA5'>passo</font>]</code>.\n",
    "</p>"
   ]
  },
  {
   "cell_type": "code",
   "execution_count": 17,
   "metadata": {
    "colab": {
     "base_uri": "https://localhost:8080/"
    },
    "executionInfo": {
     "elapsed": 214,
     "status": "ok",
     "timestamp": 1671815755142,
     "user": {
      "displayName": "Rodrigo Celso de Lima Porto",
      "userId": "00317348114914252656"
     },
     "user_tz": 180
    },
    "id": "-XSDKS2_7qzo",
    "outputId": "17047f4c-16bd-49ee-a82f-887e1bc03fa1"
   },
   "outputs": [
    {
     "name": "stdout",
     "output_type": "stream",
     "text": [
      "paralel\n",
      "ralelep\n",
      "lelep\n",
      "prllppd\n",
      "aaeeíeo\n",
      "rep\n"
     ]
    }
   ],
   "source": [
    "palavra = 'paralelepípedo'\n",
    "\n",
    "print(palavra[:7])     # 7 primeiras letras.\n",
    "print(palavra[2:9])    # String entre os caracteres de índices 2 e 8.\n",
    "print(palavra[4:9])    # As últimas letras começando do caracter de índice 4.\n",
    "print(palavra[::2])    # pega as letras de índice par\n",
    "print(palavra[1::2])   # pega as letras de índice ímpar\n",
    "print(palavra[2:10:3]) # pega as letras, começando do índice 2 até 9, indo de 3 em 3."
   ]
  },
  {
   "cell_type": "markdown",
   "metadata": {
    "id": "THRIn2DxfZ6f"
   },
   "source": [
    "---\n",
    "## *Ints* e *floats*\n",
    "---\n",
    "\n",
    "<p align=justify>\n",
    "&emsp; São assim como são conhecidos os inteiros e os números fracionários (ou de ponto flutuante) no Python.\n",
    "<br>\n",
    "&emsp; Dentre as principais operações e funções matemáticas que podemos executar com esses tipos de dado no Python podemos citar:\n",
    "\n",
    "<ul align=justify>\n",
    "<li>As operações aritméticas básicas: soma <code>+</code>, subtração <code>-</code>, multiplicação <code>*</code> e divisão <code>/</code>.</li>\n",
    "<li>A divisão inteira, isto é, o quociente inteiro da divisão, desconsiderando o resto, feito utilizando duas barras <code>//</code> (aplicável apenas para dados do tipo <code><font color='#4EC9B0'>int</font></code>).</li>\n",
    "<li>O resto da divisão inteira, usando como operador o sinal de porcentagem <code>%</code> (aplicável apenas para dados do tipo <code><font color='#4EC9B0'>int</font></code>).</li>\n",
    "<li>A grande maioria das linguagens de programação usam o <code>^</code> para realizar a potenciação, mas o Python tinha que ser o diferentão e usar o asterisco duplicado <code>**</code> para realizar essa operação.</li>\n",
    "<li>A função nativa de soma <code><font color='#DCDCAA'>sum</font>()</code>, que usaremos bastante quando mexermos com Pyomo.</li>\n",
    "<li>A função nativa <code><font color='#DCDCAA'>abs</font>()</code>, que retorna o valor absoluto de um valor, isto é, o seu módulo, desconsiderando o seu sinal algébrico.</li>\n",
    "<li>Funções nativas <code><font color='#DCDCAA'>min</font>()</code> e <code><font color='#DCDCAA'>max</font>()</code> para obter os valores mínimos e máximos de uma coleção de dados.</li>\n",
    "<li>Algumas funções matemáticas como as trigonométricas <code>sin()</code>, <code>cos()</code> e <code>tan()</code>, o logaritmo <code>log()</code>, a exponenciação <code>exp()</code>, raiz quadrada <code>sqrt()</code> etc. só podem ser realizadas importando bibliotecas próprias para isso. A biblioteca mais utilizada para realizar essas operações é o <code>math</code>.</li>\n",
    "<li>Funções estatísticas, como média <code>mean()</code>, desvio padrão <code>stdev()</code> ou <code>sd()</code>, mediana <code>median()</code>, moda <code>mode()</code> etc. podem ser usadas importando bibliotecas como <code>statistics</code>, <code>scypy</code> e <code>pandas</code>.</li>\n",
    "</ul>\n",
    "\n",
    "&emsp; Vale sempre lembrar que o Python respeita as regras de precedência para calcular as expressões matemáticas, sempre da esquerda para direita, das mais internas para as mais externas.\n",
    "\n",
    "<ol align=justify>\n",
    "<li>As expressões que se encontram entre parênteses;</li>\n",
    "<li>As funções matemáticas;</li>\n",
    "<li>Potenciações e radiciações;</li>\n",
    "<li>Multiplicações e divisões;</li>\n",
    "<li>Somas e subtrações.</li>\n",
    "</ol>\n",
    "</p>"
   ]
  },
  {
   "cell_type": "code",
   "execution_count": 18,
   "metadata": {
    "colab": {
     "base_uri": "https://localhost:8080/"
    },
    "executionInfo": {
     "elapsed": 245,
     "status": "ok",
     "timestamp": 1671900949137,
     "user": {
      "displayName": "Rodrigo Celso de Lima Porto",
      "userId": "00317348114914252656"
     },
     "user_tz": 180
    },
    "id": "kBIUPq61vTAY",
    "outputId": "814ac099-7311-4963-ba4b-f30bfe98385c"
   },
   "outputs": [
    {
     "name": "stdout",
     "output_type": "stream",
     "text": [
      "Soma:             340.00\n",
      "Subtração:        350.00\n",
      "Multiplicação:   -1725.00\n",
      "Divisão:         -69.00\n",
      "Divisão inteira: -69.00\n",
      "Resto:            0.00\n",
      "Potenciação:      0.00\n",
      "Módulo de x:      345.00\n",
      "Módulo de y:      5.00\n"
     ]
    }
   ],
   "source": [
    "x, y = 345, -5\n",
    "\n",
    "soma    = x + y\n",
    "subt    = x - y\n",
    "mult    = x * y\n",
    "div     = x / y\n",
    "div_int = x // y\n",
    "resto   = x % y\n",
    "pot     = x ** y\n",
    "mod_x   = abs(x)\n",
    "mod_y   = abs(y)\n",
    "\n",
    "print(f'Soma: {soma:18.2f}')\n",
    "print(f'Subtração: {subt:13.2f}')\n",
    "print(f'Multiplicação: {mult:10.2f}')\n",
    "print(f'Divisão: {div:14.2f}')\n",
    "print(f'Divisão inteira: {div_int:6.2f}')\n",
    "print(f'Resto: {resto:15.2f}')\n",
    "print(f'Potenciação: {pot:9.2f}')\n",
    "print(f'Módulo de x: {mod_x:11.2f}')\n",
    "print(f'Módulo de y: {mod_y:9.2f}')"
   ]
  },
  {
   "cell_type": "markdown",
   "metadata": {
    "id": "KtMnfuwFzjQB"
   },
   "source": [
    "<p align=justify>\n",
    "&emsp; Vamos importar a biblioteca <code>math</code> para usar as funções matemáticas.\n",
    "</p>"
   ]
  },
  {
   "cell_type": "code",
   "execution_count": 19,
   "metadata": {
    "colab": {
     "base_uri": "https://localhost:8080/"
    },
    "executionInfo": {
     "elapsed": 297,
     "status": "ok",
     "timestamp": 1671900952158,
     "user": {
      "displayName": "Rodrigo Celso de Lima Porto",
      "userId": "00317348114914252656"
     },
     "user_tz": 180
    },
    "id": "7r-DBMBz1l65",
    "outputId": "83b19979-7cb3-4970-98b3-1456431047d2"
   },
   "outputs": [
    {
     "name": "stdout",
     "output_type": "stream",
     "text": [
      "sen(x) = -0.54\n",
      "cos(x) =  0.84\n",
      "tan(x) = -0.65\n",
      "log(x) =  5.84\n",
      "exp(x) =  678,572,502,005,717,114,936,084,201,252,923,068,757,816,206,693,592,959,739,978,656,180,233,096,564,187,865,891,727,183,527,130,380,662,882,630,766,402,796,917,605,194,684,903,182,578,622,484,447,232.00\n",
      "sqrt(x) =  18.57\n"
     ]
    }
   ],
   "source": [
    "import math\n",
    "\n",
    "seno = math.sin(x)\n",
    "cosseno = math.cos(x)\n",
    "tangente = math.tan(x)\n",
    "logaritmo = math.log(x)\n",
    "exponencial = math.exp(x)\n",
    "raiz_quadrada = math.sqrt(x)\n",
    "\n",
    "print(f'sen(x) = {seno:+1.2f}')\n",
    "print(f'cos(x) = {cosseno: 1.2f}')\n",
    "print(f'tan(x) = {tangente: 1.2f}')\n",
    "print(f'log(x) = {logaritmo: 1.2f}')\n",
    "print(f'exp(x) = {exponencial: 1,.2f}')\n",
    "print(f'sqrt(x) = {raiz_quadrada: .2f}')"
   ]
  },
  {
   "cell_type": "markdown",
   "metadata": {
    "id": "Pdw5dY0X_pvR"
   },
   "source": [
    "<p aling=justify>\n",
    "&emsp; Existem basicamente 4 formas de importar bibliotecas no Python:\n",
    "\n",
    "<ul align=justify>\n",
    "<li>\n",
    "Usando <code><font color='#C586C0'>import</font> nome_biblioteca</code>, em que são importadas todas as funções da biblioteca para dentro do programa, o que pode acabar deixando o seu código um pouco lento, além de deixá-lo também muito verboso, já que toda vez que for utilizar uma função da biblioteca importada, será necessário escrever o nome completo da biblioteca antes da função para acessá-lo, ficando <code>nome_biblioteca.funcao()</code>.\n",
    "</li>\n",
    "\n",
    "<li>\n",
    "Usando <code><font color='#C586C0'>import</font> nome_biblioteca <font color='#C586C0'>as</font> bib</code>, em que é definido um apelido depois do <code><font color='#C586C0'>as</font></code> para encurtar o nome da biblioteca e deixar o código mais limpo, necessitando escrever apenas <code>bib.funcao()</code> para usar uma função. Essa é a mais forma mais recomendada de importar quando usar mais de uma biblioteca.\n",
    "</li>\n",
    "\n",
    "<li>\n",
    "Usando <code><font color='#C586C0'>from</font> nome_biblioteca <font color='#C586C0'>import</font> *</code>, desta forma todas as funções da biblioteca são importadas e não se faz necessário chamar o nome da biblioteca para usar as suas funções. Porém essa é a forma menos recomendada, pois além de deixar o código lento pode ocorrer conflitos com funções de outras bibliotecas que tenham o mesmo nome da função importada. Por exemplo, as bibliotecas <code>math</code>, <code>numpy</code> e <code>sympy</code> possuem as funções trigonométricas <code>sin()</code>, <code>cos()</code> e <code>tan()</code> e caso duas dessas bibliotecas tenham sido importadas dessa forma e seja chamada algumas dessas funções no código, o Python exibirá um erro uma vez que não saberá qual função de qual biblioteca usar, já que possuem o mesmo nome.\n",
    "</li>\n",
    "\n",
    "<li>\n",
    "Usando <code><font color='#C586C0'>from</font> nome_biblioteca <font color='#C586C0'>import</font> funcao1(), funcao2, ..., funcaoN()</code>, em que ao invés de importar todas as funções da biblioteca, o programador importa apenas as funções necessárias para a execução do código, além de não precisar chamar o nome da biblioteca para usar a função importada. Esta última forma é a mais recomendada de importar quando for usar apenas uma biblioteca.\n",
    "</li>\n",
    "</ul>\n",
    "</p>"
   ]
  },
  {
   "cell_type": "markdown",
   "metadata": {
    "id": "SiAO_r5o414X"
   },
   "source": [
    "---\n",
    "## *Booleans* ou valores lógicos\n",
    "---\n",
    "\n",
    "<p align=justify>\n",
    "&emsp; <i>Booleans</i> são variáveis que aceitam dois valores lógicos, <code><font color='#569CD6'>True</font></code> e <code><font color='#569CD6'>False</font></code>, que podem ser resultado de operadores de comparação, como maior que <code>></code>, menor que <code><</code>, maior ou igual <code>>=</code>, menor ou igual <code><=</code>, igual <code>==</code> ou diferente <code>!=</code>.\n",
    "<br>\n",
    "&emsp; E quando se trata de valores lógicos, é importante estar ciente de como funciona os <b>operadores lógicos</b>, que no Python só existem três:\n",
    "\n",
    "<ul>\n",
    "<li><code><font color='#82C6FF'>and</font></code> Retorna <code><font color='#569CD6'>True</font></code> apenas se ambas expresões lógicas forem <code><font color='#569CD6'>True.</font></code></li>\n",
    "<li><code><font color='#82C6FF'>or</font></code> Retorna <code><font color='#569CD6'>True</font></code> se pelo menos uma expressão lógica for <code><font color='#569CD6'>True</font></code>.</li>\n",
    "<li><code><font color='#82C6FF'>not</font></code> Inverte o valor lógico da <i>boolean expression</i>. Retorna <code><font color='#569CD6'>True</font></code> se o resultado for <code><font color='#569CD6'>False</font></code> e vice-versa.</li>\n",
    "</ul>\n",
    "</p>"
   ]
  },
  {
   "cell_type": "code",
   "execution_count": null,
   "metadata": {
    "colab": {
     "base_uri": "https://localhost:8080/"
    },
    "executionInfo": {
     "elapsed": 6,
     "status": "ok",
     "timestamp": 1671845413586,
     "user": {
      "displayName": "Rodrigo Celso de Lima Porto",
      "userId": "00317348114914252656"
     },
     "user_tz": 180
    },
    "id": "S1FZOxHJsxrJ",
    "outputId": "c6d09deb-407f-4207-98ca-4b98e751c4dc"
   },
   "outputs": [
    {
     "name": "stdout",
     "output_type": "stream",
     "text": [
      "x > 10? True\n",
      "y = 50? True\n",
      "x > 90 e x < 120? True\n",
      "y < 40 e y > 30? False\n",
      "x = 100 ou y = 25? True\n",
      "x < 75 ou y <> 50? False\n",
      "não x = 80? True\n",
      "não x > 90 ou y < 60? True\n",
      "não (x > 90 ou y < 60)? False\n"
     ]
    }
   ],
   "source": [
    "x, y = 100, 50\n",
    "\n",
    "print(f'x > 10? {x > 10}')\n",
    "print(f'y = 50? {y == 50}')\n",
    "print(f'x > 90 e x < 120? {x > 90 and x < 120}')\n",
    "print(f'y < 40 e y > 30? {y < 40 and y > 30}')\n",
    "print(f'x = 100 ou y = 25? {x == 100 or y == 25}')\n",
    "print(f'x < 75 ou y <> 50? {x < 75 or y != 50}')\n",
    "print(f'não x = 80? {not x == 80}')\n",
    "print(f'não x > 90 ou y < 60? {not x > 90 or y < 60}')\n",
    "print(f'não (x > 90 ou y < 60)? {not (x > 90 or y < 60)}')\n",
    "\n",
    "# A última expressão deixa evidente que usar parêntesis faz diferença."
   ]
  },
  {
   "cell_type": "markdown",
   "metadata": {
    "id": "Fu90DqsxxsOq"
   },
   "source": [
    "---\n",
    "## Tuplas\n",
    "---\n",
    "\n",
    "Tuplas são uma coleção de dados que não podem ser modificadas uma vez que foram definidas. Por isso é considerada uma estrutura leve e simples do Python.\n",
    "\n",
    "Elas são criadas quando os dados são englobados entre <code>()</code> ou quando estamos atribuindo mais de um valor para uma única variável (neste último caso, falamos que estamos <b>empacotando</b> os dados).\n"
   ]
  },
  {
   "cell_type": "code",
   "execution_count": 21,
   "metadata": {
    "colab": {
     "base_uri": "https://localhost:8080/"
    },
    "executionInfo": {
     "elapsed": 251,
     "status": "ok",
     "timestamp": 1671888836058,
     "user": {
      "displayName": "Rodrigo Celso de Lima Porto",
      "userId": "00317348114914252656"
     },
     "user_tz": 180
    },
    "id": "odiHWHU1VN9b",
    "outputId": "252fe0b0-042a-4b8d-a56b-8d9fef5e926a"
   },
   "outputs": [
    {
     "name": "stdout",
     "output_type": "stream",
     "text": [
      "Pares entre 1 e 10: (2, 4, 6, 8, 10)\n",
      "Ímpares entre 1 e 10: (1, 3, 5, 7, 9)\n"
     ]
    }
   ],
   "source": [
    "pares = (2, 4, 6, 8, 10)\n",
    "impares = 1, 3, 5, 7, 9\n",
    "\n",
    "print(f'Pares entre 1 e 10: {pares}')\n",
    "print(f'Ímpares entre 1 e 10: {impares}')"
   ]
  },
  {
   "cell_type": "code",
   "execution_count": 24,
   "metadata": {
    "colab": {
     "base_uri": "https://localhost:8080/",
     "height": 183
    },
    "executionInfo": {
     "elapsed": 367,
     "status": "error",
     "timestamp": 1671898515079,
     "user": {
      "displayName": "Rodrigo Celso de Lima Porto",
      "userId": "00317348114914252656"
     },
     "user_tz": 180
    },
    "id": "7uBUgz4k6cfy",
    "outputId": "b754d29e-4bff-423e-ba7b-0001908b043b"
   },
   "outputs": [
    {
     "data": {
      "text/plain": [
       "2"
      ]
     },
     "execution_count": 24,
     "metadata": {},
     "output_type": "execute_result"
    }
   ],
   "source": [
    "pares = (2, 4, 6, 8, 10)\n",
    "pares[0]"
   ]
  },
  {
   "cell_type": "code",
   "execution_count": 25,
   "metadata": {},
   "outputs": [
    {
     "ename": "TypeError",
     "evalue": "'tuple' object does not support item assignment",
     "output_type": "error",
     "traceback": [
      "\u001b[1;31m---------------------------------------------------------------------------\u001b[0m",
      "\u001b[1;31mTypeError\u001b[0m                                 Traceback (most recent call last)",
      "Cell \u001b[1;32mIn[25], line 1\u001b[0m\n\u001b[1;32m----> 1\u001b[0m \u001b[43mpares\u001b[49m\u001b[43m[\u001b[49m\u001b[38;5;241;43m0\u001b[39;49m\u001b[43m]\u001b[49m \u001b[38;5;241m=\u001b[39m \u001b[38;5;241m22\u001b[39m \u001b[38;5;66;03m# Esta linha gerará um erro de atribuição, pois não podemos modificar o primeiro valor de uma tupla\u001b[39;00m\n",
      "\u001b[1;31mTypeError\u001b[0m: 'tuple' object does not support item assignment"
     ]
    }
   ],
   "source": [
    "pares[0] = 22 # Esta linha gerará um erro de atribuição, pois não podemos modificar o primeiro valor de uma tupla"
   ]
  },
  {
   "cell_type": "markdown",
   "metadata": {
    "id": "unahZS1nV5PK"
   },
   "source": [
    "### Desempacotando uma tupla\n",
    "\n",
    "Podemos também atribuir os valores de uma tupla para duas variáveis ou mais. Quando fazemos isso, dizemos que estamos <b>desempacotando</b> os dados da tupla para as variáveis.\n",
    "\n",
    "Quando estamos atribuindo uma tupla de $n$ elementos para $n$ variáveis, cada variável vai receber o respectivo elemento da tupla na ordem em que estão.\n",
    "\n",
    "\n",
    "Porém, nos casos em queremos atribuir $n$ elementos de uma tupla para $m$ variáveis, onde $m < n$, devemos colocar um asterisco <code>*</code> imediatamente à esquerda do nome da variável para informar que a variável sinalizada receberá o restante dos elementos que não foram atribuídos às outras variáveis.\n",
    "\n",
    "Vale informar que nestes casos, apenas uma das variáveis deve ser sinalizada com o <code>*</code>. Não pode haver duas ou mais variáveis com o <code>*</code> para desempacotar uma tupla.\n"
   ]
  },
  {
   "cell_type": "code",
   "execution_count": 26,
   "metadata": {
    "colab": {
     "base_uri": "https://localhost:8080/"
    },
    "executionInfo": {
     "elapsed": 216,
     "status": "ok",
     "timestamp": 1671889330036,
     "user": {
      "displayName": "Rodrigo Celso de Lima Porto",
      "userId": "00317348114914252656"
     },
     "user_tz": 180
    },
    "id": "ebJ6bp98WRHx",
    "outputId": "81374b90-1a7c-4d8b-d6a1-1049a4ffa9b5"
   },
   "outputs": [
    {
     "name": "stdout",
     "output_type": "stream",
     "text": [
      "x = 12\n",
      "y = 34\n",
      "z = 65\n"
     ]
    }
   ],
   "source": [
    "x, y, z = (12, 34, 65) # Desempacotando a tupla\n",
    "\n",
    "print(f'x = {x}')\n",
    "print(f'y = {y}')\n",
    "print(f'z = {z}')"
   ]
  },
  {
   "cell_type": "code",
   "execution_count": 27,
   "metadata": {
    "colab": {
     "base_uri": "https://localhost:8080/"
    },
    "executionInfo": {
     "elapsed": 331,
     "status": "ok",
     "timestamp": 1671889409825,
     "user": {
      "displayName": "Rodrigo Celso de Lima Porto",
      "userId": "00317348114914252656"
     },
     "user_tz": 180
    },
    "id": "LYCev6P7XsBj",
    "outputId": "92e58dfe-59e6-47dd-f2a8-cae607abc158"
   },
   "outputs": [
    {
     "name": "stdout",
     "output_type": "stream",
     "text": [
      "x = [12, 34, 65, 9]\n",
      "y = 13\n",
      "z = 57\n"
     ]
    }
   ],
   "source": [
    "*x, y, z = (12, 34, 65, 9, 13, 57)\n",
    "\n",
    "print(f'x = {x}')\n",
    "print(f'y = {y}')\n",
    "print(f'z = {z}')"
   ]
  },
  {
   "cell_type": "code",
   "execution_count": 28,
   "metadata": {
    "colab": {
     "base_uri": "https://localhost:8080/"
    },
    "executionInfo": {
     "elapsed": 233,
     "status": "ok",
     "timestamp": 1671889430065,
     "user": {
      "displayName": "Rodrigo Celso de Lima Porto",
      "userId": "00317348114914252656"
     },
     "user_tz": 180
    },
    "id": "8vXgIM6tYAVi",
    "outputId": "f4b5a4a0-5bf9-4c4b-9f0d-32703b46baf4"
   },
   "outputs": [
    {
     "name": "stdout",
     "output_type": "stream",
     "text": [
      "x = 12\n",
      "y = [34, 65, 9, 13]\n",
      "z = 57\n"
     ]
    }
   ],
   "source": [
    "x, *y, z = (12, 34, 65, 9, 13, 57)\n",
    "\n",
    "print(f'x = {x}')\n",
    "print(f'y = {y}')\n",
    "print(f'z = {z}')"
   ]
  },
  {
   "cell_type": "code",
   "execution_count": 29,
   "metadata": {
    "colab": {
     "base_uri": "https://localhost:8080/"
    },
    "executionInfo": {
     "elapsed": 247,
     "status": "ok",
     "timestamp": 1671889439254,
     "user": {
      "displayName": "Rodrigo Celso de Lima Porto",
      "userId": "00317348114914252656"
     },
     "user_tz": 180
    },
    "id": "7VPF_FK9YDLK",
    "outputId": "c77746fe-dbab-4c4d-9da1-e6a0ed3929e5"
   },
   "outputs": [
    {
     "name": "stdout",
     "output_type": "stream",
     "text": [
      "x = 12\n",
      "y = 34\n",
      "z = [65, 9, 13, 57]\n"
     ]
    }
   ],
   "source": [
    "x, y, *z = (12, 34, 65, 9, 13, 57)\n",
    "\n",
    "print(f'x = {x}')\n",
    "print(f'y = {y}')\n",
    "print(f'z = {z}')"
   ]
  },
  {
   "cell_type": "markdown",
   "metadata": {
    "id": "fcXSV790m5Ro"
   },
   "source": [
    "<p align=justify>\n",
    "&emsp; Também é possível atribuir uma tupla vazia em uma variável. Para isso, basta atribuir a função <code><font color='#4EC9B0'>tuple</font>()</code>, que além de converter uma coleção de dados para uma tupla, também serve para criar uma tupla vazia.\n",
    "</p>"
   ]
  },
  {
   "cell_type": "code",
   "execution_count": 30,
   "metadata": {
    "colab": {
     "base_uri": "https://localhost:8080/"
    },
    "executionInfo": {
     "elapsed": 233,
     "status": "ok",
     "timestamp": 1671893725865,
     "user": {
      "displayName": "Rodrigo Celso de Lima Porto",
      "userId": "00317348114914252656"
     },
     "user_tz": 180
    },
    "id": "lke83rvKnHJf",
    "outputId": "2d36ab3b-d18a-4941-d7fa-3d0c552a4040"
   },
   "outputs": [
    {
     "name": "stdout",
     "output_type": "stream",
     "text": [
      "Tupla vazia: ()\n"
     ]
    }
   ],
   "source": [
    "minha_tupla = tuple()\n",
    "\n",
    "print(f'Tupla vazia: {minha_tupla}')"
   ]
  },
  {
   "cell_type": "markdown",
   "metadata": {
    "id": "pG79xkqnZNsR"
   },
   "source": [
    "<p align=justify>\n",
    "&emsp; Assim como as <i>strings</i>, é possível acessar os elementos de uma tupla informando o seu índice entre colchetes <code>[]</code>, logo depois do nome da tupla, assim como também é possível fatiar uma tupla em tuplas menores, da mesma forma como foi apresentado no tópico sobre <i>strings</i>. Vale lembrar que os índices sempre começam a partir do 0.\n",
    "</p>"
   ]
  },
  {
   "cell_type": "code",
   "execution_count": 31,
   "metadata": {
    "colab": {
     "base_uri": "https://localhost:8080/"
    },
    "executionInfo": {
     "elapsed": 303,
     "status": "ok",
     "timestamp": 1671893918039,
     "user": {
      "displayName": "Rodrigo Celso de Lima Porto",
      "userId": "00317348114914252656"
     },
     "user_tz": 180
    },
    "id": "JFB9McxnosCZ",
    "outputId": "45466bdf-ed84-4c77-b412-d76cdd7fc32d"
   },
   "outputs": [
    {
     "name": "stdout",
     "output_type": "stream",
     "text": [
      "1\n",
      "2\n",
      "3\n"
     ]
    }
   ],
   "source": [
    "numeros = (1, 2, 3, 4, 5, 6, 7, 8, 9, 10)\n",
    "\n",
    "print(numeros[0])\n",
    "print(numeros[1])\n",
    "print(numeros[2])"
   ]
  },
  {
   "cell_type": "code",
   "execution_count": 32,
   "metadata": {
    "colab": {
     "base_uri": "https://localhost:8080/"
    },
    "executionInfo": {
     "elapsed": 240,
     "status": "ok",
     "timestamp": 1671893942141,
     "user": {
      "displayName": "Rodrigo Celso de Lima Porto",
      "userId": "00317348114914252656"
     },
     "user_tz": 180
    },
    "id": "6nHfcWDnpMj_",
    "outputId": "6e2d34da-c618-42a2-98bb-a46ff5e41960"
   },
   "outputs": [
    {
     "name": "stdout",
     "output_type": "stream",
     "text": [
      "10\n",
      "9\n",
      "8\n"
     ]
    }
   ],
   "source": [
    "numeros = (1, 2, 3, 4, 5, 6, 7, 8, 9, 10)\n",
    "\n",
    "print(numeros[-1])\n",
    "print(numeros[-2])\n",
    "print(numeros[-3])"
   ]
  },
  {
   "cell_type": "code",
   "execution_count": 33,
   "metadata": {
    "colab": {
     "base_uri": "https://localhost:8080/"
    },
    "executionInfo": {
     "elapsed": 426,
     "status": "ok",
     "timestamp": 1671894111583,
     "user": {
      "displayName": "Rodrigo Celso de Lima Porto",
      "userId": "00317348114914252656"
     },
     "user_tz": 180
    },
    "id": "3L27pCbCpQnf",
    "outputId": "727b53c5-6d0f-4e47-f92e-9700a4283d8a"
   },
   "outputs": [
    {
     "name": "stdout",
     "output_type": "stream",
     "text": [
      "Os primeiros 5 naturais: (1, 2, 3, 4, 5)\n",
      "Naturais entre 5 e 10: (5, 6, 7, 8, 9, 10)\n",
      "Pares entre 1 e 10: (2, 4, 6, 8, 10)\n",
      "Ímpares entre 1 e 10: (1, 3, 5, 7, 9)\n"
     ]
    }
   ],
   "source": [
    "numeros = (1, 2, 3, 4, 5, 6, 7, 8, 9, 10)\n",
    "\n",
    "print(f'Os primeiros 5 naturais: {numeros[:5]}')\n",
    "print(f'Naturais entre 5 e 10: {numeros[4:10]}')\n",
    "print(f'Pares entre 1 e 10: {numeros[1::2]}')\n",
    "print(f'Ímpares entre 1 e 10: {numeros[0::2]}')"
   ]
  },
  {
   "cell_type": "markdown",
   "metadata": {
    "id": "HRyXe-Iep8p3"
   },
   "source": [
    "<p align=justify>\n",
    "&emsp; Os principais métodos e funções disponíveis nos objetos de tuplas são:\n",
    "\n",
    "<ul align=justify>\n",
    "<li>\n",
    "<code><font color='#DCDCAA'>len</font>()</code> Assim como funciona para <i>strings</i>, essa função retorna a quantidade de elementos contidos numa tupla.\n",
    "</li>\n",
    "\n",
    "<li>\n",
    "<code>.count()</code> Retorna a quantidade de ocorrências de um determinado valor na tupla.\n",
    "</li>\n",
    "\n",
    "<li>\n",
    "<code>.index()</code> Retorna o índice da primeira ocorrência do valor informado como argumento.\n",
    "</li>\n",
    "</ul>\n",
    "</p>"
   ]
  },
  {
   "cell_type": "code",
   "execution_count": null,
   "metadata": {
    "colab": {
     "base_uri": "https://localhost:8080/"
    },
    "executionInfo": {
     "elapsed": 246,
     "status": "ok",
     "timestamp": 1671895135136,
     "user": {
      "displayName": "Rodrigo Celso de Lima Porto",
      "userId": "00317348114914252656"
     },
     "user_tz": 180
    },
    "id": "DNLPX32_tFL5",
    "outputId": "29b14b2f-0779-4837-a56a-29c94d2abb8c"
   },
   "outputs": [
    {
     "name": "stdout",
     "output_type": "stream",
     "text": [
      "Qtde de elementos: 9\n",
      "Quantas vezes aparece o 4?: 2\n",
      "Onde está o 45?: 4\n"
     ]
    }
   ],
   "source": [
    "valores = (12, 323, 8952, 4, 45, 23, 6564, 4, 44)\n",
    "\n",
    "print(f'Qtde de elementos: {len(valores)}')\n",
    "print(f'Quantas vezes aparece o 4?: {valores.count(4)}')\n",
    "print(f'Onde está o 45?: {valores.index(45)}') # Retorna o índice do número 45"
   ]
  },
  {
   "cell_type": "markdown",
   "metadata": {
    "id": "lalBME-Ct3fm"
   },
   "source": [
    "<p align=justify>\n",
    "&emsp; Já as principais operações que podemos fazer com tuplas no Python são:\n",
    "\n",
    "<ul align=justify>\n",
    "<li>\n",
    "Concatenação: <code>x + y</code><br>\n",
    "&emsp; Junta duas tuplas em uma única tupla.\n",
    "</li>\n",
    "\n",
    "<li>\n",
    "Replicação: <code>x * <font color='#B2CBA5'>n</font></code><br>\n",
    "&emsp; Cria uma nova tupla, replicando $n$ vezes uma tupla.\n",
    "</li>\n",
    "\n",
    "<li>\n",
    "Comparação: <code>></code>, <code><</code>, <code>>=</code>, <code><=</code>, <code>==</code> ou <code>!=</code><br>\n",
    "&emsp; Compara item a item as duas tuplas. Se <code>(x <= y) == <font color='#569CD6'>True.</font></code>, significa que <code>x</code> contém todos os elementos de <code>y</code>, mas não necessariamente <code>y</code> contém todos os elementos de <code>x</code>. Se <code>(x != y) == <font color='#569CD6'>True.</font></code>, significa que <code>x</code> não contém todos os elementos de <code>y</code> ou vice-versa. \n",
    "</li>\n",
    "\n",
    "<li>\n",
    "Associação: <code><font color='#82C6FF'>in</font></code> e <code><font color='#82C6FF'>not in</font></code><br>\n",
    "&emsp; Verifica se um valor pertence a uma tupla ou não.\n",
    "</li>\n",
    "</ul>\n",
    "</p>"
   ]
  },
  {
   "cell_type": "code",
   "execution_count": null,
   "metadata": {
    "colab": {
     "base_uri": "https://localhost:8080/"
    },
    "executionInfo": {
     "elapsed": 377,
     "status": "ok",
     "timestamp": 1671897979620,
     "user": {
      "displayName": "Rodrigo Celso de Lima Porto",
      "userId": "00317348114914252656"
     },
     "user_tz": 180
    },
    "id": "nkamBmny2xoT",
    "outputId": "faa643ea-d0d0-493c-9fee-d130b0a14420"
   },
   "outputs": [
    {
     "name": "stdout",
     "output_type": "stream",
     "text": [
      "x + y = (23, 4, 665, 903, 5, 457, 78, 9456)\n",
      "y + x = (903, 5, 457, 78, 9456, 23, 4, 665)\n",
      "x * 3 = (23, 4, 665, 23, 4, 665, 23, 4, 665)\n",
      "(x < z) = True\n",
      "(x == y) = False\n",
      "(x != z) = True\n",
      "(x >= z) = False\n",
      "4 está em x?: True\n",
      "4 está em y?: False\n",
      "4 está em z?: True\n",
      "8 não está em x?: True\n",
      "8 não está em y?: True\n",
      "8 não está em z?: False\n"
     ]
    }
   ],
   "source": [
    "x = (23, 4, 665)\n",
    "y = (903, 5, 457, 78, 9456)\n",
    "z = (23, 4, 665, 8, 56)\n",
    "\n",
    "print(f'x + y = {x + y}')\n",
    "print(f'y + x = {y + x}')\n",
    "print(f'x * 3 = {x * 3}')\n",
    "print(f'(x < z) = {x < z}')\n",
    "print(f'(x == y) = {x == y}')\n",
    "print(f'(x != z) = {x != z}')\n",
    "print(f'(x >= z) = {x >= z}')\n",
    "print(f'4 está em x?: {4 in x}')\n",
    "print(f'4 está em y?: {4 in y}')\n",
    "print(f'4 está em z?: {4 in z}')\n",
    "print(f'8 não está em x?: {8 not in x}')\n",
    "print(f'8 não está em y?: {8 not in y}')\n",
    "print(f'8 não está em z?: {8 not in z}')"
   ]
  },
  {
   "cell_type": "markdown",
   "metadata": {
    "id": "GHqKh-8vxzQZ"
   },
   "source": [
    "---\n",
    "## Listas\n",
    "---\n",
    "\n",
    "Diferentemente das tuplas, listas constituem uma coleção de dados <b>mutáveis</b>, uma vez que é sempre possível mudar um dos seus valores acessando um dos seus índices (sempre começando a partir de 0). \n",
    "\n",
    "Elas são construídas englobando os dados por colchetes <code>[]</code> e é possível criar uma lista vazia usando a função conversora <code><font color='#4EC9B0'>list</font>()</code>.\n"
   ]
  },
  {
   "cell_type": "code",
   "execution_count": 34,
   "metadata": {
    "colab": {
     "base_uri": "https://localhost:8080/"
    },
    "executionInfo": {
     "elapsed": 301,
     "status": "ok",
     "timestamp": 1671898958982,
     "user": {
      "displayName": "Rodrigo Celso de Lima Porto",
      "userId": "00317348114914252656"
     },
     "user_tz": 180
    },
    "id": "LawEI9SR5-EM",
    "outputId": "1198566c-7962-4196-d501-84e27e841dc4"
   },
   "outputs": [
    {
     "name": "stdout",
     "output_type": "stream",
     "text": [
      "[0, 2, 4, 6, 8, 12]\n"
     ]
    }
   ],
   "source": [
    "pares = [0, 2, 4, 6, 8, 10]\n",
    "pares[-1] = 12 # Essa linha geraria erro se pares fosse uma tupla.\n",
    "print(pares)"
   ]
  },
  {
   "cell_type": "markdown",
   "metadata": {
    "id": "4dAd21Z58FfF"
   },
   "source": [
    "<p align=justify>\n",
    "&emsp; Assim como as <i>strings</i> e as tuplas, é possível fatiar listas e listas menores.\n",
    "</p>"
   ]
  },
  {
   "cell_type": "code",
   "execution_count": 35,
   "metadata": {
    "colab": {
     "base_uri": "https://localhost:8080/"
    },
    "executionInfo": {
     "elapsed": 307,
     "status": "ok",
     "timestamp": 1671899097110,
     "user": {
      "displayName": "Rodrigo Celso de Lima Porto",
      "userId": "00317348114914252656"
     },
     "user_tz": 180
    },
    "id": "Eg_kn8z88dBb",
    "outputId": "4978363a-cdf8-4b50-94d6-17f1400391d1"
   },
   "outputs": [
    {
     "name": "stdout",
     "output_type": "stream",
     "text": [
      "Pares entre 5 e 10: [6, 8, 10]\n",
      "Múltiplos de 4: [4, 8]\n"
     ]
    }
   ],
   "source": [
    "pares = [0, 2, 4, 6, 8, 10]\n",
    "print(f'Pares entre 5 e 10: {pares[3:6]}')\n",
    "print(f'Múltiplos de 4: {pares[2::2]}')"
   ]
  },
  {
   "cell_type": "markdown",
   "metadata": {
    "id": "bXiGZt8J89JJ"
   },
   "source": [
    "<p align=justify>\n",
    "&emsp; Dentre as principais funções e métodos empregados com listas, vale destacar:\n",
    "\n",
    "<ul align=justify>\n",
    "<li>\n",
    "<code><font color='#DCDCAA'>len</font>()</code> Assim como funciona para <i>strings</i> e tuplas, essa função retorna a quantidade de elementos na lista.\n",
    "</li>\n",
    "\n",
    "<li>\n",
    "<code>.count()</code> Retorna a quantidade de ocorrências de um determinado valor na lista.\n",
    "</li>\n",
    "\n",
    "<li>\n",
    "<code>.index()</code> Retorna o índice da primeira ocorrência do valor informado como argumento.\n",
    "</li>\n",
    "\n",
    "<li>\n",
    "<code>.sort()</code> Ordena o conteúdo da lista, se os elementos forem todos do mesmo tipo.\n",
    "</li>\n",
    "\n",
    "<li>\n",
    "<code>.append()</code> Incluir um novo elemento no final da lista.\n",
    "</li>\n",
    "\n",
    "<li>\n",
    "<code>.insert()</code> Insere um novo elemento na lista na posição passada como parâmetro. Caso o comprimento da lista seja menor do que o valor da posição informada, o elemento será inserido ao final da lista.\n",
    "</li>\n",
    "\n",
    "<li>\n",
    "<code>.pop()</code> Retorna e remove o elemento da lista na posição passada como parâmetro. Se nenhuma posição for informada, ou ela for maior que o comprimento da lista, retorna e remove o último elemento da lista. \n",
    "</li>\n",
    "\n",
    "<li>\n",
    "<code>.remove()</code> Remove a primeira ocorrência do item passado como parâmetro, da esquerda para a direita.\n",
    "</li>\n",
    "</ul>\n",
    "\n",
    "</p>"
   ]
  },
  {
   "cell_type": "code",
   "execution_count": 36,
   "metadata": {
    "colab": {
     "base_uri": "https://localhost:8080/"
    },
    "executionInfo": {
     "elapsed": 223,
     "status": "ok",
     "timestamp": 1671900684008,
     "user": {
      "displayName": "Rodrigo Celso de Lima Porto",
      "userId": "00317348114914252656"
     },
     "user_tz": 180
    },
    "id": "VlN1xDZG-ws7",
    "outputId": "9436581d-03d4-4998-eb10-23b041c7fd96"
   },
   "outputs": [
    {
     "name": "stdout",
     "output_type": "stream",
     "text": [
      "Qtde de elemento: 11\n",
      "Quantas vezes aparece 1?: 3\n",
      "Lista ordenada: [1, 1, 1, 23, 48, 89, 90, 123, 546, 567, 29902]\n",
      "Lista com pi no final: [1, 1, 1, 23, 48, 89, 90, 123, 546, 567, 29902, 3.1415]\n",
      "Lista com o número e: [1, 1, 2.7182, 1, 23, 48, 89, 90, 123, 546, 567, 29902, 3.1415]\n",
      "Lista sem o 3.1415: [1, 1, 2.7182, 1, 23, 48, 89, 90, 123, 546, 567, 29902]\n",
      "Lista sem o 2.7182: [1, 1, 1, 23, 48, 89, 90, 123, 546, 567, 29902]\n",
      "Lista com um 1 a menos: [1, 1, 23, 48, 89, 90, 123, 546, 567, 29902]\n"
     ]
    }
   ],
   "source": [
    "valores = [23, 546, 89, 1, 48, 90, 1, 123, 567, 29902, 1]\n",
    "\n",
    "print(f'Qtde de elemento: {len(valores)}')\n",
    "print(f'Quantas vezes aparece 1?: {valores.count(1)}')\n",
    "\n",
    "valores.sort() # Organiza a lista em ordem crescente\n",
    "print(f'Lista ordenada: {valores}')\n",
    "\n",
    "valores.append(3.1415) # Insere o \"pi\" ao final da lista\n",
    "print(f'Lista com pi no final: {valores}')\n",
    "\n",
    "valores.insert(2, 2.7182) # Insere o número \"e\" na posíção de índice 2.\n",
    "print(f'Lista com o número e: {valores}')\n",
    "\n",
    "pi = valores.pop() # Armazena o valor removido em uma variável\n",
    "print(f'Lista sem o {pi}: {valores}')\n",
    "\n",
    "e = valores.pop(2) # Armazena o valor removido em uma variável\n",
    "print(f'Lista sem o {e}: {valores}')\n",
    "\n",
    "valores.remove(1) # Remove o primeiro 1 da lista\n",
    "print(f'Lista com um 1 a menos: {valores}')"
   ]
  },
  {
   "cell_type": "markdown",
   "metadata": {
    "id": "_Uk3Wqzxx4pP"
   },
   "source": [
    "---\n",
    "## Conjuntos\n",
    "---\n",
    "\n",
    "Diferentemente das tuplas e das listas, os conjuntos em Python representam uma coleção de dados <b>não ordenados</b>. Seus elementos não são indexados. Portanto, não podem ser acessados individualmente. Porém, eles são iteráveis, algo que veremos mais adiante no tópico sobre <b>ESTRUTURAS DE ITERAÇÃO</b>. \n",
    "\n",
    "Além disso, os elementos de um conjunto não se repetem, ou seja, <b>não aceita duplicatas</b>.\n",
    "\n",
    "\n",
    "Os conjuntos são criados englobando um conjunto de dados com chaves <code>{}</code> ou através da conversão de uma coleção de dados ou pela criação de um conjunto vazio utilizando a função <code><font color='#4EC9B0'>set</font>()</code>.\n"
   ]
  },
  {
   "cell_type": "code",
   "execution_count": 37,
   "metadata": {
    "colab": {
     "base_uri": "https://localhost:8080/"
    },
    "executionInfo": {
     "elapsed": 341,
     "status": "ok",
     "timestamp": 1671902292799,
     "user": {
      "displayName": "Rodrigo Celso de Lima Porto",
      "userId": "00317348114914252656"
     },
     "user_tz": 180
    },
    "id": "BQBdsTkhITsr",
    "outputId": "20e10f57-b11c-4aaa-c18e-94738a8d3aa7"
   },
   "outputs": [
    {
     "name": "stdout",
     "output_type": "stream",
     "text": [
      "Sólidos platônicos: {'octaedro', 'tetraedro', 'dodecaedro', 'cubo', 'icosaedro'}\n",
      "Conjunto vazio: set()\n"
     ]
    }
   ],
   "source": [
    "platonicos = {'cubo', 'tetraedro', 'octaedro', 'dodecaedro', 'icosaedro'}\n",
    "vazio = set()\n",
    "\n",
    "print(f'Sólidos platônicos: {platonicos}')\n",
    "print(f'Conjunto vazio: {vazio}')"
   ]
  },
  {
   "cell_type": "markdown",
   "metadata": {
    "id": "jmQsoaoPJ05w"
   },
   "source": [
    "<p align=justify>\n",
    "&emsp; As principais funções e métodos utilizados com conjuntos são:\n",
    "\n",
    "<ul>\n",
    "<li>\n",
    "<code><font color='#DCDCAA'>len</font>()</code> Assim como funciona para <i>strings</i>, tuplas e listas, essa função retorna a cardinalidade da lista, isto é, o a sua quantidade de elementos.\n",
    "</li>\n",
    "\n",
    "<li>\n",
    "<code>.add()</code> Adiciona um elemento ao conjunto, caso o elemento ainda não ocorra no conjunto.\n",
    "</li>\n",
    "\n",
    "<li>\n",
    "<code>.discard()</code> Retira um elemento do conjunto, caso ele esteja no conjunto.\n",
    "</li>\n",
    "</ul>\n",
    "</p>"
   ]
  },
  {
   "cell_type": "code",
   "execution_count": 38,
   "metadata": {
    "colab": {
     "base_uri": "https://localhost:8080/"
    },
    "executionInfo": {
     "elapsed": 236,
     "status": "ok",
     "timestamp": 1671903370379,
     "user": {
      "displayName": "Rodrigo Celso de Lima Porto",
      "userId": "00317348114914252656"
     },
     "user_tz": 180
    },
    "id": "p1K-mWksMDlj",
    "outputId": "f5a92c10-c02c-47e7-e24e-a66a2852e555"
   },
   "outputs": [
    {
     "name": "stdout",
     "output_type": "stream",
     "text": [
      "Qtde de elementos químicos: 8\n",
      "quimicos + ferro: {'C', 'Au', 'O', 'Fe', 'S', 'He', 'Ag', 'N', 'H'}\n",
      "quimicos - prata: {'C', 'Au', 'O', 'Fe', 'S', 'He', 'N', 'H'}\n"
     ]
    }
   ],
   "source": [
    "quimicos = {'H', 'He', 'C', 'S', 'N', 'Au', 'O', 'Ag'}\n",
    "print(f'Qtde de elementos químicos: {len(quimicos)}')\n",
    "\n",
    "quimicos.add('Fe') # Adiciona o elemento ferro\n",
    "print(f'quimicos + ferro: {quimicos}')\n",
    "\n",
    "quimicos.discard('Ag') # Retira o elemento prata\n",
    "print(f'quimicos - prata: {quimicos}')"
   ]
  },
  {
   "cell_type": "markdown",
   "metadata": {
    "id": "DQcaPRoyMEB4"
   },
   "source": [
    "<p align=justify>\n",
    "&emsp; As principais operações utilizadas com conjuntos são:\n",
    "\n",
    "<ul align=justify>\n",
    "<li>\n",
    "<code>x.union(y)</code> ou <code>x | y</code><br> Retorna um novo conjunto resultante da união de dois conjuntos <code>x</code> e <code>y</code> e é formado por todo elemento que pertence a <code>x</code> ou que pertence a <code>y</code> ou a ambos.\n",
    "</li>\n",
    "\n",
    "<li>\n",
    "<code>x.intersection(y)</code> ou <code>x & y</code><br> Retorna um novo conjunto resultante da interseção de dois conjuntos <code>x</code> e <code>y</code> e é formado apenas por elementos que pertencem simultaneamente a <code>x</code> e a <code>y</code>.\n",
    "</li>\n",
    "\n",
    "<li>\n",
    "<code>x.difference(y)</code> ou <code>x - y</code><br> Retorna um novo conjunto resultante da subtração dos elementos de  <code>x</code> com <code>y</code> e é formado apenas por elementos que pertencem exclusivamente a <code>x</code>, mas não a <code>y</code>.\n",
    "</li>\n",
    "\n",
    "<li>\n",
    "<code>x == y</code><br>\n",
    "Retorna <code><font color='#569CD6'>True</font></code> se, e somente se, todo elemento que pertença a <code>x</code> também pertença a <code>y</code> e vice-versa. Retorna <code><font color='#569CD6'>False</font></code> caso contrário.\n",
    "</li>\n",
    "\n",
    "<li>\n",
    "<code>x != y</code><br>\n",
    "Retorna <code><font color='#569CD6'>True</font></code> se, e somente se, existir algum elemento que pertença a um dos conjuntos, mas não pertença ao outro.\n",
    "</li>\n",
    "\n",
    "<li>\n",
    "<code>x <= y</code><br>\n",
    "Retorna <code><font color='#569CD6'>True</font></code> se, e somente se, todo elemento que pertença a <code>x</code> também pertença a <code>y</code>. Isto é, somente quando <code>x</code> estiver contido em <code>y</code>.\n",
    "</li>\n",
    "</ul>\n",
    "</p>"
   ]
  },
  {
   "cell_type": "code",
   "execution_count": 39,
   "metadata": {
    "colab": {
     "base_uri": "https://localhost:8080/"
    },
    "executionInfo": {
     "elapsed": 264,
     "status": "ok",
     "timestamp": 1671904659474,
     "user": {
      "displayName": "Rodrigo Celso de Lima Porto",
      "userId": "00317348114914252656"
     },
     "user_tz": 180
    },
    "id": "VSizSm_nP_i5",
    "outputId": "51dbfbe9-6234-4310-b4ed-45baff189e1b"
   },
   "outputs": [
    {
     "name": "stdout",
     "output_type": "stream",
     "text": [
      "{1, 2, 3, 4, 5, 6, 7, 8, 9, 10, 11, 12, 13, 14, 15, 16, 17, 18, 19, 20}\n"
     ]
    }
   ],
   "source": [
    "valores1 = {1, 2, 3, 4, 5, 6, 7, 8, 9, 10}\n",
    "valores2 = {11, 12, 13, 14, 15, 16, 17, 18, 19, 20}\n",
    "valores3 = valores1.union(valores2)\n",
    "print(valores3)"
   ]
  },
  {
   "cell_type": "code",
   "execution_count": 40,
   "metadata": {
    "colab": {
     "base_uri": "https://localhost:8080/"
    },
    "executionInfo": {
     "elapsed": 239,
     "status": "ok",
     "timestamp": 1671905232152,
     "user": {
      "displayName": "Rodrigo Celso de Lima Porto",
      "userId": "00317348114914252656"
     },
     "user_tz": 180
    },
    "id": "MxGHFtcpSJTB",
    "outputId": "b1a37c41-bebf-4a0d-ef68-ae176235863d"
   },
   "outputs": [
    {
     "name": "stdout",
     "output_type": "stream",
     "text": [
      "Pares = {2, 4, 6, 8, 10, 12, 14, 16, 18, 20}\n",
      "Impares = {1, 3, 5, 7, 9, 11, 13, 15, 17, 19}\n"
     ]
    }
   ],
   "source": [
    "pares = valores3.difference({1, 3, 5, 7, 9, 11, 13, 15, 17, 19})\n",
    "impares = valores3 - pares\n",
    "print(f'Pares = {pares}')\n",
    "print(f'Impares = {impares}')"
   ]
  },
  {
   "cell_type": "code",
   "execution_count": 41,
   "metadata": {
    "colab": {
     "base_uri": "https://localhost:8080/"
    },
    "executionInfo": {
     "elapsed": 3,
     "status": "ok",
     "timestamp": 1671905236100,
     "user": {
      "displayName": "Rodrigo Celso de Lima Porto",
      "userId": "00317348114914252656"
     },
     "user_tz": 180
    },
    "id": "CH107ZQMTAN3",
    "outputId": "64c11867-4c5b-4371-b411-e1b88b1c6a60"
   },
   "outputs": [
    {
     "name": "stdout",
     "output_type": "stream",
     "text": [
      "{2}\n"
     ]
    }
   ],
   "source": [
    "primos = {2, 3, 5, 7, 11, 13, 17, 19}\n",
    "primos_pares = primos.intersection(pares)\n",
    "print(primos_pares)"
   ]
  },
  {
   "cell_type": "code",
   "execution_count": 42,
   "metadata": {
    "colab": {
     "base_uri": "https://localhost:8080/"
    },
    "executionInfo": {
     "elapsed": 2,
     "status": "ok",
     "timestamp": 1671905237157,
     "user": {
      "displayName": "Rodrigo Celso de Lima Porto",
      "userId": "00317348114914252656"
     },
     "user_tz": 180
    },
    "id": "VfmSFL3gTgnv",
    "outputId": "a29f2da9-aece-419f-d20d-bb12795435c9"
   },
   "outputs": [
    {
     "name": "stdout",
     "output_type": "stream",
     "text": [
      "(valores1 != valores2) = True\n",
      "(primos <= impares) = False\n"
     ]
    }
   ],
   "source": [
    "print(f'(valores1 != valores2) = {valores1 != valores2}')\n",
    "print(f'(primos <= impares) = {primos <= impares}')"
   ]
  },
  {
   "cell_type": "markdown",
   "metadata": {
    "id": "nXwh1Wy-x7r_"
   },
   "source": [
    "---\n",
    "## Dicionários\n",
    "---\n",
    "\n",
    "Dicionários, assim como os conjuntos, consistem em coleção de dados <b>não ordenados</b>. Porém, diferentemente dos conjuntos, seus elementos são formados por uma par de <code>chave:valor</code>, onde as chaves representam os indíces dos valores, da mesma forma como os dicionários do nosso uso cotidiando são formados por pares de palavras e conjuntos de significados associados àquela palavra. Neste caso, a palavra é a chave e os seus significados são os valores. \n",
    "\n",
    "Bem como ocorre com dicionários da vida real, dicionários em Python <b>não aceitam duplicatas</b> de pares de <code>chave:valor</code>.\n",
    "\n",
    "\n",
    "Semelhantemente aos conjuntos, é possível criar dicionários englobando os pares de <code>chave:valor</code> com chaves <code>{}</code>, ou através da conversão de dados para dicionários ou por meio da criação de dicionários vazios com a função <code><font color='#4EC9B0'>dict</font>()</code>.\n"
   ]
  },
  {
   "cell_type": "code",
   "execution_count": 43,
   "metadata": {
    "colab": {
     "base_uri": "https://localhost:8080/"
    },
    "executionInfo": {
     "elapsed": 235,
     "status": "ok",
     "timestamp": 1671906216819,
     "user": {
      "displayName": "Rodrigo Celso de Lima Porto",
      "userId": "00317348114914252656"
     },
     "user_tz": 180
    },
    "id": "VJQkDLnHXBjH",
    "outputId": "3436a712-41bd-4dbb-85d3-6159e63b1903"
   },
   "outputs": [
    {
     "name": "stdout",
     "output_type": "stream",
     "text": [
      "Idades: {'Ana': 11, 'Octávio': 23, 'Beatriz': 20, 'Mateus': 13, 'Felipa': 15}\n",
      "Dicionário vazio: {}\n"
     ]
    }
   ],
   "source": [
    "idades = {'Ana': 11, 'Octávio': 23, 'Beatriz': 20, 'Mateus': 13, 'Felipa': 15}\n",
    "vazio = dict()\n",
    "\n",
    "print(f'Idades: {idades}')\n",
    "print(f'Dicionário vazio: {vazio}')"
   ]
  },
  {
   "cell_type": "markdown",
   "metadata": {
    "id": "pi4YTAlxXe5I"
   },
   "source": [
    "<p align=justify>\n",
    "&emsp; Para acessar um valor de um dicionário, é necessário passar a chave como índice, entre colchetes <code>[]</code>, logo depois do nome do dicionário.\n",
    "</p>"
   ]
  },
  {
   "cell_type": "code",
   "execution_count": 44,
   "metadata": {
    "colab": {
     "base_uri": "https://localhost:8080/"
    },
    "executionInfo": {
     "elapsed": 219,
     "status": "ok",
     "timestamp": 1671906388567,
     "user": {
      "displayName": "Rodrigo Celso de Lima Porto",
      "userId": "00317348114914252656"
     },
     "user_tz": 180
    },
    "id": "X3sizN6HXzGJ",
    "outputId": "56dde693-8bd1-499f-aae3-b1b9fa57b1bc"
   },
   "outputs": [
    {
     "name": "stdout",
     "output_type": "stream",
     "text": [
      "Idade de Ana: 11\n",
      "Idade de Octávio: 23\n",
      "Idade de Mateus: 13\n",
      "Idade de Beatriz: 20\n",
      "Idade de Felipa: 15\n"
     ]
    }
   ],
   "source": [
    "print(f'Idade de Ana: {idades[\"Ana\"]}')\n",
    "print(f'Idade de Octávio: {idades[\"Octávio\"]}')\n",
    "print(f'Idade de Mateus: {idades[\"Mateus\"]}')\n",
    "print(f'Idade de Beatriz: {idades[\"Beatriz\"]}')\n",
    "print(f'Idade de Felipa: {idades[\"Felipa\"]}')"
   ]
  },
  {
   "cell_type": "markdown",
   "metadata": {
    "id": "SRI3Yq_TZChY"
   },
   "source": [
    "<p align=justify>\n",
    "&emsp; As principais funções e métodos utilizados com dicionários são:\n",
    "\n",
    "<ul align=justify>\n",
    "<li>\n",
    "<code><font color='#DCDCAA'>len</font>()</code> Assim como funciona para <i>strings</i>, tuplas , listas e conjuntos, essa função retorna a quantidade de pares <code>chave:valor</code> existentes no dicionário.\n",
    "</li>\n",
    "\n",
    "<li>\n",
    "<code><font color='#C586C0'>del</font></code> Remove um par <code>chave:valor</code> informando o dicionário e a chave. Caso a chave não existe no dicionário informado, exibirá uma mensagem de erro.\n",
    "</li>\n",
    "\n",
    "<li>\n",
    "<code>.items()</code> Retorna uma visualização de todos os pares <code>chave:valor</code> de um dicionário.\n",
    "</li>\n",
    "\n",
    "<li>\n",
    "<code>.keys()</code> Retorna uma visualização de todos as chaves de um dicionário.\n",
    "</li>\n",
    "\n",
    "<li>\n",
    "<code>.values()</code> Retorna uma visualização de todos os valores de um dicionário.\n",
    "</li>\n",
    "\n",
    "<li>\n",
    "<code>.get(chave, default)</code> Passa uma chave como parâmetro e retorna <code><font color='#569CD6'>None</font></code> se a chave não existir no dicionário e retorna o valor se a chave existir. Caso o <code>default</code> tenha sido informado, retornará <code>default</code> se a chave não existir no dicionário e retornará o valor se a chave existir.\n",
    "</li>\n",
    "</ul>\n",
    "</p>"
   ]
  },
  {
   "cell_type": "code",
   "execution_count": 45,
   "metadata": {
    "colab": {
     "base_uri": "https://localhost:8080/"
    },
    "executionInfo": {
     "elapsed": 220,
     "status": "ok",
     "timestamp": 1671907577265,
     "user": {
      "displayName": "Rodrigo Celso de Lima Porto",
      "userId": "00317348114914252656"
     },
     "user_tz": 180
    },
    "id": "Uj33xK4UZVtG",
    "outputId": "69cdc193-de9b-4095-9205-c5fd6bf6fc64"
   },
   "outputs": [
    {
     "name": "stdout",
     "output_type": "stream",
     "text": [
      "Qtde de idades: 5\n",
      "Nomes: dict_keys(['Ana', 'Octávio', 'Beatriz', 'Mateus', 'Felipa'])\n",
      "Idades: dict_values([11, 23, 20, 13, 15])\n",
      "Nomes e idades: dict_items([('Ana', 11), ('Octávio', 23), ('Beatriz', 20), ('Mateus', 13), ('Felipa', 15)])\n"
     ]
    }
   ],
   "source": [
    "idades = {'Ana': 11, 'Octávio': 23, 'Beatriz': 20, 'Mateus': 13, 'Felipa': 15}\n",
    "\n",
    "print(f'Qtde de idades: {len(idades)}')\n",
    "print(f'Nomes: {idades.keys()}')\n",
    "print(f'Idades: {idades.values()}')\n",
    "print(f'Nomes e idades: {idades.items()}')"
   ]
  },
  {
   "cell_type": "code",
   "execution_count": 46,
   "metadata": {
    "colab": {
     "base_uri": "https://localhost:8080/"
    },
    "executionInfo": {
     "elapsed": 4,
     "status": "ok",
     "timestamp": 1671907578324,
     "user": {
      "displayName": "Rodrigo Celso de Lima Porto",
      "userId": "00317348114914252656"
     },
     "user_tz": 180
    },
    "id": "WvhC1jrcc1M9",
    "outputId": "2b6c1279-4faf-479b-8df9-0bd2b051e1fd"
   },
   "outputs": [
    {
     "name": "stdout",
     "output_type": "stream",
     "text": [
      "Idades: {'Octávio': 23, 'Beatriz': 20, 'Mateus': 13, 'Felipa': 15}\n",
      "Existe alguma Ana no dicionário?: Não\n"
     ]
    }
   ],
   "source": [
    "del idades['Ana']\n",
    "print(f'Idades: {idades}')\n",
    "print(f'Existe alguma Ana no dicionário?: {idades.get(\"Ana\", \"Não\")}')"
   ]
  },
  {
   "cell_type": "markdown",
   "metadata": {
    "id": "vsm9j6c9dU4e"
   },
   "source": [
    "Para adicionar um novo valor em um dicionário, basta atribuir o valor a uma nova chave no dicionário, como exemplificado a seguir: "
   ]
  },
  {
   "cell_type": "code",
   "execution_count": 47,
   "metadata": {
    "colab": {
     "base_uri": "https://localhost:8080/"
    },
    "executionInfo": {
     "elapsed": 225,
     "status": "ok",
     "timestamp": 1671907753023,
     "user": {
      "displayName": "Rodrigo Celso de Lima Porto",
      "userId": "00317348114914252656"
     },
     "user_tz": 180
    },
    "id": "FkBJ6Dpfd18T",
    "outputId": "cbce5d8a-0a5b-4214-c574-3f1d6324edc8"
   },
   "outputs": [
    {
     "name": "stdout",
     "output_type": "stream",
     "text": [
      "{'Octávio': 23, 'Beatriz': 20, 'Mateus': 13, 'Felipa': 15, 'Pedro': 30}\n"
     ]
    }
   ],
   "source": [
    "idades['Pedro'] = 30\n",
    "print(idades)"
   ]
  },
  {
   "cell_type": "markdown",
   "metadata": {
    "id": "mgziOv_3yHUe"
   },
   "source": [
    "---\n",
    "---\n",
    "# ESTRUTURA DE SELEÇÃO `if`-`else`\n",
    "---\n",
    "---\n",
    "\n",
    "<p align=justify>\n",
    "&emsp; A estrutura <code><font color='#C586C0'>if-else</font></code> serve para determinar que um certo trecho do código seja executado caso a condição definida pelo <code><font color='#C586C0'>if</font></code> seja verdadeira. Neste caso, caso tenha sido definido, o trecho escrito no escopo do <code><font color='#C586C0'>else</font></code> é ignorado e prossegue a execução do código. Caso contrário, o trecho dentro do escopo do <code><font color='#C586C0'>if</font></code> é ignorado e o escopo do <code><font color='#C586C0'>else</font></code> é executado, caso ele tenha sido definido.\n",
    "<br>\n",
    "&emsp; Para o exemplo a seguir, vamos usar a função <code><font color='#DCDCAA'>input</font>()</code>, que permite ao usuário atribuir valores às variáveis manualmente, durante a execução do código. Nele, é possível passar como argumento a mensagem de texto que será exibida no momento em que o programa requisitar ao usuário a entrada de valores para dar prosseguimento à sua execução. Com, por padrão, o dado informado é armazenado como <code><font color='#4EC9B0'>str</font></code>, será necessário usar funções conversoras quando queremos que o usuário informe dados que não sejam textos (ou que não queiramos que seja entendido como texto), tais como <code><font color='#4EC9B0'>int</font>()</code>, <code><font color='#4EC9B0'>float</font>()</code>, <code><font color='#4EC9B0'>bool</font>()</code> ou vários outros que já vimos no tópico sobre VARIÁVEIS E ESTRUTURAS DE DADOS.\n",
    "</p>"
   ]
  },
  {
   "cell_type": "code",
   "execution_count": 48,
   "metadata": {
    "colab": {
     "base_uri": "https://localhost:8080/"
    },
    "executionInfo": {
     "elapsed": 7141,
     "status": "ok",
     "timestamp": 1672012522980,
     "user": {
      "displayName": "Rodrigo Celso de Lima Porto",
      "userId": "00317348114914252656"
     },
     "user_tz": 180
    },
    "id": "d8rWRKPxsL9b",
    "outputId": "1d4e63da-a93f-4b30-a6ca-8f3248451ee9"
   },
   "outputs": [
    {
     "name": "stdout",
     "output_type": "stream",
     "text": [
      "Seu salário é de R$ 10.00\n"
     ]
    }
   ],
   "source": [
    "salario = float(input('Informe o seu salário: '))\n",
    "\n",
    "if salario < 0:\n",
    "  salario = float(input('Valor inválido!\\nPor favor, digite novamente: '))\n",
    "\n",
    "print(f'Seu salário é de R$ {salario:.2f}')"
   ]
  },
  {
   "cell_type": "code",
   "execution_count": 49,
   "metadata": {
    "colab": {
     "base_uri": "https://localhost:8080/"
    },
    "executionInfo": {
     "elapsed": 4953,
     "status": "ok",
     "timestamp": 1672012185358,
     "user": {
      "displayName": "Rodrigo Celso de Lima Porto",
      "userId": "00317348114914252656"
     },
     "user_tz": 180
    },
    "id": "VXTY-XsUqKza",
    "outputId": "2d63c3e8-4312-4d72-85c1-1553257ec8f8"
   },
   "outputs": [
    {
     "name": "stdout",
     "output_type": "stream",
     "text": [
      "É maior de idade\n"
     ]
    }
   ],
   "source": [
    "idade = int(input('Informe a sua idade, por favor: '))\n",
    "\n",
    "if idade >= 18:\n",
    "  print('É maior de idade')\n",
    "else:\n",
    "  print('É menor de idade')"
   ]
  },
  {
   "cell_type": "markdown",
   "metadata": {
    "id": "NXsxBZeWvWWw"
   },
   "source": [
    "<p align=justify>\n",
    "&emsp; É possível criar estruturas de seleção <b>aninhadas</b>, em que temos estruturas  <code><font color='#C586C0'>if-else</font></code> dentro de estruturas <code><font color='#C586C0'>if-else</font></code>\n",
    "</p>"
   ]
  },
  {
   "cell_type": "code",
   "execution_count": 52,
   "metadata": {
    "colab": {
     "base_uri": "https://localhost:8080/"
    },
    "executionInfo": {
     "elapsed": 3161,
     "status": "ok",
     "timestamp": 1672013360063,
     "user": {
      "displayName": "Rodrigo Celso de Lima Porto",
      "userId": "00317348114914252656"
     },
     "user_tz": 180
    },
    "id": "-CiiP-qEwU4J",
    "outputId": "7f680d30-c1e6-4d1c-8640-1d12ff4e0cf8"
   },
   "outputs": [
    {
     "name": "stdout",
     "output_type": "stream",
     "text": [
      "É um(a) adolescente.\n"
     ]
    }
   ],
   "source": [
    "idade = int(input('Informe a sua idade, por favor: '))\n",
    "\n",
    "if idade >= 18:\n",
    "  print('É maior de idade')\n",
    "else:\n",
    "  if idade >= 12:\n",
    "    print('É um(a) adolescente.')\n",
    "  else:\n",
    "    print('Ainda é uma criança.')"
   ]
  },
  {
   "cell_type": "markdown",
   "metadata": {
    "id": "BTdwaIXMw26H"
   },
   "source": [
    "<p align=justify>\n",
    "&emsp; Porém, uma maneira mais limpa e elegante é usando <code><font color='#C586C0'>elif</font></code> (abreviação de <i>else if</i>) para casos em que a condição anterior não tenha sido atendida.\n",
    "</p>"
   ]
  },
  {
   "cell_type": "code",
   "execution_count": 54,
   "metadata": {
    "id": "UN03bUxpw2RY"
   },
   "outputs": [
    {
     "name": "stdout",
     "output_type": "stream",
     "text": [
      "É um(a) adolescente.\n"
     ]
    }
   ],
   "source": [
    "idade = int(input('Informe a sua idade, por favor: '))\n",
    "\n",
    "if idade >= 50:\n",
    "  print('Já é um(a) senhor(a) de idade.')\n",
    "elif idade >= 30:\n",
    "  print('Já atingiu a meia-idade.')\n",
    "elif idade >= 18:\n",
    "  print('É um(a) adulto.')\n",
    "elif idade >= 12:\n",
    "  print('É um(a) adolescente.')\n",
    "else:\n",
    "  print('Ainda é uma criança.')"
   ]
  },
  {
   "cell_type": "markdown",
   "metadata": {
    "id": "0UsVwPJ0yUfn"
   },
   "source": [
    "---\n",
    "---\n",
    "# ESTRUTURA DE REPETIÇÃO `for`\n",
    "---\n",
    "---\n",
    "\n",
    "<p align=justify>\n",
    "&emsp; A estrutura de repetição <code><font color='#C586C0'>for</font></code> é utilizada quando queremos que um determinado trecho do código seja repetida uma certa quantidade de vezes ou quando queremos iterar sobre uma certa coleção de dados. Ela sempre segue a estrutura <code><font color='#C586C0'>for</font> var <font color='#C586C0'>in</font> lista_de_valores:</code> e geralmente se usa a função <code><font color='#DCDCAA'>range</font>(<font color='#B2CBA5'>início</font>, <font color='#B2CBA5'>fim</font>, <font color='#B2CBA5'>passo</font>)</code> para gerar uma lista de números entre <code><font color='#B2CBA5'>início</font></code> e <code><font color='#B2CBA5'>fim - 1</font></code>, indo de <code><font color='#B2CBA5'>passo</font></code> em <code><font color='#B2CBA5'>passo</font></code>. Se <code><font color='#B2CBA5'>início</font></code> e <code><font color='#B2CBA5'>passo</font></code> forem omitidos, cria-se uma lista de valores desde <code><font color='#B2CBA5'>0</font></code> até <code><font color='#B2CBA5'>fim - 1</font></code>.\n",
    "</p>"
   ]
  },
  {
   "cell_type": "code",
   "execution_count": 55,
   "metadata": {
    "colab": {
     "base_uri": "https://localhost:8080/"
    },
    "executionInfo": {
     "elapsed": 268,
     "status": "ok",
     "timestamp": 1672015404140,
     "user": {
      "displayName": "Rodrigo Celso de Lima Porto",
      "userId": "00317348114914252656"
     },
     "user_tz": 180
    },
    "id": "MJo01lfe2ZrX",
    "outputId": "d484ae6b-9332-4383-b2fb-e504cb127e6c"
   },
   "outputs": [
    {
     "name": "stdout",
     "output_type": "stream",
     "text": [
      "0, 2, 4, 6, 8, 10, 12, 14, 16, 18, 20, 22, 24, 26, 28, 30, 32, 34, 36, 38, 40, 42, 44, 46, 48, 50, 52, 54, 56, 58, 60, 62, 64, 66, 68, 70, 72, 74, 76, 78, 80, 82, 84, 86, 88, 90, 92, 94, 96, 98, 100, "
     ]
    }
   ],
   "source": [
    "for valor in range(101): # range(100) gera a lista [0, 1, ..., 99, 100]\n",
    "  if valor % 2 == 0: # Se valor for par.\n",
    "    print(valor, end=', ') # Este 'end' serve para determinar a string final da impressão."
   ]
  },
  {
   "cell_type": "markdown",
   "metadata": {
    "id": "CkKTH_U3455V"
   },
   "source": [
    "<p align=justify>\n",
    "&emsp; Lembra quando foi falado que conjuntos em Python não possuem índices e, por isso, não seria possível acessar seus elementos indivualmente? Na verdade, é possível acessá-los se usarmos a estrutura <code><font color='#C586C0'>for</font></code>.\n",
    "</p> "
   ]
  },
  {
   "cell_type": "code",
   "execution_count": 56,
   "metadata": {
    "colab": {
     "base_uri": "https://localhost:8080/"
    },
    "executionInfo": {
     "elapsed": 10,
     "status": "ok",
     "timestamp": 1672015860812,
     "user": {
      "displayName": "Rodrigo Celso de Lima Porto",
      "userId": "00317348114914252656"
     },
     "user_tz": 180
    },
    "id": "hMXe-fp35V4G",
    "outputId": "0559791d-64d3-46d7-ae52-24f6134c06ec"
   },
   "outputs": [
    {
     "name": "stdout",
     "output_type": "stream",
     "text": [
      "{1, 3, 5, 7, 9, 11, 13, 15, 17, 19, 21, 23, 25, 27, 29, 31, 33, 35, 37, 39, 41, 43, 45, 47, 49, 51, 53, 55, 57, 59, 61, 63, 65, 67, 69, 71, 73, 75, 77, 79, 81, 83, 85, 87, 89, 91, 93, 95, 97, 99, 101}\n"
     ]
    }
   ],
   "source": [
    "pares = set(range(0, 101, 2))\n",
    "impares = set()\n",
    "\n",
    "for par in pares:\n",
    "  impares.add(par + 1)\n",
    "\n",
    "print(impares)"
   ]
  },
  {
   "cell_type": "markdown",
   "metadata": {
    "id": "dkhgPGthylUv"
   },
   "source": [
    "---\n",
    "---\n",
    "# ESTRUTURA DE REPETIÇÃO `while`\n",
    "---\n",
    "---\n",
    "\n",
    "<p align=justify>\n",
    "&emsp; A estrutura de repetição <code><font color='#C586C0'>while</font></code> serve para repetir um determinado trecho do código enquanto uma condição for verdadeira; caso contrário, o código sai do <i>loop</i> e prossegue o restante do código.\n",
    "</p>"
   ]
  },
  {
   "cell_type": "code",
   "execution_count": 57,
   "metadata": {
    "colab": {
     "base_uri": "https://localhost:8080/"
    },
    "executionInfo": {
     "elapsed": 3479,
     "status": "ok",
     "timestamp": 1672017271973,
     "user": {
      "displayName": "Rodrigo Celso de Lima Porto",
      "userId": "00317348114914252656"
     },
     "user_tz": 180
    },
    "id": "NW9Uqayn6_6N",
    "outputId": "8702c60a-07fc-4bba-fb7e-075aaf37e4b4"
   },
   "outputs": [
    {
     "name": "stdout",
     "output_type": "stream",
     "text": [
      "O fatorial de 8 é 40320\n"
     ]
    }
   ],
   "source": [
    "valor = int(input('Digite um inteiro para calcular seu fatorial: '))\n",
    "fatorial, i = valor, valor\n",
    "\n",
    "while i > 1:\n",
    "  i = i - 1\n",
    "  fatorial = fatorial * i\n",
    "\n",
    "print(f'O fatorial de {valor:n} é {fatorial:n}')"
   ]
  },
  {
   "cell_type": "markdown",
   "metadata": {
    "id": "JiJlUEm--MoU"
   },
   "source": [
    "<p align=justify>\n",
    "&emsp; Uma forma de melhorar o código anterior é susbtituir as linhas <code>i = i - <font color='#B2CBA5'>1</font></code> e <code>fatorial = fatorial * i</code> por <code>i -= <font color='#B2CBA5'>1</font></code> e <code>fatorial *= i</code>, respectivamente.\n",
    "<br>\n",
    "&emsp; É sempre possível fazer isso quando uma variável recebe ela mesma e é aplicado uma operação aritmética sobre ela. Destarte, é possível escrever as seguintes linhas de código:\n",
    "\n",
    "<ul>\n",
    "<li>\n",
    "<code>var += expressão</code> é o mesmo que <code>var = var + expressão</code>\n",
    "</li>\n",
    "\n",
    "<li>\n",
    "<code>var -= expressão</code> é o mesmo que <code>var = var - expressão</code>\n",
    "</li>\n",
    "\n",
    "<li>\n",
    "<code>var *= expressão</code> é o mesmo que <code>var = var * expressão</code>\n",
    "</li>\n",
    "\n",
    "<li>\n",
    "<code>var /= expressão</code> é o mesmo que <code>var = var / expressão</code>\n",
    "</li>\n",
    "\n",
    "<li>\n",
    "<code>var //= expressão</code> é o mesmo que <code>var = var // expressão</code>\n",
    "</li>\n",
    "\n",
    "<li>\n",
    "<code>var %= expressão</code> é o mesmo que <code>var = var % expressão</code>\n",
    "</li>\n",
    "\n",
    "<li>\n",
    "<code>var **= expressão</code> é o mesmo que <code>var = var ** expressão</code>\n",
    "</li>\n",
    "\n",
    "</ul>\n",
    "</p>"
   ]
  },
  {
   "cell_type": "code",
   "execution_count": 58,
   "metadata": {
    "colab": {
     "base_uri": "https://localhost:8080/"
    },
    "executionInfo": {
     "elapsed": 4330,
     "status": "ok",
     "timestamp": 1672017302506,
     "user": {
      "displayName": "Rodrigo Celso de Lima Porto",
      "userId": "00317348114914252656"
     },
     "user_tz": 180
    },
    "id": "S19FBrYB_Kuk",
    "outputId": "2d269b39-6c0f-4530-edf0-220d4ca42d5d"
   },
   "outputs": [
    {
     "name": "stdout",
     "output_type": "stream",
     "text": [
      "O fatorial de 5 é 120\n"
     ]
    }
   ],
   "source": [
    "valor = int(input('Digite um inteiro para calcular seu fatorial: '))\n",
    "fatorial, i = valor, valor\n",
    "\n",
    "while i > 1:\n",
    "  i -= 1\n",
    "  fatorial *= i\n",
    "\n",
    "print(f'O fatorial de {valor:n} é {fatorial:n}')"
   ]
  },
  {
   "cell_type": "markdown",
   "metadata": {
    "id": "x-ynprpaypq2"
   },
   "source": [
    "---\n",
    "---\n",
    "# DEFININDO FUNÇÕES\n",
    "---\n",
    "---\n",
    "\n",
    "<p align=justify>\n",
    "&emsp; As funções em Python são definidas usando a sintaxe <code><font color='#569CD6'>def</font> nome_da_funcao(arg1, arg2, ..., argN):</code> e ao final da sua execução, usa-se o comando <code><font color='#C586C0'>return</font></code> para retorna a saída da função.\n",
    "</p>"
   ]
  },
  {
   "cell_type": "code",
   "execution_count": 59,
   "metadata": {
    "colab": {
     "base_uri": "https://localhost:8080/"
    },
    "executionInfo": {
     "elapsed": 330,
     "status": "ok",
     "timestamp": 1672019078919,
     "user": {
      "displayName": "Rodrigo Celso de Lima Porto",
      "userId": "00317348114914252656"
     },
     "user_tz": 180
    },
    "id": "0WPRyxzsyTLR",
    "outputId": "eab55e5e-6db4-48f7-d258-da1a66af83c7"
   },
   "outputs": [
    {
     "name": "stdout",
     "output_type": "stream",
     "text": [
      "3628800\n"
     ]
    }
   ],
   "source": [
    "def fatorial(num):\n",
    "  \n",
    "  num = int(num)\n",
    "\n",
    "  if num < 0:\n",
    "    return None\n",
    "  elif num == 0:\n",
    "    return 1\n",
    "  else:\n",
    "    i = num\n",
    "    while i > 1:\n",
    "      i -= 1\n",
    "      num *= i\n",
    "    return num\n",
    "\n",
    "print(fatorial(10))"
   ]
  },
  {
   "cell_type": "markdown",
   "metadata": {
    "id": "yK5q-s-JG1oa"
   },
   "source": [
    "<p align=justify>\n",
    "&emsp; Um aspecto a se ter ciência quando estamos lidando com funções são os conceitos de <b>escopo global</b> e <b>escopo local</b>. As variáveis que são declaradas no escopo global de um código podem ser acessadas e manipuladas em qualquer parte do código. No entanto, variáveis que são declaradas em um escopo local de uma função, por exemplo, só existem neste escopo, não podendo ser acessadas ou manipuladas no escopo global ou em um outro escopo local.\n",
    "</p>"
   ]
  },
  {
   "cell_type": "code",
   "execution_count": 63,
   "metadata": {
    "colab": {
     "base_uri": "https://localhost:8080/"
    },
    "executionInfo": {
     "elapsed": 286,
     "status": "ok",
     "timestamp": 1672019582725,
     "user": {
      "displayName": "Rodrigo Celso de Lima Porto",
      "userId": "00317348114914252656"
     },
     "user_tz": 180
    },
    "id": "j3z1cRazF2FQ",
    "outputId": "d776116c-4c87-40f0-a88f-6c32ba2e7a9c"
   },
   "outputs": [
    {
     "name": "stdout",
     "output_type": "stream",
     "text": [
      "z local = 30\n",
      "c = 30\n",
      "z = 100\n"
     ]
    }
   ],
   "source": [
    "z = 100 # declarando a variável global z\n",
    "\n",
    "def soma(x, y):\n",
    "  z = x + y # Criando a variável local z\n",
    "  print(f'z local = {z}')\n",
    "  return z\n",
    "\n",
    "a, b = 10, 20\n",
    "c = soma(a, b)\n",
    "\n",
    "print(f'c = {c}')\n",
    "print(f'z = {z}')"
   ]
  },
  {
   "cell_type": "markdown",
   "metadata": {
    "id": "NHjAGrQMIkHg"
   },
   "source": [
    "<p align=justify>\n",
    "&emsp; No último exemplo, é possível perceber que o <code>z</code> que se encontra dentro da função <code><font color='#DCDCAA'>soma</font>()</code> não possui qualquer relação com o <code>z</code> declarado no escopo global do código, pois são considerados variáveis diferentes pelo interpretador.\n",
    "<br>\n",
    "&emsp; Além disso, as variáveis <code>a</code> e <code>b</code> ocuparam os lugares dos argumentos <code>x</code> e <code>y</code> definidos no escopo da função <code><font color='#DCDCAA'>soma</font>()</code>, enquanto o <code>c</code> recebeu o retorno de <code><font color='#DCDCAA'>soma</font>(a,b)</code>, que não possui o mesmo valor da variável <code>z</code> definida globalmente, o que mais uma vez mostra que a declaração em escopos distintos faz com que as variáveis <code>z</code> sejam consideradas variáveis diferentes.\n",
    "<br>\n",
    "</p>"
   ]
  },
  {
   "cell_type": "markdown",
   "metadata": {
    "id": "9tyUgNrtMx6n"
   },
   "source": [
    "---\n",
    "---\n",
    "# REFERÊNCIAS\n",
    "---\n",
    "---\n",
    "\n",
    "<ol>\n",
    "<li>\n",
    "FILHO, Dante Corbucci; FERNANDES, Leandro A. F. Mateiriais e aula disponíveis no <a href='http://www.ic.uff.br/~fabio/python_arquivos'>site do Instituto de Computação da UFF</a>.\n",
    "</li>\n",
    "\n",
    "<li>\n",
    "SOUSA, Álan Crístoffer e. Curso Básico de Python 3. CEFET/MG. 2017. Disponível em: <a href='https://acristoffers.me/Python3.pdf'>https://acristoffers.me/Python3.pdf</a>.\n",
    "</li>\n",
    "\n",
    "<li>\n",
    "SUNDNES, Joakim. Introduction to Scientific Programming with Python. Simula SpringerBriefs on Computing, volume 6. 2020. Disponível em: <a href='https://link.springer.com/book/10.1007/978-3-030-50356-7'>https://link.springer.com/book/10.1007/978-3-030-50356-7</a>.\n",
    "</li>\n",
    "</ol>\n"
   ]
  }
 ],
 "metadata": {
  "colab": {
   "authorship_tag": "ABX9TyNLh6E6dIWKLskq1uJkcyiw",
   "provenance": []
  },
  "kernelspec": {
   "display_name": "Python 3",
   "language": "python",
   "name": "python3"
  },
  "language_info": {
   "codemirror_mode": {
    "name": "ipython",
    "version": 3
   },
   "file_extension": ".py",
   "mimetype": "text/x-python",
   "name": "python",
   "nbconvert_exporter": "python",
   "pygments_lexer": "ipython3",
   "version": "3.11.9"
  }
 },
 "nbformat": 4,
 "nbformat_minor": 0
}
