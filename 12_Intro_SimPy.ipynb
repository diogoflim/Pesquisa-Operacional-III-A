{
 "cells": [
  {
   "cell_type": "markdown",
   "metadata": {},
   "source": [
    "[![Open In Colab](https://colab.research.google.com/assets/colab-badge.svg)](https://colab.research.google.com/github/diogoflim/Pesquisa-Operacional-III-A/blob/main/12_Intro_SimPy.ipynb)"
   ]
  },
  {
   "cell_type": "markdown",
   "metadata": {},
   "source": [
    "## **Pesquisa Operacional III-A**\n",
    "\n",
    "**Professor:**\n",
    "- Diogo Ferreira de Lima Silva (TEP-UFF)\n"
   ]
  },
  {
   "attachments": {},
   "cell_type": "markdown",
   "metadata": {},
   "source": [
    "# SimPy\n",
    "\n",
    "A biblioteca SimPy apresenta um framework útil para simular o funcionamento de processos em Python. \n",
    "\n",
    "O usuário ganha grande liberdade para modelar processos específicos de sua organização. \n",
    "\n",
    "Além disso, pode integrar ao modelo as inúmeras bibliotecas existentes em python para Estatística, Ciência de Dados, Aprendeizado de Máquina, Otimização, etc."
   ]
  },
  {
   "attachments": {},
   "cell_type": "markdown",
   "metadata": {},
   "source": [
    "## Importando o SimPy\n",
    "\n",
    "Se estiver trabalhando localmente, uma vez instalado o Python, você deverá instalar a biblioteca SimPy antes de importá-la. \n",
    "\n",
    "- Isso pode ser feito com o comando: **pip install simpy**\n",
    "\n",
    "No caso do Googlo Colab: **!pip install simpy**\n",
    "\n",
    "Uma vez instalada, podemos importar a biblioteca normalmente simplesmente com: **import simpy**. "
   ]
  },
  {
   "cell_type": "code",
   "execution_count": null,
   "metadata": {},
   "outputs": [],
   "source": [
    "!pip install simpy"
   ]
  },
  {
   "cell_type": "code",
   "execution_count": null,
   "metadata": {},
   "outputs": [],
   "source": [
    "import simpy\n",
    "import numpy as np\n",
    "import random"
   ]
  },
  {
   "cell_type": "markdown",
   "metadata": {},
   "source": [
    "Seu computador não gera números verdadeiramente aleatórios, mas sim, pseudoaleatórios.\n",
    "\n",
    "Vamos \"travar\" a semente de geração desses números. Assim, resultados poderão ser reproduzidos no futuro.\n"
   ]
  },
  {
   "cell_type": "code",
   "execution_count": null,
   "metadata": {},
   "outputs": [],
   "source": [
    "random.seed(10)"
   ]
  },
  {
   "attachments": {},
   "cell_type": "markdown",
   "metadata": {},
   "source": [
    "# Um exemplo simples: Pomodoro\n",
    "\n",
    "Com o intuito de aumentar sua produtividade, um estudante resolve seguir a recomendação de uma colega: a metodologia Pomodoro.\n",
    "\n",
    "- Ele fará alternadamente intervalos de trabalho e pausa (descanso, café, água, banheiro) durante o dia.\n",
    "\n",
    "    - O tempo até a próxima parada para descanso (tempo de trabalho) segue uma distribuição uniforme que varia entre 24 e 26 minutos.\n",
    "    - As pausas seguem uma exponencial de média 5 minutos.\n",
    "\n",
    "Vamos modelar o funcionamento desse processo por 8 horas de trabalho e imprimir em nossa tela sempre que um evento (pausa ou trabalho) for iniciado."
   ]
  },
  {
   "attachments": {},
   "cell_type": "markdown",
   "metadata": {},
   "source": [
    "## Criando um ambiente de simulação\n",
    "\n",
    "\n",
    "O primeiro passo será criar um ambiente (environment) no SimPy. "
   ]
  },
  {
   "cell_type": "code",
   "execution_count": null,
   "metadata": {},
   "outputs": [],
   "source": [
    "# Criando uma instância de ambiente do simpy e armazenando em env\n",
    "\n",
    "env = simpy.Environment()"
   ]
  },
  {
   "attachments": {},
   "cell_type": "markdown",
   "metadata": {},
   "source": [
    "Nosso processo possui duas atividades (subprocessos): **trabalhar** e **descansar**. \n",
    "\n",
    "A próxima etapa é criar uma **função generadora** (tipo especial de função) para simular o funcionamento dessas atividades. "
   ]
  },
  {
   "attachments": {},
   "cell_type": "markdown",
   "metadata": {},
   "source": [
    "### Modelando o Processo"
   ]
  },
  {
   "cell_type": "code",
   "execution_count": null,
   "metadata": {},
   "outputs": [],
   "source": [
    "# Criaremos um gerador de nome pomodoro \n",
    "\n",
    "def pomodoro ():\n",
    "    pass "
   ]
  },
  {
   "attachments": {},
   "cell_type": "markdown",
   "metadata": {},
   "source": [
    "Por enquanto, não passamos nada para nosso gerador. \n",
    "\n",
    "Os parâmetros que ele irá receber devem incluir o ambiente criado no simpy. \n",
    "\n",
    "Vamos também passar como parâmetro o nome do estudante."
   ]
  },
  {
   "cell_type": "code",
   "execution_count": null,
   "metadata": {},
   "outputs": [],
   "source": [
    "# Os inputs de uma função em Python são passados entre parênteses após o nome da função\n",
    "def Pomodoro (environment, nome):\n",
    "    pass "
   ]
  },
  {
   "attachments": {},
   "cell_type": "markdown",
   "metadata": {},
   "source": [
    "Agora, podemos trabalhar nas atividades que farão parte do nosso processo: **trabalhar** e **descansar**.\n",
    "\n",
    "Para isso, usaremos o **yield** e os métodos **now** e **timeout** do simpy.\n",
    "\n",
    "- O **yield** é usado em uma função geradora (em detrimento do **return** numa função normal). \n",
    "\n",
    "-No **yield**, guardamos um iterador (no nosso caso será o tempo de início de cada evento) que poderá ser retomado no futuro e usado em outro chamado da função geradora. \n",
    "\n",
    "- O método **now** do SimPy retorna o tempo de simulação no nosso ambiente enquanto o **timeout** avisa à simulação para percorrer um tempo."
   ]
  },
  {
   "cell_type": "code",
   "execution_count": null,
   "metadata": {},
   "outputs": [],
   "source": [
    "def pomodoro (environment, nome):\n",
    "    \n",
    "    # enquanto a simulação estiver ocorrendo\n",
    "    while True:\n",
    "        \n",
    "        # imprima na tela o tempo de início do evento e depois percorra um tempo random.uniform(24, 26)\n",
    "        print (f\"{nome} inicia trabalho no tempo {environment.now}\")\n",
    "        yield environment.timeout(random.uniform(24,26))\n",
    "\n",
    "        # imprima na tela o tempo de início do evento e depois percorra um tempo random.expovariate(1/média)\n",
    "        print (f\"{nome} inicia descanso no tempo {environment.now}\")\n",
    "        yield environment.timeout(random.expovariate(1/5)) # passamos a taxa ($\\lambda$) como parâmetro da distribuição."
   ]
  },
  {
   "attachments": {},
   "cell_type": "markdown",
   "metadata": {},
   "source": [
    "Nosso gerador \"pomodoro\" ainda não é visto como um processo do nosso environment no SimPy. \n",
    "\n",
    "O próximo passo é instanciar nosso processo usando o simpy.Environment.process. \n",
    "\n",
    "No nosso caso, já temos o ambiente **env**. Assim, faremos simplesmente **env.process**."
   ]
  },
  {
   "cell_type": "code",
   "execution_count": null,
   "metadata": {},
   "outputs": [],
   "source": [
    "# Instância do processo\n",
    "env.process(pomodoro(env, \"Will_Smith\"))"
   ]
  },
  {
   "attachments": {},
   "cell_type": "markdown",
   "metadata": {},
   "source": [
    "Agora, vamos rodar o nosso processo até o minuto 480, ou seja, simularemos 8h de trabalho."
   ]
  },
  {
   "cell_type": "code",
   "execution_count": null,
   "metadata": {},
   "outputs": [],
   "source": [
    "env.run (until = 480)"
   ]
  },
  {
   "attachments": {},
   "cell_type": "markdown",
   "metadata": {},
   "source": [
    "# Modelando um Processo com Várias Atividades"
   ]
  },
  {
   "attachments": {},
   "cell_type": "markdown",
   "metadata": {},
   "source": [
    "Agora vamos modelar um processo um pouco mais complexo. Teremos chegadas de clientes em um serviço composto por três atividades: A, B e C.\n",
    "\n",
    "-  Um processo de chegadas inicializa a cada chegada de um cliente. O tempo entre chegadas segue uma distribuição Exponencial com média de 5 minutos. \n",
    "     \n",
    "$$\\frac{1}{\\lambda}=5 \\rightarrow \\lambda = 0,2$$ \n",
    "\n",
    "- Cada cliente segue o seguinte percurso:\n",
    "    - Serviço A (tempo de processamento 3 min)\n",
    "    - Serviço B (tempo de processamento de 8 min)\n",
    "    - Serviço C (tempo de processamento segue uma distribuição exponencial com média 5min)"
   ]
  },
  {
   "attachments": {},
   "cell_type": "markdown",
   "metadata": {},
   "source": [
    "Para a realização dos serviços, precisamos de recursos. Por exemplo, atendentes, caixas, etc. \n",
    "\n",
    "Chamaremos os recursos de:\n",
    "\n",
    "- colaborador_A\n",
    "- colaborador_B\n",
    "- colaborador_C\n",
    "\n",
    "Para isso, utilizaremos **recursos** do SimPy, criados com **resource_name = env.Resource (env, capacity)**."
   ]
  },
  {
   "attachments": {},
   "cell_type": "markdown",
   "metadata": {},
   "source": [
    "Um cliente deve esperar até que o recurso esteja disponível. Para modelar isso, usaremos o **resource_name.request()**"
   ]
  },
  {
   "attachments": {},
   "cell_type": "markdown",
   "metadata": {},
   "source": [
    "### Função Geradora"
   ]
  },
  {
   "cell_type": "code",
   "execution_count": null,
   "metadata": {},
   "outputs": [],
   "source": [
    "# Função geradora receberá, além do ambiente e do nome do cliente, os recursos.\n",
    "\n",
    "def salao (environment, nome, colaborador_A, colaborador_B, colaborador_C):\n",
    "    \n",
    "    # imprimimos na tela quando um cliente chega no estabelecimento       \n",
    "    print (f\"{nome} chega no estabelecimento em {environment.now}\")\n",
    "    \n",
    "    # Serviço A\n",
    "    # Ao chegar, o cliente deve esperar o recurso do primeiro serviso\n",
    "\n",
    "    with colaborador_A.request() as req_A:\n",
    "        yield req_A # o cliente deve esperar um recurso do tipo colaborador_A\n",
    "        #print (f\"{nome} inicia A em {env.now}\") # imprima na tela o tempo de início\n",
    "        yield environment.timeout(3) # O serviço demora exatamente 3 minutos.\n",
    "        #print (f\"{nome} finaliza A em {env.now}\")\n",
    "\n",
    "    \n",
    "    # Serviço B\n",
    "    with colaborador_B.request() as req_B:\n",
    "        yield req_B\n",
    "        #print (f\"{nome} inicia B em {env.now}\")\n",
    "        yield environment.timeout(8) # O serviço B demora exatamente 8 minutos.\n",
    "        #print (f\"{nome} finaliza B em {env.now}\")\n",
    "    \n",
    "    # Serviço C\n",
    "    with colaborador_C.request() as req_C:\n",
    "        yield req_C\n",
    "        #print (f\"{nome} inicia C em {env.now}\")\n",
    "        yield environment.timeout(random.expovariate(1/5)) # O tempo de serviço em C segue uma exponencial de média 5.\n",
    "    \n",
    "    print (f\"{nome} sai do estabelecimento em {environment.now}\")\n",
    "\n",
    "    "
   ]
  },
  {
   "attachments": {},
   "cell_type": "markdown",
   "metadata": {},
   "source": [
    "### Definindo o ambiente"
   ]
  },
  {
   "cell_type": "code",
   "execution_count": null,
   "metadata": {},
   "outputs": [],
   "source": [
    "env_salao = simpy.Environment()"
   ]
  },
  {
   "attachments": {},
   "cell_type": "markdown",
   "metadata": {},
   "source": [
    "### Instanciando os tipos de recurso em nosso ambiente e suas capacidades"
   ]
  },
  {
   "cell_type": "code",
   "execution_count": null,
   "metadata": {},
   "outputs": [],
   "source": [
    "colab_A = simpy.Resource(env_salao, capacity=1)\n",
    "colab_B = simpy.Resource(env_salao, capacity=1)\n",
    "colab_C = simpy.Resource(env_salao, capacity=1)"
   ]
  },
  {
   "attachments": {},
   "cell_type": "markdown",
   "metadata": {},
   "source": [
    "## Processo de Chegadas\n"
   ]
  },
  {
   "attachments": {},
   "cell_type": "markdown",
   "metadata": {},
   "source": [
    "Vamos considerar que o nosso processo de chegadas é um processo de Poisson, com $\\lambda = 0,2$ clientes/minuto;\n",
    "\n",
    "Assim, o tempo entre chegadas segue uma distribuição exponencial de média $1/\\lambda = 5$ minutos.\n",
    "\n",
    "Vamos criar nosso processo de chegadas:"
   ]
  },
  {
   "cell_type": "code",
   "execution_count": null,
   "metadata": {},
   "outputs": [],
   "source": [
    "def chegadas (environment):\n",
    "    i=1 # número que será usado na contagem e nomeação dos clientes    \n",
    "    # Enquanto a simulação ocorrer\n",
    "    while True:\n",
    "        # gere um número de nossa distribuição \n",
    "        yield environment.timeout(random.expovariate(1/5))\n",
    "        # Um cliente entra no processo! Seu nome será \"Cliente i\"\n",
    "        environment.process(salao (environment, 'Cliente %d' % i, colab_A, colab_B, colab_C))        \n",
    "        i+=1 # i = i+1"
   ]
  },
  {
   "attachments": {},
   "cell_type": "markdown",
   "metadata": {},
   "source": [
    "Pronto, agora basta rodar nossa simulação."
   ]
  },
  {
   "cell_type": "code",
   "execution_count": null,
   "metadata": {},
   "outputs": [],
   "source": [
    "env_salao.process(chegadas(env_salao)) # Instanciando o processo com a função de chegadas.\n",
    "\n",
    "env_salao.run(until=480)"
   ]
  },
  {
   "attachments": {},
   "cell_type": "markdown",
   "metadata": {},
   "source": [
    "Ótimo, já modelamos 2 processos!\n",
    " \n",
    "Porém, não estamos guardando informações para calcular estatísticas que nos interessem."
   ]
  },
  {
   "cell_type": "code",
   "execution_count": null,
   "metadata": {},
   "outputs": [],
   "source": [
    "#criando listas vazias\n",
    "tempo_gasto_C = []\n",
    "tempo_esperando_C =[]\n",
    "\n",
    "def salao (environment, nome, colaborador_A, colaborador_B, colaborador_C):\n",
    "    #print (f\"{nome} chega no estabelecimento em {environment.now}\")\n",
    "    # Serviço A\n",
    "    with colaborador_A.request() as req_A:\n",
    "        yield req_A # o cliente deve esperar um recurso do tipo colaborador_A\n",
    "        #print (f\"{nome} inicia A em {environment.now}\") # imprima na tela o tempo de início\n",
    "        yield environment.timeout(3) # O serviço demora exatamente 3 minutos.\n",
    "        #print (f\"{nome} finaliza A em {environment.now}\")\n",
    "    \n",
    "    # Serviço B\n",
    "    with colaborador_B.request() as req_B:\n",
    "        yield req_B\n",
    "        #print (f\"{nome} inicia B em {environment.now}\")\n",
    "        yield environment.timeout(8) # O serviço B demora exatamente 8 minutos.\n",
    "        #print (f\"{nome} finaliza B em {environment.now}\")\n",
    "\n",
    "        acaba_B = environment.now\n",
    "\n",
    "    # Serviço C\n",
    "    with colaborador_C.request() as req_C:\n",
    "        yield req_C\n",
    "        #print (f\"{nome} inicia C em {environment.now}\")\n",
    "        \n",
    "        p_inicio = environment.now\n",
    "        yield environment.timeout(random.expovariate(1/5)) # O tempo de serviço em C segue uma exponencial de média 5.\n",
    "        p_fim = environment.now\n",
    "\n",
    "        tempo_gasto_C.append(p_fim - p_inicio)\n",
    "        tempo_esperando_C.append(p_inicio - acaba_B)\n",
    "        \n",
    "    #print (f\"{nome} sai do estabelecimento em {environment.now}\")\n",
    "    print (f\"{nome} esperou {p_inicio - acaba_B} na fila da atividade C\")\n",
    "    print (f\"{nome} gastou {p_fim - p_inicio} na atividade C\")\n",
    "\n",
    "\n",
    "def chegadas (env):\n",
    "    i=1 # número que será usado na contagem e nomeação dos clientes\n",
    "    # Enquanto a simulação ocorrer\n",
    "    while True:\n",
    "        # gere um número de nossa distribuição \n",
    "        yield env.timeout(random.expovariate(1/5))\n",
    "        # Um cliente entra no processo! Seu nome será \"Cliente i\"\n",
    "        env.process(salao (env, 'Cliente %d' % i, colab_A, colab_B, colab_C))\n",
    "        i+=1 # i = i+1\n"
   ]
  },
  {
   "cell_type": "code",
   "execution_count": null,
   "metadata": {},
   "outputs": [],
   "source": [
    "env_salao_alterado = simpy.Environment()\n",
    "colab_A = simpy.Resource(env_salao_alterado, capacity=1)\n",
    "colab_B = simpy.Resource(env_salao_alterado, capacity=1)\n",
    "colab_C = simpy.Resource(env_salao_alterado, capacity=1)\n",
    "env_salao_alterado.process(chegadas(env_salao_alterado))\n",
    "env_salao_alterado.run(until = 6000)"
   ]
  },
  {
   "cell_type": "code",
   "execution_count": null,
   "metadata": {},
   "outputs": [],
   "source": [
    "print(f\"Em média, um cliente o serviço C dura {np.mean(tempo_gasto_C)} minutos\")\n",
    "print(f\"Em média, um cliente espera {np.mean(tempo_esperando_C)} minutos pelo serviço C\")"
   ]
  },
  {
   "attachments": {},
   "cell_type": "markdown",
   "metadata": {},
   "source": [
    "---\n"
   ]
  },
  {
   "attachments": {},
   "cell_type": "markdown",
   "metadata": {},
   "source": [
    "# Exercício 1\n",
    "\n",
    "\n",
    "**Hospital Municipal**\n",
    "\n",
    "O administrador de um hospital concluiu que os casos de emergência chegam, em sua maioria, de forma aleatória (um processo de entrada de Poisson), de modo que os tempos entre atendimentos possuem uma distribuição exponencial.\n",
    "\n",
    "Ele também concluiu que o tempo gasto por um médico tratando os casos segue, aproximadamente, uma distribuição exponencial. \n",
    "\n",
    "Ele optou pelo modelo M/M/1 para um estudo preliminar desse sistema de filas.\n",
    "\n",
    "Projetando para o ano que vem os dados disponíveis para o turno do início da noite, ele estima que os pacientes chegarão em uma taxa média de 1 a cada 1/2 hora. O médico responsável demora em média de 20 minutos para atender cada paciente. \n",
    "\n",
    "Portanto, com uma hora sendo a unidade de tempo, temos:\n",
    "\n",
    "- $\\lambda = 2$ clientes por hora.\n",
    "\n",
    "- $\\mu = 3$ clientes por hora.\n",
    "\n",
    "Modele o processo e calcule o tempo médio que um cliente passa em fila.\n",
    "\n",
    "O resultado está próximo do esperado pela fórmula? \n",
    "\n",
    "$$\\frac{\\lambda}{\\mu(\\mu - \\lambda)} = 2/3 = 0,6667$$\n"
   ]
  },
  {
   "cell_type": "code",
   "execution_count": null,
   "metadata": {},
   "outputs": [],
   "source": [
    "random.seed(20)\n",
    "\n",
    "espera = [] # lista inicialmente vazia\n",
    "def hospital (environment, paciente, medico):\n",
    "    \n",
    "    # 1 - na célula abaixo, guarde o momento em que um paciente chega no hospital  \n",
    "    chegou = \n",
    "    \n",
    "    with medico.request() as req_medico:\n",
    "        \n",
    "        # 2 - Ao chegar, o cliente requisita um médico! \n",
    "        yield \n",
    "        \n",
    "        # 3 - Quanto o cliente esperou? Insira na lista espera abaixo\n",
    "        espera.append(   )\n",
    "        \n",
    "        # 4 - complete o yield abaixo atribuindo a distribuição mencionada no enunciado como tempo de processamento da consulta \n",
    "        yield environment.timeout(   )\n",
    "        \n",
    "\n",
    "\n",
    "def chegadas (environment):\n",
    "    i=1 \n",
    "    while True:\n",
    "        # 5 - complete o yield abaixo. Quanto tempo se passa até o próximo paciente chegar?\n",
    "        yield environment.timeout(    )\n",
    "        \n",
    "        environment.process(hospital (environment, 'Paciente %d' % i, medico))\n",
    "        i+=1\n"
   ]
  },
  {
   "attachments": {},
   "cell_type": "markdown",
   "metadata": {},
   "source": [
    "Para testar o modelo, rode a célula abaixo:"
   ]
  },
  {
   "cell_type": "code",
   "execution_count": null,
   "metadata": {},
   "outputs": [],
   "source": [
    "env_MM1 = simpy.Environment() # cria o ambiente \n",
    "medico = simpy.Resource(env_MM1, capacity=1) # adiciona o recurso \"medico\" ao ambiente, com capacidade = 1.\n",
    "env_MM1.process(chegadas(env_MM1)) # o processamento ocorrerá de acordo com a função chegadas.\n",
    "env_MM1.run(until = 100000) # o modelo será simulado por 100000 horas.\n",
    "\n",
    "\n",
    "np.mean(espera)"
   ]
  },
  {
   "attachments": {},
   "cell_type": "markdown",
   "metadata": {},
   "source": [
    "# Exercício 2"
   ]
  },
  {
   "attachments": {},
   "cell_type": "markdown",
   "metadata": {},
   "source": [
    "### Modelo M/M/3\n",
    "\n",
    "Digamos que agora o hospital possua 3 médicos a disposição em qualquer momento do dia. Além disso, temos as seguintes taxas ao longo do dia:\n",
    "\n",
    "- Taxa de chegadas: $\\lambda = 8$ clientes/hora\n",
    "- Taxa de atendimento de cada médico: $\\mu = 3$ clientes/hora\n",
    "\n",
    "Simule 1 dia de funcionamento desse hospital (como as taxas já estão em clientes/hora, use \"until = 24\"). \n",
    "\n",
    "Qual tamanho tempo médio de espera na fila que vc encontrou?"
   ]
  },
  {
   "cell_type": "code",
   "execution_count": null,
   "metadata": {},
   "outputs": [],
   "source": [
    "# Trabalhe aqui\n",
    "espera_exercicio_Q2 = []\n",
    "def hospital_exercicio (environment, nome, atendente):\n",
    "    chegou = environment.now\n",
    "    with medico.request() as req_medico:\n",
    "        yield req_medico\n",
    "        espera_exercicio_Q2.append(environment.now - chegou)\n",
    "        # EXERCÍCIO: Complete o yield abaixo com a função environment.timeout \n",
    "        yield \n",
    "\n",
    "def chegadas_exercicio (environment):\n",
    "    i=1 \n",
    "    while True:\n",
    "        # EXERCÍCIO: Complete o yield abaixo com a função environment.timeout\n",
    "        yield       \n",
    "        environment.process(hospital_exercicio (environment, 'Paciente %d' % i, medico))\n",
    "        i+=1\n",
    "\n",
    "ambiente_Q2 = simpy.Environment()\n",
    "# EXERCÍCIO: Atribua abaixo uma capacidade para o seu recurso\n",
    "medico = simpy.Resource(ambiente_Q2, capacity = )\n",
    "ambiente_Q2.process(chegadas_exercicio(ambiente_Q2))\n",
    "# EXERCÍCIO: Indique o tempo de simulação abaixo\n",
    "ambiente_Q2.run(until = )\n",
    "\n",
    "import numpy as np\n",
    "print (f\"O tempo de espera médio observado em 24h de simulação foi: {np.mean(espera_exercicio_Q2).round(2)} horas\")"
   ]
  },
  {
   "attachments": {},
   "cell_type": "markdown",
   "metadata": {},
   "source": [
    "## Exercício 3\n",
    "\n",
    "E se fossem apenas 2 médicos para as mesmas taxas do Exercício 2?  \n",
    "\n",
    "Dica: lembre de mudar o nome da variável que você atribuirá o ambiente com o método **simpy.Environment()** para evitar conflito entre os ambientes de simulação.\n",
    "\n",
    "Trabalhe na célula abaixo"
   ]
  },
  {
   "cell_type": "code",
   "execution_count": null,
   "metadata": {},
   "outputs": [],
   "source": []
  }
 ],
 "metadata": {
  "kernelspec": {
   "display_name": "Python 3 (ipykernel)",
   "language": "python",
   "name": "python3"
  },
  "language_info": {
   "codemirror_mode": {
    "name": "ipython",
    "version": 3
   },
   "file_extension": ".py",
   "mimetype": "text/x-python",
   "name": "python",
   "nbconvert_exporter": "python",
   "pygments_lexer": "ipython3",
   "version": "3.9.7"
  },
  "vscode": {
   "interpreter": {
    "hash": "e4cce46d6be9934fbd27f9ca0432556941ea5bdf741d4f4d64c6cd7f8dfa8fba"
   }
  }
 },
 "nbformat": 4,
 "nbformat_minor": 4
}
